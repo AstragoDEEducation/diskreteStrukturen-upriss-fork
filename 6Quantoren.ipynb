{
 "cells": [
  {
   "cell_type": "code",
   "execution_count": null,
   "id": "7f4071a9-9dc5-48d8-872c-1a1f4dd684f9",
   "metadata": {},
   "outputs": [],
   "source": [
    "from utils.discrstruct import *"
   ]
  },
  {
   "cell_type": "markdown",
   "id": "7c4d9178-a7a6-4283-aee5-c56b6ace43d1",
   "metadata": {},
   "source": [
    "Für die untenstehenden Aufgaben werden folgende Mengen definiert:"
   ]
  },
  {
   "cell_type": "code",
   "execution_count": null,
   "id": "fbf10036-80c5-419e-8da6-bbdab3e47bda",
   "metadata": {},
   "outputs": [],
   "source": [
    "zahl = {1,2,3,4,5,6,7,8,9,10}\n",
    "gerade = {2,4,6,8,10}\n",
    "ungerade = {1,3,5,7,9}\n",
    "eins = {17}\n",
    "zwei = {2,3}\n",
    "BeispielMengen = {fs(zahl),fs(ungerade),fs(gerade),fs(eins),fs(zwei)}\n",
    "BeispielMengen"
   ]
  },
  {
   "cell_type": "markdown",
   "id": "63cb49af-86f8-425e-8265-bbe7df085e7b",
   "metadata": {},
   "source": [
    "Zur Erinnerung sind hier noch mal zwei Beispiele von quantifizierten Aussagen in Python:"
   ]
  },
  {
   "cell_type": "code",
   "execution_count": null,
   "id": "b1d98148-9826-438a-9455-67c451d5eb2a",
   "metadata": {},
   "outputs": [],
   "source": [
    "all(x < 3 for x in zwei)\n",
    "any(x < 3 for x in zwei)"
   ]
  },
  {
   "cell_type": "markdown",
   "id": "c8f41f04-9e3a-4b5a-b136-3b654ccf1eb9",
   "metadata": {},
   "source": [
    "<b>Aufgaben</b>\n",
    "\n",
    "Implementieren Sie die folgenden Aussagen. Falls Sie sich nicht sicher sind, konstruieren Sie auch eine entsprechende Menge oder Liste.\n",
    "<ul>\n",
    "    <li>Alle Zahlen in ungerade sind kleiner als 11.\n",
    "    <li>Es gibt eine Zahl in ungerade mit x + 2 = 9.\n",
    "    <li>Alle Zahlen in ungerade sind auch in zahl. (Zur Erinnerung $n \\in M$ entspricht <b>n in M</b> in Python.)\n",
    "</ul>"
   ]
  },
  {
   "cell_type": "code",
   "execution_count": null,
   "id": "f6945de4-3725-4a16-b788-7a6570f5455d",
   "metadata": {},
   "outputs": [],
   "source": []
  },
  {
   "cell_type": "markdown",
   "id": "c7602937-e90e-4b0d-83b1-57ef551c765c",
   "metadata": {},
   "source": [
    "Implementieren Sie jetzt die Negationen der obigen Aussagen:"
   ]
  },
  {
   "cell_type": "code",
   "execution_count": null,
   "id": "e6ead065-e174-4a7d-b377-b8cd937801e3",
   "metadata": {},
   "outputs": [],
   "source": []
  },
  {
   "cell_type": "markdown",
   "id": "0c555e49-3aa8-4471-b52c-d683ac853643",
   "metadata": {},
   "source": [
    "Implementieren Sie auch noch diese Aussagen:\n",
    "<ul>\n",
    "    <li>Mindestens eine der Mengen in BeispielMengen hat 5 Elemente.\n",
    "        (Zur Erinnerung: len(M) ergibt die Anzahl der Elemente in der Menge M.)\n",
    "    <li>Alle Mengen in BeispielMengen haben mindestens 1 Element.\n",
    "</ul>        "
   ]
  },
  {
   "cell_type": "code",
   "execution_count": null,
   "id": "0016776e-1f21-4159-96ea-cbc447ab6dfa",
   "metadata": {},
   "outputs": [],
   "source": [
    "all( len(x) > 0 for x in BeispielMengen)"
   ]
  },
  {
   "cell_type": "markdown",
   "id": "202911d9-96c7-4f08-a572-2d1436ed3b2b",
   "metadata": {},
   "source": [
    "Implementieren Sie jetzt die Negationen der obigen Aussagen:"
   ]
  },
  {
   "cell_type": "code",
   "execution_count": null,
   "id": "d5bf3596-cd98-4619-9e67-1717ddf8de75",
   "metadata": {},
   "outputs": [],
   "source": []
  },
  {
   "cell_type": "markdown",
   "id": "fb63b7bd-a891-404c-9534-9ce264deac21",
   "metadata": {},
   "source": [
    "<b>Mathematische Definitionen in Python<b>\n",
    "\n",
    "Die meisten Definitionen aus dem Lehrbuch legen Eigenschaften fest, die man mit Python überprüfen kann. Hier sind ein paar Beispiele: "
   ]
  },
  {
   "cell_type": "code",
   "execution_count": null,
   "id": "c3ddf80d-538e-4769-a1a4-6c5928799280",
   "metadata": {},
   "outputs": [],
   "source": [
    "def Vereinigung (Universum, Menge1, Menge2):\n",
    "    return {x for x in Universum if x in Menge1 or x in Menge2}\n",
    "def Differenz (Menge1, Menge2):\n",
    "    return {x for x in Menge1 if x not in Menge2}"
   ]
  },
  {
   "cell_type": "markdown",
   "id": "b43590c3-61c0-4f08-a162-9c2ca7e37fb1",
   "metadata": {},
   "source": [
    "Einige Details der dabei verwendeten Schreibweise werden erst im Kapitel \"Funktionen\" erklärt. Wichtig ist im Moment nur, dass hinter <b>return</b> immer eine Menge, Aussage oder eine quantifizierte Aussage steht.\n",
    "Die Definitionen können dann auf Werte angewendet werden:"
   ]
  },
  {
   "cell_type": "code",
   "execution_count": null,
   "id": "34aa0560-0a0b-4153-9b62-61bc2a1b62d0",
   "metadata": {},
   "outputs": [],
   "source": [
    "Vereinigung(zahl,ungerade,gerade)\n",
    "Differenz(zahl,ungerade)"
   ]
  },
  {
   "cell_type": "markdown",
   "id": "99890012-3b3c-4ba2-8f8d-73d4ef63f2ed",
   "metadata": {},
   "source": [
    "Im folgenden Beispiel steht eine quantifizierte Aussage hinter dem <b>return</b>. Die  Definition besagt, dass Schnittmengen kommutativ sind, wenn für alle Mengen gilt, dass $x \\cap y = y \\cap x$ ist."
   ]
  },
  {
   "cell_type": "code",
   "execution_count": null,
   "id": "b83ebb27-9aa2-4a1e-9807-46144b5dd7c5",
   "metadata": {},
   "outputs": [],
   "source": [
    "def SchnittmengeKommutativ (Mengen):\n",
    "    return all (x & y == y & x for x in Mengen for y in Mengen)\n",
    "SchnittmengeKommutativ(BeispielMengen)"
   ]
  },
  {
   "cell_type": "markdown",
   "id": "cc9956b0-806d-4468-a5c3-663a97b1af0a",
   "metadata": {},
   "source": [
    "<b>Aufgaben</b>\n",
    "\n",
    "1. Implementieren Sie eine Definition für ein neutrales Elemente bezüglich Schnittmengen (das neutrale Element soll sowohl rechts als auch links stehen können)."
   ]
  },
  {
   "cell_type": "code",
   "execution_count": null,
   "id": "d9516c88-9683-4c9d-ab42-4d1ed0095e4c",
   "metadata": {},
   "outputs": [],
   "source": [
    "def schnittmengeNeutral (Mengen, neutralesElement):\n",
    "    return TODO"
   ]
  },
  {
   "cell_type": "markdown",
   "id": "1f86344b-3d5e-4437-baa7-3835f4b3755a",
   "metadata": {},
   "source": [
    "Der folgende Code überprüft Ihre Definition. Wieso ist FalschesNeutrElem kein neutrales Element (Ergebnis: False) und RichtigesNeutrElem ist ein neutrales Element (Ergebnis: True)?"
   ]
  },
  {
   "cell_type": "code",
   "execution_count": null,
   "id": "517bb907-9782-424b-b585-5df54ab1a7dd",
   "metadata": {},
   "outputs": [],
   "source": [
    "FalschesNeutrElem = zahl\n",
    "RichtigesNeutrElem = zahl | {17}\n",
    "schnittmengeNeutral(BeispielMengen,FalschesNeutrElem)\n",
    "schnittmengeNeutral(BeispielMengen,RichtigesNeutrElem)"
   ]
  },
  {
   "cell_type": "markdown",
   "id": "3f750baf-0979-4017-9d6b-259f16595224",
   "metadata": {},
   "source": [
    "2. Implementieren Sie eine Definition von \"Teilmenge\" ohne \"$<$=\" zu verwenden."
   ]
  },
  {
   "cell_type": "code",
   "execution_count": null,
   "id": "cc2c238e-b7d8-4188-bc04-0abf61252f4e",
   "metadata": {},
   "outputs": [],
   "source": [
    "def teilmenge (Menge1,Menge2):\n",
    "    return TODO\n",
    "teilmenge(ungerade,zahl)\n",
    "teilmenge(zahl,ungerade)\n",
    "teilmenge(gerade,ungerade)"
   ]
  },
  {
   "cell_type": "markdown",
   "id": "4fb4607f-e5cb-46c7-8afc-6b2f64d88793",
   "metadata": {},
   "source": [
    "<b>Merkwürdige Beispiele</b> \n",
    "\n",
    "Warum ist $\\forall (n \\in \\mathbb{N} \\mid k = n+1)$ eine Kontradiktion und $\\forall (n \\in \\mathbb{N} \\mid k := n+1)$ keine Kontradiktion? Warum ergibt die dritte Zeile True?"
   ]
  },
  {
   "cell_type": "code",
   "execution_count": null,
   "id": "10e3710e-5bc2-490b-b282-7d215a2b6e63",
   "metadata": {},
   "outputs": [],
   "source": [
    "all(k == x + 1 for x in zahl for k in zahl)\n",
    "all(k := x + 1 for x in zahl)\n",
    "all(\"a\" != \"b\" for x in zahl)"
   ]
  },
  {
   "cell_type": "code",
   "execution_count": null,
   "id": "871287ec-8bfa-456d-b806-f5b61b399dc9",
   "metadata": {},
   "outputs": [],
   "source": []
  }
 ],
 "metadata": {
  "kernelspec": {
   "display_name": "Python 3 (ipykernel)",
   "language": "python",
   "name": "python3"
  },
  "language_info": {
   "codemirror_mode": {
    "name": "ipython",
    "version": 3
   },
   "file_extension": ".py",
   "mimetype": "text/x-python",
   "name": "python",
   "nbconvert_exporter": "python",
   "pygments_lexer": "ipython3",
   "version": "3.10.8"
  }
 },
 "nbformat": 4,
 "nbformat_minor": 5
}

{
 "cells": [
  {
   "cell_type": "code",
   "execution_count": null,
   "id": "3d5e1482-9168-44ef-9024-c87f41d69f2a",
   "metadata": {},
   "outputs": [],
   "source": [
    "from utils.discrstruct import *"
   ]
  },
  {
   "cell_type": "markdown",
   "id": "f1d296f9-1d58-4a06-9ff1-eac394acefc3",
   "metadata": {},
   "source": [
    "Zur Erinnerung:"
   ]
  },
  {
   "cell_type": "code",
   "execution_count": null,
   "id": "fd4ddaae-af74-47bc-91d7-352fa5d0d631",
   "metadata": {},
   "outputs": [],
   "source": [
    "def total (D,W,f):\n",
    "    return all(any ((d,w) in f for w in W) for d in D)\n",
    "def eindeutig (f):   \n",
    "    return all( (a == x) -s>> (b == y) for (a,b) in f for (x,y) in f)"
   ]
  },
  {
   "cell_type": "markdown",
   "id": "239228f4-2294-476f-ad2d-4bcc9221bc0f",
   "metadata": {},
   "source": [
    "<h2>Funktionen als spezielle Relationen</h2>\n",
    "\n",
    "1. Spezifizieren Sie je eine Menge, die nur eine Relation, nur total oder nur eindeutig ist, und eine, die sowohl total als auch eindeutig ist. Verwenden Sie die Funktionen \"total\" und \"eindeutig\" aus dem Notebook \"kapitel8Funktionen\" um Ihre Mengen zu überprüfen."
   ]
  },
  {
   "cell_type": "code",
   "execution_count": null,
   "id": "69ad5093-3362-4628-8d03-7de06e883954",
   "metadata": {},
   "outputs": [],
   "source": [
    "R_Nur_Relation = {TODO}\n",
    "R_Nur_Total = {TODO}\n",
    "R_Nur_Eindeutig = {TODO}\n",
    "R_Funktion = {TODO}\n",
    "D = {TODO}\n",
    "W = {TODO}\n",
    "\n",
    "total(D,W,R_Nur_Relation) # sollte False ergeben\n",
    "eindeutig(R_Nur_Relation) # sollte False ergeben\n",
    "total(D,W,R_Nur_Total) # sollte True ergeben\n",
    "eindeutig(R_Nur_Total) # sollte False ergeben\n",
    "total(D,W,R_Nur_Eindeutig) # sollte False ergeben\n",
    "eindeutig(R_Nur_Eindeutig) # sollte True ergeben\n",
    "total(D,W,R_Funktion) # sollte True ergeben\n",
    "eindeutig(R_Funktion) # sollte True ergeben"
   ]
  },
  {
   "cell_type": "markdown",
   "id": "12d99785-81b9-4267-bc88-d3bb08c1c31b",
   "metadata": {},
   "source": [
    "2. Implementieren Sie eine isFunction-Funktion unter Verwendung von total und eindeutig. "
   ]
  },
  {
   "cell_type": "code",
   "execution_count": null,
   "id": "a7da233d-8488-41a0-a79e-d18d7b57bca6",
   "metadata": {},
   "outputs": [],
   "source": [
    "def isFunction (D,W,f):\n",
    "    return TODO"
   ]
  },
  {
   "cell_type": "markdown",
   "id": "594e9fbb-5fe1-4a6d-b00b-3e226b441bc6",
   "metadata": {},
   "source": [
    "3. Überprüfen Sie mit Ihrer isFunction-Funktion, ob die folgende Menge eine Funktion ist."
   ]
  },
  {
   "cell_type": "code",
   "execution_count": null,
   "id": "fc408328-f660-4eaa-8deb-93cf94f99c24",
   "metadata": {},
   "outputs": [],
   "source": [
    "R = {(x,y) for x in {True,False} for y in {True,False} if x -s>> y}"
   ]
  },
  {
   "cell_type": "markdown",
   "id": "a62aeeac-a52a-41fc-8ab1-67ce16cb183d",
   "metadata": {},
   "source": [
    "4. Überprüfen Sie, ob die leere Menge eine Funktion ist."
   ]
  },
  {
   "cell_type": "code",
   "execution_count": null,
   "id": "f6fe929a-d2d4-4c1f-968d-3f9ebc31c122",
   "metadata": {},
   "outputs": [],
   "source": []
  },
  {
   "cell_type": "markdown",
   "id": "0faf264a-2e63-4db2-9519-7c49da35fcf1",
   "metadata": {},
   "source": [
    "<h2>Funktionen als Transformationsprozesse</h2>\n",
    "\n",
    "5. Implementieren Sie die folgenden Funktionen in Python und wenden Sie sie auf geeignete Beispielwerte an. (Stellen Sie die Funktionen nicht als Relationen dar, sondern verwenden Sie <b>def</b>).\n",
    "\n",
    "<ul>\n",
    "<li>$x \\mapsto x^2$\n",
    "<li>$x \\mapsto (x^2 = 1)$\n",
    "</ul>"
   ]
  },
  {
   "cell_type": "code",
   "execution_count": null,
   "id": "092c85c9-cbb3-4734-8af6-f99b54ada311",
   "metadata": {},
   "outputs": [],
   "source": []
  },
  {
   "cell_type": "markdown",
   "id": "099c61fa-76d8-4348-86f7-92fd215b59fe",
   "metadata": {},
   "source": [
    "6. Wenden Sie Ihre Funktion bildmenge (aus dem Notebook kapitel8Funktionen) auf die beiden Funktionen an, die Sie gerade implementiert haben. Implementieren Sie eine Funktion bildmenge2, die auf Relationen (oder Funktionen als spezielle Relationen) anwendbar ist."
   ]
  },
  {
   "cell_type": "code",
   "execution_count": null,
   "id": "3fded840-b723-41c1-a993-8460a611dbe9",
   "metadata": {},
   "outputs": [],
   "source": []
  },
  {
   "cell_type": "markdown",
   "id": "20906d61-5884-49fe-b30c-ca4006c3d622",
   "metadata": {},
   "source": [
    "7. Implementieren Sie die folgende Relationseigenschaft \"connex\" in Python:<br>\n",
    "\"Eine Relation R auf einer Menge A heißt connex, wenn [a,b] $\\in$ R oder\n",
    "[b,a] $\\in$ R für alle a,b $\\in$ A gilt.\"<br>\n",
    "Spezifizieren Sie ein paar Relationen, an denen Sie das überprüfen können."
   ]
  },
  {
   "cell_type": "code",
   "execution_count": null,
   "id": "59010388-91e7-4545-b7ee-fb55b68e290b",
   "metadata": {},
   "outputs": [],
   "source": []
  },
  {
   "cell_type": "markdown",
   "id": "8d92fb8b-1f81-4ddb-950b-0fd10ca025cc",
   "metadata": {},
   "source": [
    "8. Implementieren Sie die folgende Funktion in Python und finden Sie heraus, was die Funktion berechnet.\n",
    "\n",
    "x $\\mapsto$ {1,2,...,x}$\\setminus${pq | p,q $\\in$ {2,3,...,x}}"
   ]
  },
  {
   "cell_type": "code",
   "execution_count": null,
   "id": "3a976112-2f6e-4c14-9f9c-bf4e4035e137",
   "metadata": {},
   "outputs": [],
   "source": []
  }
 ],
 "metadata": {
  "kernelspec": {
   "display_name": "Python 3 (ipykernel)",
   "language": "python",
   "name": "python3"
  },
  "language_info": {
   "codemirror_mode": {
    "name": "ipython",
    "version": 3
   },
   "file_extension": ".py",
   "mimetype": "text/x-python",
   "name": "python",
   "nbconvert_exporter": "python",
   "pygments_lexer": "ipython3",
   "version": "3.9.6"
  }
 },
 "nbformat": 4,
 "nbformat_minor": 5
}

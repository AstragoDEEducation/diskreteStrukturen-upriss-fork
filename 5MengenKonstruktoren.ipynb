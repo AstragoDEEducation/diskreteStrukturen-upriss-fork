{
 "cells": [
  {
   "cell_type": "code",
   "execution_count": null,
   "id": "22d89c1d-3f67-48a1-9da6-2eaf9886fa20",
   "metadata": {},
   "outputs": [],
   "source": [
    "from utils.discrstruct import *"
   ]
  },
  {
   "cell_type": "markdown",
   "id": "0e992e89-4f6c-4608-a821-15d9b3fc9c44",
   "metadata": {},
   "source": [
    "<b>Berechnen Sie mit Python:</b><br>\n",
    "\n",
    "<ul>\n",
    "<li>den Schnitt und die Vereinigung von {1, 2, 3} und {2, 3, 4}\n",
    "<li> die Potenzmenge von {1, 2, 3}\n",
    "    <li> das kartesische Produkt von {1, 2, 3} und {'a', 'b'} \n",
    "<li> das kartesische Produkt von {1, 2, 3} mit sich selbst\n",
    "    </ul>"
   ]
  },
  {
   "cell_type": "code",
   "execution_count": null,
   "id": "0f5c9a53-6fa1-4f54-88d0-5720a656d3ce",
   "metadata": {},
   "outputs": [],
   "source": [
    "TODO"
   ]
  },
  {
   "cell_type": "markdown",
   "id": "8c4f88e2-5763-4da1-afbd-0c0075ea1065",
   "metadata": {},
   "source": [
    "<b>Konstruktoren</b>\n",
    "\n",
    "Beispiel eines Mengen-Konstruktors für die durch 4 teilbaren Zahlen zwischen -10 und 10:"
   ]
  },
  {
   "cell_type": "code",
   "execution_count": null,
   "id": "ceeccc1c-c907-4332-b46d-8ff8fe58dc7f",
   "metadata": {},
   "outputs": [],
   "source": [
    "{x for x in range(-10,11) if x % 4 == 0}"
   ]
  },
  {
   "cell_type": "markdown",
   "id": "0b1946e9-422c-4b15-b82a-770bb5c111fd",
   "metadata": {},
   "source": [
    "Schreiben Sie Mengen-Konstruktoren für\n",
    "<ul>\n",
    "    <li> die ungeraden Zahlen zwischen 10 und 20.\n",
    "    <li> die geraden, ganzen Zahlen größer 4 und kleiner 15.\n",
    "    <li> die doppelten der ungeraden Zahlen zwischen 10 und 20. (Sie können dafür in Ihrem Konstruktor \"{2 * x for x ...}  \" verwenden)\n",
    "<li> die Summen aus den Zahlen von 1 bis 10 addiert mit den Zahlen von 5 bis 8, so dass die Summe kleiner als 15 ist.\n",
    "<li> Die Paare (x,y), für die x+y $<$ 8 und x,y aus der Menge {1..6} kommen. (Tipp: Verwenden Sie hier (x,y) anstatt von [x,y] für die Paare.)\n",
    "</ul>"
   ]
  },
  {
   "cell_type": "code",
   "execution_count": null,
   "id": "7e7ba653-4665-4d71-99f7-524d991394c7",
   "metadata": {},
   "outputs": [],
   "source": []
  },
  {
   "cell_type": "markdown",
   "id": "dcb5b62f-51a3-46ee-9e37-a79ff44a23ea",
   "metadata": {},
   "source": [
    "Schreiben Sie Mengen-Konstruktoren für\n",
    "<ul>\n",
    "   <li> Die Paare von Zahlen aus {1..20}, die nach Division durch 5 denselben Rest haben.\n",
    "<li> Die Paare (x,y), für die x ⊆ y gilt und x, y Elemente der Potenzmenge von {1,2,3} sind.\n",
    "    <li>Tripeln (n,m,k) aus Zahlen zwischen 1 und 10, so dass n + m = k.\n",
    "<li>Zahlen zwischen 1 und 20, die alle gerade sind, außer 4, und alle durch 5 teilbaren Zahlen außer 15.\n",
    "<li>Paare aus Wahrheitswerten, die einer wahren Subjunktion entsprechen.\n",
    "    </ul>"
   ]
  },
  {
   "cell_type": "code",
   "execution_count": null,
   "id": "e02ecdb3-e293-4eea-ac5a-7dfab0fb8534",
   "metadata": {},
   "outputs": [],
   "source": []
  }
 ],
 "metadata": {
  "kernelspec": {
   "display_name": "Python 3 (ipykernel)",
   "language": "python",
   "name": "python3"
  },
  "language_info": {
   "codemirror_mode": {
    "name": "ipython",
    "version": 3
   },
   "file_extension": ".py",
   "mimetype": "text/x-python",
   "name": "python",
   "nbconvert_exporter": "python",
   "pygments_lexer": "ipython3",
   "version": "3.9.6"
  }
 },
 "nbformat": 4,
 "nbformat_minor": 5
}

{
 "cells": [
  {
   "cell_type": "markdown",
   "id": "14c20dcb-aa64-48e9-8c54-27b0b87d3731",
   "metadata": {},
   "source": [
    "Führen Sie das nächste Feld mit <b>Shift-Enter</b> oder mit dem Run-Knopf (&#9658;) aus, um benötigte Python-Voraussetzungen zu laden."
   ]
  },
  {
   "cell_type": "code",
   "execution_count": null,
   "id": "029db7c7-4eae-4e7d-95b0-7dba8df95122",
   "metadata": {},
   "outputs": [],
   "source": [
    "from utils.discrstruct import *"
   ]
  },
  {
   "cell_type": "markdown",
   "id": "92206806-0e49-41ba-9ca4-075f4bb15731",
   "metadata": {},
   "source": [
    "<h1>Kapitel 1: Grundlegende Strukturen</h1>\n",
    "\n",
    "Diese Übungsblätter folgen dem Lehrbuch <i>Modellieren mit Diskreten Strukturen</i> von Peter Riegler. Dabei werden die wesentlichen Inhalte kurz zusammengefasst und mit Beispielen der Programmiersprache <i>Python</i> dargestellt. Sie sollten die Texte im Lehrbuch beim Durcharbeiten dieser Übungen parallel lesen. \n",
    "\n",
    "<h2>1.4 Kollektionen: Mengen und Tupel</h2>"
   ]
  },
  {
   "cell_type": "markdown",
   "id": "aef6beb5-8361-4456-b55c-0a2155b1eb6a",
   "metadata": {},
   "source": [
    "Kollektionen sind Ansammlungen von Dingen. Dabei ist es wichtig, ob die \n",
    "Reihenfolge der Objekte in der Kollektion eine Rolle spielt und ob Objekte mehrfach vorkommen können.\n",
    "   \n",
    "<table>\n",
    "    <tr><td><td>Reihenfolge relevant<td>Reihenfolge nicht relevant\n",
    "        <tr><td>Mehrfachvorkommen möglich<td>Tupel</td>\n",
    "    <tr><td>Mehrfachvorkommen nicht möglich<td><td>Menge\n",
    "</table>\n",
    "(Die beiden leeren Felder in der Tabelle werden im Kapitel 10 behandelt.)  Tupel werden auch <i>Listen</i> oder <i>Arrays</i> genannt. In Programmiersprachen werden meist Tupel  bevorzugt, da ein Computer diese der Reihe nach abarbeiten kann. In der Mathematik werden Mengen bevorzugt. Tupel werden mit runden oder eckigen Klammern  geschrieben: <i> (a,b,c) </i> oder <i> [a,b,c] </i>. In Python werden die beiden Schreibweisen unterschieden, aber für Mathematik ist die Unterscheidung irrelevant. Mengen werden mit geschweiften Klammern geschrieben: <i> {a,b,c} </i>. \n"
   ]
  },
  {
   "cell_type": "code",
   "execution_count": null,
   "id": "f5c4074f-ec50-40e1-8ce5-39eb8e91c2ae",
   "metadata": {},
   "outputs": [],
   "source": [
    "[1,6,3]\n",
    "(1,6,3)\n",
    "{1,6,3}\n",
    "[1,1,1]\n",
    "{1,1,1}"
   ]
  },
  {
   "cell_type": "markdown",
   "id": "4b656be0-bcd0-4b38-9189-93623cc5641f",
   "metadata": {},
   "source": [
    "Warum ist also {1,1,1} gleich {1}?<br>\n",
    "Kollektionen können mit <i>==</i> verglichen werden:"
   ]
  },
  {
   "cell_type": "code",
   "execution_count": null,
   "id": "41aec33e-fd73-491f-9aee-0abdeee88953",
   "metadata": {},
   "outputs": [],
   "source": [
    "{1,1,1} == {1}\n",
    "[1,3,6] == [1,6,3]\n",
    "{1,3,6} == {1,6,3}\n",
    "{1,3,6} == {1,2,3}\n",
    "[1, 6, 3] == [1, 3+3, 1*3]"
   ]
  },
  {
   "cell_type": "markdown",
   "id": "b20cd6a1-93ec-428d-bf48-c8ad57972ab7",
   "metadata": {},
   "source": [
    "#### Antwort:\n",
    "Mengen: Position und Anzahl (solange >= 1) egal.\n",
    "Tuple: Reihenfolge und dadurch auch Elementanzahl bei mehreren gleichen Elementen relevant."
   ]
  },
  {
   "cell_type": "code",
   "execution_count": null,
   "id": "12c6dcc0-55d9-4bd6-91a3-7431c4a5ff94",
   "metadata": {},
   "outputs": [],
   "source": []
  }
 ],
 "metadata": {
  "kernelspec": {
   "display_name": "Python 3 (ipykernel)",
   "language": "python",
   "name": "python3"
  },
  "language_info": {
   "codemirror_mode": {
    "name": "ipython",
    "version": 3
   },
   "file_extension": ".py",
   "mimetype": "text/x-python",
   "name": "python",
   "nbconvert_exporter": "python",
   "pygments_lexer": "ipython3",
   "version": "3.12.7"
  }
 },
 "nbformat": 4,
 "nbformat_minor": 5
}

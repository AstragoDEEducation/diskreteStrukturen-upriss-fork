{
 "cells": [
  {
   "cell_type": "code",
   "execution_count": 1,
   "id": "9d4449b4-d409-4927-a7b6-9fd139e324a7",
   "metadata": {},
   "outputs": [
    {
     "data": {
      "text/html": [
       "<script type=\"text/javascript\">\n",
       "function ueberpruefen(property) {\n",
       "var solutions = \n",
       "{'kapitel2_1_0': 'RGllIEZsYXNjaGUgaXN0IG5pY2h0IHZvbGwu', 'kapitel2_1_1': 'RGllIEhvc2UgaXN0IG5pY2h0IHNjaHdhcnou', 'kapitel2_2_0': 'RXIgbWFnIGtlaW5lbiBTY2huYXBzIG9kZXIgZXIgbWFnIFNla3Qu', 'kapitel2_2_1': 'U2llIHRhbnp0IG5pY2h0IG9kZXIgZsOkaHJ0IG5pY2h0IFJhZC4=', 'kapitel2_3_0': 'SmE=', 'kapitel2_3_1': 'SmE=', 'kapitel2_3_2': 'SmE=', 'kapitel2_3_3': 'TmVpbg==', 'kapitel2_3_4': 'SmE=', 'kapitel2_3_5': 'TmVpbg==', 'kapitel2_3_6': 'SmE=', 'kapitel2_3_7': 'TmVpbg==', 'kapitel2_4_0': 'QXVzc2FnZWZvcm0=', 'kapitel2_4_1': 'QXVzc2FnZWZvcm0=', 'kapitel2_4_2': 'QXVzc2FnZWZvcm0=', 'kapitel2_4_3': 'V2VkZXIgQXVzc2FnZSBub2NoIEF1c3NhZ2Vmb3Jt', 'kapitel2_4_4': 'QXVzc2FnZQ==', 'kapitel2_4_5': 'QXVzc2FnZQ==', 'kapitel2_4_6': 'V2VkZXIgQXVzc2FnZSBub2NoIEF1c3NhZ2Vmb3Jt', 'kapitel2_4_7': 'QXVzc2FnZQ==', 'kapitel2_5_0': 'ZW50d2VkZXItb2Rlcg==', 'kapitel2_5_1': 'ZW50d2VkZXItb2Rlcg==', 'kapitel2_5_2': 'bG9naXNjaGVzIG9kZXI=', 'kapitel2_5_3': 'ZW50d2VkZXItb2Rlcg==', 'kapitel2_6_0': 'd2Focg==', 'kapitel2_6_1': 'ZmFsc2No', 'kapitel2_6_2': 'd2Focg==', 'kapitel2_6_3': 'ZmFsc2No', 'kapitel2_7_0': 'QXVmesOkaGx1bmcgdm9uIEdlZ2Vuc3TDpG5kZW4=', 'kapitel2_7_1': 'bG9naXNjaGUgS29uanVua3Rpb24=', 'kapitel2_7_2': 'bG9naXNjaGUgS29uanVua3Rpb24=', 'kapitel2_7_3': 'QXVmesOkaGx1bmcgdm9uIEdlZ2Vuc3TDpG5kZW4=', 'kapitel3_1_0': 'RGVmaW5pdGlvbg==', 'kapitel3_1_1': 'VGhlb3JlbQ==', 'kapitel3_1_2': 'RGVmaW5pdGlvbg==', 'kapitel3_1_3': 'VGhlb3JlbQ==', 'kapitel3_1_4': 'RGVmaW5pdGlvbg==', 'kapitel3_1_5': 'VGhlb3JlbQ==', 'kapitel3_2_0': 'QSDihpIgQg==', 'kapitel3_2_1': 'QSDihpAgQg==', 'kapitel3_2_2': 'QSDih5IgQg==', 'kapitel3_2_3': 'QSDih5IgQg==', 'kapitel3_2_4': 'QSDihpAgQg==', 'kapitel3_2_5': 'QSDih5QgQg==', 'kapitel3_3_0': 'a29tbXV0YXRpdg==', 'kapitel3_3_1': 'bmljaHQga29tbXV0YXRpdg==', 'kapitel3_3_2': 'bmljaHQga29tbXV0YXRpdg==', 'kapitel3_3_3': 'bmljaHQga29tbXV0YXRpdg==', 'kapitel3_4_0': 'bmV1dHJhbGVzIEVsZW1lbnQ=', 'kapitel3_4_1': 'a2VpbiBuZXV0cmFsZXMgRWxlbWVudA==', 'kapitel3_4_2': 'a2VpbiBuZXV0cmFsZXMgRWxlbWVudA==', 'kapitel3_4_3': 'bmV1dHJhbGVzIEVsZW1lbnQ=', 'kapitel3_4_4': 'bmV1dHJhbGVzIEVsZW1lbnQ=', 'kapitel3_4_5': 'a2VpbiBuZXV0cmFsZXMgRWxlbWVudA==', 'kapitel3_4_6': 'a2VpbiBuZXV0cmFsZXMgRWxlbWVudA==', 'kapitel3_4_7': 'bmV1dHJhbGVzIEVsZW1lbnQ='}\n",
       "\n",
       "   form_elements = document.querySelector(\"#\"+property).elements;\n",
       "   for (i = 0; i < form_elements.length ;i++) {\n",
       "      var answer = \"<font size=5 color='red'>&#10007;</font>\";\n",
       "      if (typeof solutions[form_elements[i].id] !== 'undefined') {\n",
       "         if (form_elements[i].value == \n",
       "             decodeURIComponent(escape(atob(solutions[form_elements[i].id] )))) {\n",
       "             answer = \"<font size=5 color='green'>&#10003;</font>\";\n",
       "         }\n",
       "      document.querySelector(\"#\" + form_elements[i].id + \"_ans\").innerHTML=answer;\n",
       "      }\n",
       "   }\n",
       "}\n",
       "</script>"
      ],
      "text/plain": [
       "<IPython.core.display.HTML object>"
      ]
     },
     "metadata": {},
     "output_type": "display_data"
    }
   ],
   "source": [
    "from utils.discrstruct import *"
   ]
  },
  {
   "cell_type": "markdown",
   "id": "bce79fb3-71bc-408e-a8a2-a38ee37de4c4",
   "metadata": {},
   "source": [
    "<h2>Negieren sprachlicher Sätze</h2>\n",
    "\n",
    "1) Die Sonne scheint und es regnet.\n",
    "\n",
    "Formale Modellierung: <b>S and R</b>\n",
    "\n",
    "Welches ist die richtige Negation:\n",
    "\n",
    "<ul>\n",
    "    <li> Die Sonne scheint nicht und es regnet nicht. <b>not S and not R</b>\n",
    "    <li>Es scheint weder die Sonne noch es regnet. <b>not S and not R</b>\n",
    "    <li>Die Sonne scheint nicht oder es regnet nicht. <b>not S or not R</b>\n",
    "    <li>Entweder die Sonne scheint nicht oder es regnet nicht. <b> (S and not R) or (not S and R)</b>\n",
    "        </ul>\n",
    "        \n",
    "Wenn Sie sich nicht sicher sind, können Sie sich die zugehörigen Wahrheitstabellen ansehen. Beim Negieren müssen sich alle Werte in der Ergebnisspalte ändern. D.h. überall, wo ursprünglich True stand, steht nach der Negierung False und überall, wo ursprünglich False stand, steht nach der Negierung True."
   ]
  },
  {
   "cell_type": "code",
   "execution_count": 2,
   "id": "b90992e5-5bb4-43ba-9f46-8864ee1f31ee",
   "metadata": {},
   "outputs": [
    {
     "name": "stdout",
     "output_type": "stream",
     "text": [
      "S     | R     | value | \n",
      "------------------------\n",
      "False | False | False | \n",
      "False | True  | False | \n",
      "True  | False | False | \n",
      "True  | True  | True  | \n",
      "\n"
     ]
    }
   ],
   "source": [
    "printtable(\"S and R\")"
   ]
  },
  {
   "cell_type": "code",
   "execution_count": 4,
   "id": "1e9f245d-339f-4415-8eee-17ee0988faf9",
   "metadata": {},
   "outputs": [
    {
     "name": "stdout",
     "output_type": "stream",
     "text": [
      "S     | R     | value | \n",
      "------------------------\n",
      "False | False | True  | \n",
      "False | True  | True  | \n",
      "True  | False | True  | \n",
      "True  | True  | False | \n",
      "\n"
     ]
    }
   ],
   "source": [
    "printtable(\"not S or not R\")"
   ]
  },
  {
   "cell_type": "markdown",
   "id": "7c73dcdf-0b9e-4bc2-a8d9-3f489b924068",
   "metadata": {},
   "source": [
    "2. Wenn die Sonne scheint, dann regnet es nicht.\n",
    "\n",
    "Formale Modellierung: <b>S -s>> not R</b>\n",
    "\n",
    "<ul>\n",
    "    <li>Wenn die Sonne nicht scheint, dann regnet es. <b>not S -s>> R</b>\n",
    "    <li>Wenn es regnet, dann scheint die Sonne nicht. <b>R -s>> not S</b>\n",
    "     <li>Die Sonne scheint nicht oder es regnet nicht. <b>not S or not R</b> \n",
    "    <li>Die Sonne scheint und es regnet. <b>S and R</b>     "
   ]
  },
  {
   "cell_type": "code",
   "execution_count": 5,
   "id": "5bd0ab7f-e15b-4e9b-9eeb-cf24a5234dcd",
   "metadata": {},
   "outputs": [
    {
     "name": "stdout",
     "output_type": "stream",
     "text": [
      "S     | R     | value | \n",
      "------------------------\n",
      "False | False | True  | \n",
      "False | True  | True  | \n",
      "True  | False | True  | \n",
      "True  | True  | False | \n",
      "\n"
     ]
    }
   ],
   "source": [
    "printtable(\"S -s>> not R\")"
   ]
  },
  {
   "cell_type": "code",
   "execution_count": 6,
   "id": "6a808333-1443-49b7-a181-8a824383c46b",
   "metadata": {},
   "outputs": [
    {
     "name": "stdout",
     "output_type": "stream",
     "text": [
      "S     | R     | value | \n",
      "------------------------\n",
      "False | False | False | \n",
      "False | True  | False | \n",
      "True  | False | False | \n",
      "True  | True  | True  | \n",
      "\n"
     ]
    }
   ],
   "source": [
    "printtable(\"S and R\")"
   ]
  },
  {
   "cell_type": "markdown",
   "id": "e303fce7-ff83-47d5-a098-44e0ea3a0a44",
   "metadata": {},
   "source": [
    "Negieren Sie die folgenden Sätze und überprüfen Sie mit Wahrheitstabellen.\n",
    "\n",
    "3. Er kommt zu spät oder gar nicht. <b>S or not G</b>\n",
    "4. Entweder sie trinkt Tee oder Kaffee. <b>(T and not K) or (not T and K)</b>\n",
    "5. Genau dann wenn Sie 2000 geboren wurden, sind Sie 23 Jahre alt. <b>(G and J) or (not G and not J)</b>"
   ]
  },
  {
   "cell_type": "code",
   "execution_count": 11,
   "id": "96716ed2-317f-4427-8243-24734053041f",
   "metadata": {},
   "outputs": [
    {
     "name": "stdout",
     "output_type": "stream",
     "text": [
      "Aufgabe 3:\n",
      "S     | G     | value | \n",
      "------------------------\n",
      "False | False | True  | \n",
      "False | True  | False | \n",
      "True  | False | True  | \n",
      "True  | True  | True  | \n",
      "\n",
      "S     | G     | value | \n",
      "------------------------\n",
      "False | False | False | \n",
      "False | True  | True  | \n",
      "True  | False | False | \n",
      "True  | True  | False | \n",
      "\n",
      "===================================\n",
      "Aufgabe 4:\n",
      "T     | K     | value | \n",
      "------------------------\n",
      "False | False | False | \n",
      "False | True  | True  | \n",
      "True  | False | True  | \n",
      "True  | True  | False | \n",
      "\n",
      "T     | K     | value | \n",
      "------------------------\n",
      "False | False | True  | \n",
      "False | True  | False | \n",
      "True  | False | False | \n",
      "True  | True  | True  | \n",
      "\n",
      "===================================\n",
      "Aufgabe 5:\n",
      "G     | J     | value | \n",
      "------------------------\n",
      "False | False | True  | \n",
      "False | True  | False | \n",
      "True  | False | False | \n",
      "True  | True  | True  | \n",
      "\n",
      "G     | J     | value | \n",
      "------------------------\n",
      "False | False | False | \n",
      "False | True  | True  | \n",
      "True  | False | True  | \n",
      "True  | True  | False | \n",
      "\n",
      "===================================\n"
     ]
    }
   ],
   "source": [
    "print(\"Aufgabe 3:\")\n",
    "printtable(\"S or not G\")\n",
    "printtable(\"not S and G\")\n",
    "print(35*\"=\")\n",
    "\n",
    "print(\"Aufgabe 4:\")\n",
    "printtable(\"(T and not K) or (not T and K)\")\n",
    "printtable(\"(not T or K) and (T or not K)\")\n",
    "print(35*\"=\")\n",
    "\n",
    "print(\"Aufgabe 5:\")\n",
    "printtable(\"(G and J) or (not G and not J)\")\n",
    "printtable(\"(not G or not J) and (G or J)\")\n",
    "print(35*\"=\")"
   ]
  },
  {
   "cell_type": "markdown",
   "id": "0513be8a-d11d-4c5d-b90d-cac5ec846045",
   "metadata": {},
   "source": [
    "<h3>Modellieren Sie selber und negieren Sie:</h3>\n",
    "\n",
    "6. Heute ist nicht Montag und nicht Dienstag.<br>\n",
    "7. Es gibt keine Lösung.<br>\n",
    "8. Draußen ist es dunkel.<br>\n",
    "9. Es ist 5 Uhr oder 6 Uhr.<br>\n",
    "10. Es regnet und schneit heute.<br>\n",
    "11. Wenn Sie im Lotto gewinnen, hören Sie mit dem Studium auf.\n"
   ]
  },
  {
   "cell_type": "code",
   "execution_count": 18,
   "id": "2643e859-d8b7-46d2-b924-568359873f95",
   "metadata": {},
   "outputs": [
    {
     "name": "stdout",
     "output_type": "stream",
     "text": [
      "Aufgabe 6:\n",
      "M     | D     | value | \n",
      "------------------------\n",
      "False | False | True  | \n",
      "False | True  | False | \n",
      "True  | False | False | \n",
      "True  | True  | False | \n",
      "\n",
      "M     | D     | value | \n",
      "------------------------\n",
      "False | False | False | \n",
      "False | True  | True  | \n",
      "True  | False | True  | \n",
      "True  | True  | True  | \n",
      "\n",
      "===================================\n",
      "Aufgabe 7:\n",
      "L     | value | \n",
      "----------------\n",
      "False | True  | \n",
      "True  | False | \n",
      "\n",
      "L     | value | \n",
      "----------------\n",
      "False | L     | \n",
      "True  | L     | \n",
      "\n",
      "===================================\n",
      "Aufgabe 8:\n",
      "D     | H     | value | \n",
      "------------------------\n",
      "False | False | False | \n",
      "False | True  | False | \n",
      "True  | False | True  | \n",
      "True  | True  | False | \n",
      "\n",
      "D     | H     | value | \n",
      "------------------------\n",
      "False | False | True  | \n",
      "False | True  | True  | \n",
      "True  | False | False | \n",
      "True  | True  | True  | \n",
      "\n",
      "===================================\n",
      "Aufgabe 9: XOR\n",
      "F     | S     | value | \n",
      "------------------------\n",
      "False | False | False | \n",
      "False | True  | True  | \n",
      "True  | False | True  | \n",
      "True  | True  | False | \n",
      "\n",
      "F     | S     | value | \n",
      "------------------------\n",
      "False | False | True  | \n",
      "False | True  | False | \n",
      "True  | False | False | \n",
      "True  | True  | True  | \n",
      "\n",
      "===================================\n",
      "Aufgabe 10:\n",
      "R     | S     | value | \n",
      "------------------------\n",
      "False | False | False | \n",
      "False | True  | False | \n",
      "True  | False | False | \n",
      "True  | True  | True  | \n",
      "\n",
      "R     | S     | value | \n",
      "------------------------\n",
      "False | False | True  | \n",
      "False | True  | True  | \n",
      "True  | False | True  | \n",
      "True  | True  | False | \n",
      "\n",
      "===================================\n",
      "Aufgabe 11:\n",
      "L     | S     | value | \n",
      "------------------------\n",
      "False | False | True  | \n",
      "False | True  | True  | \n",
      "True  | False | True  | \n",
      "True  | True  | False | \n",
      "\n",
      "L     | S     | value | \n",
      "------------------------\n",
      "False | False | False | \n",
      "False | True  | False | \n",
      "True  | False | False | \n",
      "True  | True  | True  | \n",
      "\n",
      "===================================\n"
     ]
    }
   ],
   "source": [
    "print(\"Aufgabe 6:\")\n",
    "printtable(\"not M and not D\")\n",
    "printtable(\"M or D\")\n",
    "print(35*\"=\")\n",
    "\n",
    "print(\"Aufgabe 7:\")\n",
    "printtable(\"not L\")\n",
    "printtable(\"L\")\n",
    "print(35*\"=\")\n",
    "\n",
    "print(\"Aufgabe 8:\")\n",
    "printtable(\"D and not H\")\n",
    "printtable(\"not D or H\")\n",
    "print(35*\"=\")\n",
    "\n",
    "print(\"Aufgabe 9: XOR\")\n",
    "printtable(\"(F or S) and not(F and S)\")\n",
    "printtable(\"(not F and not S) or (F and S)\")\n",
    "print(35*\"=\")\n",
    "\n",
    "print(\"Aufgabe 10:\")\n",
    "printtable(\"R and S\")\n",
    "printtable(\"not R or not S\")\n",
    "print(35*\"=\")\n",
    "\n",
    "print(\"Aufgabe 11:\")\n",
    "printtable(\"L -s>> not S\")\n",
    "printtable(\"L and S\")\n",
    "print(35*\"=\")"
   ]
  },
  {
   "cell_type": "markdown",
   "id": "bbfdd0b5-5a21-4b73-b060-71c80ecf0d34",
   "metadata": {
    "tags": []
   },
   "source": [
    "<h2>Wie ist das sprachliche \"wenn\" gemeint:</h2>\n",
    "\n",
    "A) Wenn man mindestens 17 ist, darf man den Führerschein machen.\n",
    "<b>S -s>> F</b><br>\n",
    "B) Wenn man mindestens 17 und blind ist, darf man den Führerschein machen. <b>(S and B) -s>> F</b><br>\n",
    "\n",
    "Überzeugen Sie sich anhand der Wahrheitstabellen davon, dass immer, wenn Satz A wahr ist, dass dann auch Satz B wahr ist. "
   ]
  },
  {
   "cell_type": "code",
   "execution_count": 19,
   "id": "0c88e8c0-1edb-4c6c-8c0e-4fecf333b33f",
   "metadata": {},
   "outputs": [
    {
     "name": "stdout",
     "output_type": "stream",
     "text": [
      "S     | F     | value | \n",
      "------------------------\n",
      "False | False | True  | \n",
      "False | True  | True  | \n",
      "True  | False | False | \n",
      "True  | True  | True  | \n",
      "\n",
      "S     | B     | F     | value | \n",
      "--------------------------------\n",
      "False | False | False | True  | \n",
      "False | False | True  | True  | \n",
      "False | True  | False | True  | \n",
      "False | True  | True  | True  | \n",
      "True  | False | False | True  | \n",
      "True  | False | True  | True  | \n",
      "True  | True  | False | False | \n",
      "True  | True  | True  | True  | \n",
      "\n"
     ]
    }
   ],
   "source": [
    "printtable(\"S -s>> F\")\n",
    "printtable(\"(S and B) -s>> F\")"
   ]
  },
  {
   "cell_type": "markdown",
   "id": "7c6c30ac-b91c-4876-ac09-ff4d70c42c64",
   "metadata": {},
   "source": [
    "Das heißt, dass Satz B aus Satz A folgt. Wenn Satz B falsch ist, dann ist die Modellierung von Satz A als <b>S -s>> F</b> auch falsch. Das sprachliche \"wenn\" entspricht hier nicht dem logischen \"-s>>\".\n",
    "\n",
    "Modellieren Sie Satz A logisch richtig:"
   ]
  },
  {
   "cell_type": "code",
   "execution_count": 21,
   "id": "474a8118-d85f-4c6f-8906-b7b33a487bb3",
   "metadata": {},
   "outputs": [
    {
     "name": "stdout",
     "output_type": "stream",
     "text": [
      "F     | S     | value | \n",
      "------------------------\n",
      "False | False | True  | \n",
      "False | True  | True  | \n",
      "True  | False | False | \n",
      "True  | True  | True  | \n",
      "\n"
     ]
    }
   ],
   "source": [
    "printtable(\"F -s>> S\") # Nur wenn man 17 ist, darf man den Führerschein machen (oder auch nicht)"
   ]
  },
  {
   "cell_type": "markdown",
   "id": "7e37104e-3f80-4a5d-92d6-8b6c4a9cd7c3",
   "metadata": {},
   "source": [
    "<h3>Modellieren Sie diese Sätze:</h3>\n",
    "\n",
    "Entscheiden Sie jeweils, ob \"wenn\", \"nur wenn\" oder \"genau dann, wenn\" am besten passt, und modellieren Sie entsprechend.\n",
    "\n",
    "12. Wenn Sie bezahlt haben, dürfen Sie gehen.\n",
    "\n",
    "13. Wenn es schneit, fällt der Unterricht aus.\n",
    "\n",
    "14. Wenn Sie die Übungsaufgaben bearbeiten, erhalten Sie alle Bonuspunkte."
   ]
  },
  {
   "cell_type": "code",
   "execution_count": null,
   "id": "d804e67a-28f3-4041-b286-f74ddf0cf3b6",
   "metadata": {},
   "outputs": [],
   "source": [
    "printtable(\"...\") # 12.: Nur wenn\n",
    "printtable(\"...\") # 13.: Wenn\n",
    "printtable(\"...\") # 14.: "
   ]
  },
  {
   "cell_type": "markdown",
   "id": "973b2c45-cc08-44a0-952a-aeb1bedb6cd9",
   "metadata": {},
   "source": [
    "<h3>Wahrheitstabellen lesen</h3>\n",
    "\n",
    "Wie kann man diesen Ausdruck vereinfachen?\n",
    "\n",
    "$(P \\lor \\lnot Q) \\longleftrightarrow (\\lnot (P \\land Q)\\lor \\lnot P)$.\n",
    "\n",
    "Erstellen Sie die Wahrheitstabelle. Genau wann steht ein True in der Ergebnisspalte?"
   ]
  },
  {
   "cell_type": "code",
   "execution_count": 23,
   "id": "ef2ef9bc-9e7c-4c7e-b050-43a8cac07b51",
   "metadata": {},
   "outputs": [
    {
     "name": "stdout",
     "output_type": "stream",
     "text": [
      "P     | Q     | value | \n",
      "------------------------\n",
      "False | False | True  | \n",
      "False | True  | False | \n",
      "True  | False | True  | \n",
      "True  | True  | False | \n",
      "\n",
      "Q     | value | \n",
      "----------------\n",
      "False | True  | \n",
      "True  | False | \n",
      "\n"
     ]
    }
   ],
   "source": [
    "printtable(\"((P or not Q) -s>> (not(P and Q) or not P)) and ((not(P and Q) or not P) -s>> (P or not Q))\")\n",
    "printtable(\"not Q\")"
   ]
  },
  {
   "cell_type": "markdown",
   "id": "266412f9-7433-4e0e-886c-b3199f878370",
   "metadata": {},
   "source": [
    "<h2>Logikrätsel</h2>\n",
    "\n",
    "Auf einer Insel leben zwei Arten von Leuten: Ritter und Bauern. Ritter sagen immer die Wahrheit, während Bauern immer lügen. Was für Leute sind A und B, wenn sie diese Aussagen machen:\n",
    "\n",
    "A sagt: \"B ist ein Ritter\".\n",
    "\n",
    "B sagt: \"A und ich sind von verschiedener Art\".\n",
    "\n",
    "Verwenden Sie \"A ist Ritter\", \"A ist Bauer\", usw als Teilaussagen und bilden Sie Subjunktionen (\"A ist Ritter → ... \") um das Rätsel zu lösen. Wie viele mögliche Lösungen gibt es? (Vermutlich brauchen Sie Python für diese Aufgabe nicht.)"
   ]
  },
  {
   "cell_type": "raw",
   "id": "ae856f6c-7e48-4c88-8426-a916222db120",
   "metadata": {},
   "source": [
    "### Annahme: Ein Ritter und ein Bauer\n",
    "\n",
    "A: Bauer --> wahrheit --> Falsch\n",
    "A: Ritter --> lüge --> Falsch\n",
    "\n",
    "B: Bauer --> wahrheit --> Falsch\n",
    "B: Ritter --> wahrheit --> Wahr\n",
    "\n",
    "==> Funktioniert nicht\n",
    "\n",
    "### Annahme: Zwei Ritter\n",
    "\n",
    "A: Ritter --> wahrheit --> Wahr\n",
    "B: Ritter --> lüge --> Falsch\n",
    "\n",
    "==> Funktioniert nicht\n",
    "\n",
    "### Annahme: Zwei Bauern\n",
    "\n",
    "A: Bauer --> lüge --> Wahr\n",
    "B: Bauer --> lüge --> Wahr\n",
    "\n",
    "==> Funktioniert!"
   ]
  },
  {
   "cell_type": "code",
   "execution_count": null,
   "id": "54c7086b-aaa6-4dcd-8119-06af0dd0db8e",
   "metadata": {},
   "outputs": [],
   "source": []
  }
 ],
 "metadata": {
  "kernelspec": {
   "display_name": "Python 3 (ipykernel)",
   "language": "python",
   "name": "python3"
  },
  "language_info": {
   "codemirror_mode": {
    "name": "ipython",
    "version": 3
   },
   "file_extension": ".py",
   "mimetype": "text/x-python",
   "name": "python",
   "nbconvert_exporter": "python",
   "pygments_lexer": "ipython3",
   "version": "3.12.7"
  }
 },
 "nbformat": 4,
 "nbformat_minor": 5
}

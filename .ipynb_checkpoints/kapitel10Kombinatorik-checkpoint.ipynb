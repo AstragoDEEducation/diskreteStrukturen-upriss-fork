{
 "cells": [
  {
   "cell_type": "code",
   "execution_count": null,
   "id": "dd7bad7e-56cf-48d4-b1a7-527ab96ef6c2",
   "metadata": {},
   "outputs": [],
   "source": [
    "from utils.discrstruct import *\n",
    "from math import factorial"
   ]
  },
  {
   "cell_type": "markdown",
   "id": "b7110753-b721-48fc-a68f-bd8c66ea2d2e",
   "metadata": {},
   "source": [
    "<h1>Kapitel 10: Kombinatorik</h1>\n",
    "\n",
    "<h2>10.1 Aufwärmübungen</h2>\n",
    "\n",
    "1. Das Produkt der ersten n natürlichen Zahlen wird als Fakultät bezeichnet. In der Mathematik wird es als n! geschrieben, in Python als factorial(n).  "
   ]
  },
  {
   "cell_type": "code",
   "execution_count": null,
   "id": "cff62bf1-647a-4615-b197-46f8e5ffb04a",
   "metadata": {},
   "outputs": [],
   "source": [
    "factorial(4) == 1 * 2 * 3 * 4\n",
    "factorial(1)\n",
    "factorial(0)\n",
    "factorial(10)"
   ]
  },
  {
   "cell_type": "markdown",
   "id": "257c11e1-c5b0-456b-8422-37523cfa4616",
   "metadata": {},
   "source": [
    "2. Wieso gilt n! = n * (n-1)! ? Was ergibt (n+1) * n! ?"
   ]
  },
  {
   "cell_type": "code",
   "execution_count": null,
   "id": "b380e9b4-fa02-4859-bdd6-ff9fbea66e27",
   "metadata": {},
   "outputs": [],
   "source": [
    "n = 10\n",
    "factorial(n) == n * factorial(n-1)\n",
    "(n+1) * factorial(n) == TODO"
   ]
  },
  {
   "cell_type": "markdown",
   "id": "e28bbbab-aab5-4c8d-9b76-bb6c180d6e37",
   "metadata": {},
   "source": [
    "3. Wie viele Möglichkeiten gibt es, 10 Buchstaben und 5 Zahlen zu kombinieren? Überlegen Sie erst, bevor Sie es ausprobieren. Bei dieser und den folgenden Aufgaben überlegen Sie auch immer, ob Sie eine Formel erkennen, mit der man den Wert berechnen kann."
   ]
  },
  {
   "cell_type": "code",
   "execution_count": null,
   "id": "6a831ec6-715e-40a3-8a29-6b6a98513524",
   "metadata": {},
   "outputs": [],
   "source": [
    "buchst = {\"a\",\"b\",\"c\",\"d\",\"e\",\"f\",\"g\",\"h\",\"i\",\"j\"}\n",
    "zahl = {1,2,3,4,5}\n",
    "{(x,y) for x in buchst for y in zahl}\n",
    "len({(x,y) for x in buchst for y in zahl})"
   ]
  },
  {
   "cell_type": "markdown",
   "id": "66c7727f-f955-439c-9474-5e1c9f4370f1",
   "metadata": {},
   "source": [
    "4. Wie viele Buchstaben und Zahlen gibt es in den beiden Mengen buchst und zahl insgesamt. "
   ]
  },
  {
   "cell_type": "code",
   "execution_count": null,
   "id": "94df6f5c-46fb-4ad0-8168-9805dbea0f5d",
   "metadata": {},
   "outputs": [],
   "source": [
    "buchst | zahl\n",
    "len(buchst | zahl)"
   ]
  },
  {
   "cell_type": "markdown",
   "id": "e2ef1ed5-9019-45b0-8181-39e2427e9fdc",
   "metadata": {},
   "source": [
    "5. Wie viele Elemente hat ein kartesisches Produkt?"
   ]
  },
  {
   "cell_type": "code",
   "execution_count": null,
   "id": "0450478a-4bc8-44b2-8e84-c95fa331e07a",
   "metadata": {},
   "outputs": [],
   "source": [
    "len(CartProd(buchst,zahl))"
   ]
  },
  {
   "cell_type": "markdown",
   "id": "6da74bdb-2ff3-4b25-89e7-eeadc95b9a07",
   "metadata": {},
   "source": [
    "6. Wie viele Möglichkeiten gibt es aus 5 Zahlen 3 auszuwählen, wenn die Reihenfolge eine Rolle spielt und jede Zahl mehrfach vorkommen kann."
   ]
  },
  {
   "cell_type": "code",
   "execution_count": null,
   "id": "cbb6c8ce-e765-4236-baae-a90544c6b8ce",
   "metadata": {},
   "outputs": [],
   "source": [
    "{(x,y,z) for x in zahl for y in zahl for z in zahl}\n",
    "len({(x,y,z) for x in zahl for y in zahl for z in zahl})"
   ]
  },
  {
   "cell_type": "markdown",
   "id": "f97a1d3e-456b-4fdb-b6a4-e00351a46f69",
   "metadata": {},
   "source": [
    "7. Wie viele Möglichkeiten gibt es aus 5 Zahlen 3 auszuwählen, wenn keine Zahl mehrfach vorkommen darf und die Reihenfolge eine Rolle spielt?"
   ]
  },
  {
   "cell_type": "code",
   "execution_count": null,
   "id": "e0215122-9333-4904-ab7f-7afd13d6e7e3",
   "metadata": {},
   "outputs": [],
   "source": [
    "{(x,y,z) for x in zahl for y in zahl for z in zahl if x != y and x != z and y != z}\n",
    "len({(x,y,z) for x in zahl for y in zahl for z in zahl if x != y and x != z and y != z})"
   ]
  },
  {
   "cell_type": "markdown",
   "id": "3165f8fc-2302-4406-af39-1f1728c175fe",
   "metadata": {},
   "source": [
    "8. Wie viele Möglichkeiten gibt es aus 5 Zahlen 3 auszuwählen, \n",
    "wenn Zahlen mehrfach vorkommen können, aber die Reihenfolge der Zahlen keine Rolle spielt? (In Python kann man die Tatsache, dass die Reihenfolge egal ist, dadurch ausdrücken, dass man die Tupelelemente sortiert. Wenn man zum Beispiel die Elemente in (1,2,1) und (2,1,1) aufsteigend sortiert, kommt jeweils (1,1,2) heraus.) "
   ]
  },
  {
   "cell_type": "code",
   "execution_count": null,
   "id": "593f65bf-be45-48c5-a4b5-a52c132ba44e",
   "metadata": {},
   "outputs": [],
   "source": [
    "{tuple(sorted((x,y,z))) for x in zahl for y in zahl for z in zahl}\n",
    "len({tuple(sorted((x,y,z))) for x in zahl for y in zahl for z in zahl})"
   ]
  },
  {
   "cell_type": "markdown",
   "id": "0af4b553-a346-446e-83f3-b0b0d504e66b",
   "metadata": {},
   "source": [
    "9. Wie viele Möglichkeiten gibt es aus 5 Zahlen 3 auszuwählen, \n",
    "wenn keine Zahl mehrfach vorkommen darf und die Reihenfolge \n",
    "der Zahlen keine Rolle spielt?"
   ]
  },
  {
   "cell_type": "code",
   "execution_count": null,
   "id": "75693a7c-d337-4118-a444-61258916aac6",
   "metadata": {},
   "outputs": [],
   "source": [
    "{tuple(sorted((x,y,z))) for x in zahl for y in zahl for z in zahl if x != y and x != z and y != z}"
   ]
  },
  {
   "cell_type": "markdown",
   "id": "d05f31b0-3e9d-4594-b49a-7be7525c819a",
   "metadata": {},
   "source": [
    "<h2>Alles Weitere für diese Woche steht im Lehrbuch</h2>\n"
   ]
  }
 ],
 "metadata": {
  "kernelspec": {
   "display_name": "Python 3 (ipykernel)",
   "language": "python",
   "name": "python3"
  },
  "language_info": {
   "codemirror_mode": {
    "name": "ipython",
    "version": 3
   },
   "file_extension": ".py",
   "mimetype": "text/x-python",
   "name": "python",
   "nbconvert_exporter": "python",
   "pygments_lexer": "ipython3",
   "version": "3.10.8"
  }
 },
 "nbformat": 4,
 "nbformat_minor": 5
}

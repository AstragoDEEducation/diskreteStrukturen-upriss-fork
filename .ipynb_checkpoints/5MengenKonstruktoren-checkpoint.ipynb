{
 "cells": [
  {
   "cell_type": "code",
   "execution_count": 1,
   "id": "22d89c1d-3f67-48a1-9da6-2eaf9886fa20",
   "metadata": {},
   "outputs": [
    {
     "data": {
      "text/html": [
       "<script type=\"text/javascript\">\n",
       "function ueberpruefen(property) {\n",
       "var solutions = \n",
       "{'kapitel2_1_0': 'RGllIEZsYXNjaGUgaXN0IG5pY2h0IHZvbGwu', 'kapitel2_1_1': 'RGllIEhvc2UgaXN0IG5pY2h0IHNjaHdhcnou', 'kapitel2_2_0': 'RXIgbWFnIGtlaW5lbiBTY2huYXBzIG9kZXIgZXIgbWFnIFNla3Qu', 'kapitel2_2_1': 'U2llIHRhbnp0IG5pY2h0IG9kZXIgZsOkaHJ0IG5pY2h0IFJhZC4=', 'kapitel2_3_0': 'SmE=', 'kapitel2_3_1': 'SmE=', 'kapitel2_3_2': 'SmE=', 'kapitel2_3_3': 'TmVpbg==', 'kapitel2_3_4': 'SmE=', 'kapitel2_3_5': 'TmVpbg==', 'kapitel2_3_6': 'SmE=', 'kapitel2_3_7': 'TmVpbg==', 'kapitel2_4_0': 'QXVzc2FnZWZvcm0=', 'kapitel2_4_1': 'QXVzc2FnZWZvcm0=', 'kapitel2_4_2': 'QXVzc2FnZWZvcm0=', 'kapitel2_4_3': 'V2VkZXIgQXVzc2FnZSBub2NoIEF1c3NhZ2Vmb3Jt', 'kapitel2_4_4': 'QXVzc2FnZQ==', 'kapitel2_4_5': 'QXVzc2FnZQ==', 'kapitel2_4_6': 'V2VkZXIgQXVzc2FnZSBub2NoIEF1c3NhZ2Vmb3Jt', 'kapitel2_4_7': 'QXVzc2FnZQ==', 'kapitel2_5_0': 'ZW50d2VkZXItb2Rlcg==', 'kapitel2_5_1': 'ZW50d2VkZXItb2Rlcg==', 'kapitel2_5_2': 'bG9naXNjaGVzIG9kZXI=', 'kapitel2_5_3': 'ZW50d2VkZXItb2Rlcg==', 'kapitel2_6_0': 'd2Focg==', 'kapitel2_6_1': 'ZmFsc2No', 'kapitel2_6_2': 'd2Focg==', 'kapitel2_6_3': 'ZmFsc2No', 'kapitel2_7_0': 'QXVmesOkaGx1bmcgdm9uIEdlZ2Vuc3TDpG5kZW4=', 'kapitel2_7_1': 'bG9naXNjaGUgS29uanVua3Rpb24=', 'kapitel2_7_2': 'bG9naXNjaGUgS29uanVua3Rpb24=', 'kapitel2_7_3': 'QXVmesOkaGx1bmcgdm9uIEdlZ2Vuc3TDpG5kZW4=', 'kapitel3_1_0': 'RGVmaW5pdGlvbg==', 'kapitel3_1_1': 'VGhlb3JlbQ==', 'kapitel3_1_2': 'RGVmaW5pdGlvbg==', 'kapitel3_1_3': 'VGhlb3JlbQ==', 'kapitel3_1_4': 'RGVmaW5pdGlvbg==', 'kapitel3_1_5': 'VGhlb3JlbQ==', 'kapitel3_2_0': 'QSDihpIgQg==', 'kapitel3_2_1': 'QSDihpAgQg==', 'kapitel3_2_2': 'QSDih5IgQg==', 'kapitel3_2_3': 'QSDih5IgQg==', 'kapitel3_2_4': 'QSDihpAgQg==', 'kapitel3_2_5': 'QSDih5QgQg==', 'kapitel3_3_0': 'a29tbXV0YXRpdg==', 'kapitel3_3_1': 'bmljaHQga29tbXV0YXRpdg==', 'kapitel3_3_2': 'bmljaHQga29tbXV0YXRpdg==', 'kapitel3_3_3': 'bmljaHQga29tbXV0YXRpdg==', 'kapitel3_4_0': 'bmV1dHJhbGVzIEVsZW1lbnQ=', 'kapitel3_4_1': 'a2VpbiBuZXV0cmFsZXMgRWxlbWVudA==', 'kapitel3_4_2': 'a2VpbiBuZXV0cmFsZXMgRWxlbWVudA==', 'kapitel3_4_3': 'bmV1dHJhbGVzIEVsZW1lbnQ=', 'kapitel3_4_4': 'bmV1dHJhbGVzIEVsZW1lbnQ=', 'kapitel3_4_5': 'a2VpbiBuZXV0cmFsZXMgRWxlbWVudA==', 'kapitel3_4_6': 'a2VpbiBuZXV0cmFsZXMgRWxlbWVudA==', 'kapitel3_4_7': 'bmV1dHJhbGVzIEVsZW1lbnQ='}\n",
       "\n",
       "   form_elements = document.querySelector(\"#\"+property).elements;\n",
       "   for (i = 0; i < form_elements.length ;i++) {\n",
       "      var answer = \"<font size=5 color='red'>&#10007;</font>\";\n",
       "      if (typeof solutions[form_elements[i].id] !== 'undefined') {\n",
       "         if (form_elements[i].value == \n",
       "             decodeURIComponent(escape(atob(solutions[form_elements[i].id] )))) {\n",
       "             answer = \"<font size=5 color='green'>&#10003;</font>\";\n",
       "         }\n",
       "      document.querySelector(\"#\" + form_elements[i].id + \"_ans\").innerHTML=answer;\n",
       "      }\n",
       "   }\n",
       "}\n",
       "</script>"
      ],
      "text/plain": [
       "<IPython.core.display.HTML object>"
      ]
     },
     "metadata": {},
     "output_type": "display_data"
    }
   ],
   "source": [
    "from utils.discrstruct import *"
   ]
  },
  {
   "cell_type": "markdown",
   "id": "0e992e89-4f6c-4608-a821-15d9b3fc9c44",
   "metadata": {},
   "source": [
    "<b>Berechnen Sie mit Python:</b><br>\n",
    "\n",
    "<ul>\n",
    "<li>den Schnitt und die Vereinigung von {1, 2, 3} und {2, 3, 4}\n",
    "<li> die Potenzmenge von {1, 2, 3}\n",
    "    <li> das kartesische Produkt von {1, 2, 3} und {'a', 'b'} \n",
    "<li> das kartesische Produkt von {1, 2, 3} mit sich selbst\n",
    "    </ul>"
   ]
  },
  {
   "cell_type": "code",
   "execution_count": 5,
   "id": "0f5c9a53-6fa1-4f54-88d0-5720a656d3ce",
   "metadata": {},
   "outputs": [
    {
     "data": {
      "text/plain": [
       "{2, 3}"
      ]
     },
     "execution_count": 5,
     "metadata": {},
     "output_type": "execute_result"
    },
    {
     "data": {
      "text/plain": [
       "{1, 2, 3, 4}"
      ]
     },
     "execution_count": 5,
     "metadata": {},
     "output_type": "execute_result"
    },
    {
     "data": {
      "text/plain": [
       "{frozenset(),\n",
       " frozenset({2}),\n",
       " frozenset({2, 3}),\n",
       " frozenset({1}),\n",
       " frozenset({1, 2}),\n",
       " frozenset({3}),\n",
       " frozenset({1, 3}),\n",
       " frozenset({1, 2, 3})}"
      ]
     },
     "execution_count": 5,
     "metadata": {},
     "output_type": "execute_result"
    },
    {
     "data": {
      "text/plain": [
       "{(1, 'a'), (1, 'b'), (2, 'a'), (2, 'b'), (3, 'a'), (3, 'b')}"
      ]
     },
     "execution_count": 5,
     "metadata": {},
     "output_type": "execute_result"
    },
    {
     "data": {
      "text/plain": [
       "{(1, 1), (1, 2), (1, 3), (2, 1), (2, 2), (2, 3), (3, 1), (3, 2), (3, 3)}"
      ]
     },
     "execution_count": 5,
     "metadata": {},
     "output_type": "execute_result"
    }
   ],
   "source": [
    "# Schnitt\n",
    "a = {1,2,3} \n",
    "b = {2,3,4}\n",
    "\n",
    "a & b\n",
    "\n",
    "# Vereinigung\n",
    "a | b\n",
    "\n",
    "# =====\n",
    "\n",
    "# Potenzmenge\n",
    "PowerSet(a)\n",
    "\n",
    "# kartesisches Produkt 1\n",
    "c = {'a', 'b'}\n",
    "\n",
    "CartProd(a,c)\n",
    "\n",
    "# kartesisches Produkt 2\n",
    "CartProd(a,a)"
   ]
  },
  {
   "cell_type": "markdown",
   "id": "8c4f88e2-5763-4da1-afbd-0c0075ea1065",
   "metadata": {},
   "source": [
    "<b>Konstruktoren</b>\n",
    "\n",
    "Beispiel eines Mengen-Konstruktors für die durch 4 teilbaren Zahlen zwischen -10 und 10:"
   ]
  },
  {
   "cell_type": "code",
   "execution_count": null,
   "id": "ceeccc1c-c907-4332-b46d-8ff8fe58dc7f",
   "metadata": {},
   "outputs": [],
   "source": [
    "{x for x in range(-10,11) if x % 4 == 0}"
   ]
  },
  {
   "cell_type": "markdown",
   "id": "0b1946e9-422c-4b15-b82a-770bb5c111fd",
   "metadata": {},
   "source": [
    "Schreiben Sie Mengen-Konstruktoren für\n",
    "<ul>\n",
    "    <li> die ungeraden Zahlen zwischen 10 und 20.\n",
    "    <li> die geraden, ganzen Zahlen größer 4 und kleiner 15.\n",
    "    <li> die doppelten der ungeraden Zahlen zwischen 10 und 20. (Sie können dafür in Ihrem Konstruktor \"{2 * x for x ...}  \" verwenden)\n",
    "<li> die Summen aus den Zahlen von 1 bis 10 addiert mit den Zahlen von 5 bis 8, so dass die Summe kleiner als 15 ist.\n",
    "<li> Die Paare (x,y), für die x+y $<$ 8 und x,y aus der Menge {1..6} kommen. (Tipp: Verwenden Sie hier (x,y) anstatt von [x,y] für die Paare.)\n",
    "</ul>"
   ]
  },
  {
   "cell_type": "code",
   "execution_count": 11,
   "id": "7e7ba653-4665-4d71-99f7-524d991394c7",
   "metadata": {},
   "outputs": [
    {
     "data": {
      "text/plain": [
       "{11, 13, 15, 17, 19}"
      ]
     },
     "execution_count": 11,
     "metadata": {},
     "output_type": "execute_result"
    },
    {
     "data": {
      "text/plain": [
       "{6, 8, 10, 12, 14}"
      ]
     },
     "execution_count": 11,
     "metadata": {},
     "output_type": "execute_result"
    },
    {
     "data": {
      "text/plain": [
       "{22, 26, 30, 34, 38}"
      ]
     },
     "execution_count": 11,
     "metadata": {},
     "output_type": "execute_result"
    },
    {
     "data": {
      "text/plain": [
       "{6, 7, 8, 9, 10, 11, 12, 13, 14}"
      ]
     },
     "execution_count": 11,
     "metadata": {},
     "output_type": "execute_result"
    },
    {
     "data": {
      "text/plain": [
       "{(1, 1),\n",
       " (1, 2),\n",
       " (1, 3),\n",
       " (1, 4),\n",
       " (1, 5),\n",
       " (1, 6),\n",
       " (2, 1),\n",
       " (2, 2),\n",
       " (2, 3),\n",
       " (2, 4),\n",
       " (2, 5),\n",
       " (3, 1),\n",
       " (3, 2),\n",
       " (3, 3),\n",
       " (3, 4),\n",
       " (4, 1),\n",
       " (4, 2),\n",
       " (4, 3),\n",
       " (5, 1),\n",
       " (5, 2),\n",
       " (6, 1)}"
      ]
     },
     "execution_count": 11,
     "metadata": {},
     "output_type": "execute_result"
    }
   ],
   "source": [
    "# Ungerade Zahlen zw. 10 & 20\n",
    "{x for x in range(10, 21) if x % 2 == 1}\n",
    "\n",
    "# Ungerade Zahlen < 4 && > 15\n",
    "{x for x in range(5, 15) if (x>4) and (x<15) and (x%2==0)}\n",
    "\n",
    "# Doppelten der Ungeraden Zahlen zw. 10 und 20\n",
    "{2*x for x in range(10,21) if x % 2 == 1}\n",
    "\n",
    "# Summen \n",
    "{x + y for x in range(1,11) for y in range(5,9) if x + y < 15}\n",
    "\n",
    "# Paare\n",
    "{(x, y) for x in range(1,7) for y in range(1,7) if x+y < 8}"
   ]
  },
  {
   "cell_type": "markdown",
   "id": "dcb5b62f-51a3-46ee-9e37-a79ff44a23ea",
   "metadata": {},
   "source": [
    "Schreiben Sie Mengen-Konstruktoren für\n",
    "<ul>\n",
    "   <li> Die Paare von Zahlen aus {1..20}, die nach Division durch 5 denselben Rest haben.\n",
    "<li> Die Paare (x,y), für die x ⊆ y gilt und x, y Elemente der Potenzmenge von {1,2,3} sind.\n",
    "    <li>Tripeln (n,m,k) aus Zahlen zwischen 1 und 10, so dass n + m = k.\n",
    "<li>Zahlen zwischen 1 und 20, die alle gerade sind, außer 4, und alle durch 5 teilbaren Zahlen außer 15.\n",
    "<li>Paare aus Wahrheitswerten, die einer wahren Subjunktion entsprechen.\n",
    "    </ul>"
   ]
  },
  {
   "cell_type": "code",
   "execution_count": 27,
   "id": "e02ecdb3-e293-4eea-ac5a-7dfab0fb8534",
   "metadata": {},
   "outputs": [
    {
     "data": {
      "text/plain": [
       "{(1, 1),\n",
       " (1, 6),\n",
       " (1, 11),\n",
       " (1, 16),\n",
       " (2, 2),\n",
       " (2, 7),\n",
       " (2, 12),\n",
       " (2, 17),\n",
       " (3, 3),\n",
       " (3, 8),\n",
       " (3, 13),\n",
       " (3, 18),\n",
       " (4, 4),\n",
       " (4, 9),\n",
       " (4, 14),\n",
       " (4, 19),\n",
       " (5, 5),\n",
       " (5, 10),\n",
       " (5, 15),\n",
       " (5, 20),\n",
       " (6, 1),\n",
       " (6, 6),\n",
       " (6, 11),\n",
       " (6, 16),\n",
       " (7, 2),\n",
       " (7, 7),\n",
       " (7, 12),\n",
       " (7, 17),\n",
       " (8, 3),\n",
       " (8, 8),\n",
       " (8, 13),\n",
       " (8, 18),\n",
       " (9, 4),\n",
       " (9, 9),\n",
       " (9, 14),\n",
       " (9, 19),\n",
       " (10, 5),\n",
       " (10, 10),\n",
       " (10, 15),\n",
       " (10, 20),\n",
       " (11, 1),\n",
       " (11, 6),\n",
       " (11, 11),\n",
       " (11, 16),\n",
       " (12, 2),\n",
       " (12, 7),\n",
       " (12, 12),\n",
       " (12, 17),\n",
       " (13, 3),\n",
       " (13, 8),\n",
       " (13, 13),\n",
       " (13, 18),\n",
       " (14, 4),\n",
       " (14, 9),\n",
       " (14, 14),\n",
       " (14, 19),\n",
       " (15, 5),\n",
       " (15, 10),\n",
       " (15, 15),\n",
       " (15, 20),\n",
       " (16, 1),\n",
       " (16, 6),\n",
       " (16, 11),\n",
       " (16, 16),\n",
       " (17, 2),\n",
       " (17, 7),\n",
       " (17, 12),\n",
       " (17, 17),\n",
       " (18, 3),\n",
       " (18, 8),\n",
       " (18, 13),\n",
       " (18, 18),\n",
       " (19, 4),\n",
       " (19, 9),\n",
       " (19, 14),\n",
       " (19, 19),\n",
       " (20, 5),\n",
       " (20, 10),\n",
       " (20, 15),\n",
       " (20, 20)}"
      ]
     },
     "execution_count": 27,
     "metadata": {},
     "output_type": "execute_result"
    },
    {
     "data": {
      "text/plain": [
       "{(frozenset(), frozenset()),\n",
       " (frozenset(), frozenset({3})),\n",
       " (frozenset(), frozenset({2})),\n",
       " (frozenset(), frozenset({1, 2})),\n",
       " (frozenset(), frozenset({2, 3})),\n",
       " (frozenset(), frozenset({1})),\n",
       " (frozenset(), frozenset({1, 3})),\n",
       " (frozenset(), frozenset({1, 2, 3})),\n",
       " (frozenset({2}), frozenset({1, 2})),\n",
       " (frozenset({1}), frozenset({1, 3})),\n",
       " (frozenset({3}), frozenset({1, 2, 3})),\n",
       " (frozenset({2, 3}), frozenset({1, 2, 3})),\n",
       " (frozenset({1}), frozenset({1})),\n",
       " (frozenset({3}), frozenset({3})),\n",
       " (frozenset({1, 3}), frozenset({1, 3})),\n",
       " (frozenset({2}), frozenset({2, 3})),\n",
       " (frozenset({1}), frozenset({1, 2})),\n",
       " (frozenset({1}), frozenset({1, 2, 3})),\n",
       " (frozenset({2}), frozenset({2})),\n",
       " (frozenset({2}), frozenset({1, 2, 3})),\n",
       " (frozenset({1, 2}), frozenset({1, 2})),\n",
       " (frozenset({1, 2}), frozenset({1, 2, 3})),\n",
       " (frozenset({3}), frozenset({1, 3})),\n",
       " (frozenset({3}), frozenset({2, 3})),\n",
       " (frozenset({1, 3}), frozenset({1, 2, 3})),\n",
       " (frozenset({2, 3}), frozenset({2, 3})),\n",
       " (frozenset({1, 2, 3}), frozenset({1, 2, 3}))}"
      ]
     },
     "execution_count": 27,
     "metadata": {},
     "output_type": "execute_result"
    },
    {
     "data": {
      "text/plain": [
       "{(1, 1, 2),\n",
       " (1, 2, 3),\n",
       " (1, 3, 4),\n",
       " (1, 4, 5),\n",
       " (1, 5, 6),\n",
       " (1, 6, 7),\n",
       " (1, 7, 8),\n",
       " (1, 8, 9),\n",
       " (1, 9, 10),\n",
       " (2, 1, 3),\n",
       " (2, 2, 4),\n",
       " (2, 3, 5),\n",
       " (2, 4, 6),\n",
       " (2, 5, 7),\n",
       " (2, 6, 8),\n",
       " (2, 7, 9),\n",
       " (2, 8, 10),\n",
       " (3, 1, 4),\n",
       " (3, 2, 5),\n",
       " (3, 3, 6),\n",
       " (3, 4, 7),\n",
       " (3, 5, 8),\n",
       " (3, 6, 9),\n",
       " (3, 7, 10),\n",
       " (4, 1, 5),\n",
       " (4, 2, 6),\n",
       " (4, 3, 7),\n",
       " (4, 4, 8),\n",
       " (4, 5, 9),\n",
       " (4, 6, 10),\n",
       " (5, 1, 6),\n",
       " (5, 2, 7),\n",
       " (5, 3, 8),\n",
       " (5, 4, 9),\n",
       " (5, 5, 10),\n",
       " (6, 1, 7),\n",
       " (6, 2, 8),\n",
       " (6, 3, 9),\n",
       " (6, 4, 10),\n",
       " (7, 1, 8),\n",
       " (7, 2, 9),\n",
       " (7, 3, 10),\n",
       " (8, 1, 9),\n",
       " (8, 2, 10),\n",
       " (9, 1, 10)}"
      ]
     },
     "execution_count": 27,
     "metadata": {},
     "output_type": "execute_result"
    },
    {
     "data": {
      "text/plain": [
       "{2, 5, 6, 8, 10, 12, 14, 16, 18, 20}"
      ]
     },
     "execution_count": 27,
     "metadata": {},
     "output_type": "execute_result"
    },
    {
     "data": {
      "text/plain": [
       "{2, 5, 6, 8, 10, 12, 14, 16, 18, 20}"
      ]
     },
     "execution_count": 27,
     "metadata": {},
     "output_type": "execute_result"
    },
    {
     "data": {
      "text/plain": [
       "{(False, False), (False, True), (True, True)}"
      ]
     },
     "execution_count": 27,
     "metadata": {},
     "output_type": "execute_result"
    }
   ],
   "source": [
    "# Paare, gleicher Rest\n",
    "{(x,y) for x in range(1,21)for y in range(1,21) if x % 5 == y % 5}\n",
    "\n",
    "# Paare Teilmenge\n",
    "{(x,y) for x in PowerSet({1,2,3}) for y in PowerSet({1,2,3}) if x <= y}\n",
    "\n",
    "# Tripel\n",
    "{(n,m,k) for n in range(1,11) for m in range(1,11) for k in range(1,11) if n + m == k}\n",
    "\n",
    "# 1-2 5 und 5\n",
    "{x for x in range(1,21) if (x % 2 == 0 and x != 4) or (x % 5 == 0 and x != 15)}\n",
    "\n",
    "#     Andere Variante\n",
    "m1 = {x for x in range(1,21) if (x % 5 == 0 and x != 15)}\n",
    "m2 = {x for x in range(1,21) if (x % 2 == 0 and x != 4)}\n",
    "m1 | m2\n",
    "\n",
    "# Paare aus Wahrheitswerten, die einer wahren Subjunktion entsprechen\n",
    "ww = (False, True)\n",
    "{(x, y) for x in ww for y in ww if x -s>> y}\n"
   ]
  },
  {
   "cell_type": "code",
   "execution_count": null,
   "id": "e3d40a84-5678-4f7c-8ecf-55159df1a14b",
   "metadata": {},
   "outputs": [],
   "source": []
  },
  {
   "cell_type": "code",
   "execution_count": null,
   "id": "800a61a0-4838-4977-949d-0d9c0c2385ce",
   "metadata": {},
   "outputs": [],
   "source": []
  }
 ],
 "metadata": {
  "kernelspec": {
   "display_name": "Python 3 (ipykernel)",
   "language": "python",
   "name": "python3"
  },
  "language_info": {
   "codemirror_mode": {
    "name": "ipython",
    "version": 3
   },
   "file_extension": ".py",
   "mimetype": "text/x-python",
   "name": "python",
   "nbconvert_exporter": "python",
   "pygments_lexer": "ipython3",
   "version": "3.12.7"
  }
 },
 "nbformat": 4,
 "nbformat_minor": 5
}

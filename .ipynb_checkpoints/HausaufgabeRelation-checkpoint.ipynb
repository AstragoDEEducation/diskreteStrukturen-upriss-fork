{
 "cells": [
  {
   "cell_type": "code",
   "execution_count": 1,
   "id": "824b10e1-4561-4576-8f07-fd1421910c3f",
   "metadata": {},
   "outputs": [
    {
     "data": {
      "text/html": [
       "<script type=\"text/javascript\">\n",
       "function ueberpruefen(property) {\n",
       "var solutions = \n",
       "{'kapitel2_1_0': 'RGllIEZsYXNjaGUgaXN0IG5pY2h0IHZvbGwu', 'kapitel2_1_1': 'RGllIEhvc2UgaXN0IG5pY2h0IHNjaHdhcnou', 'kapitel2_2_0': 'RXIgbWFnIGtlaW5lbiBTY2huYXBzIG9kZXIgZXIgbWFnIFNla3Qu', 'kapitel2_2_1': 'U2llIHRhbnp0IG5pY2h0IG9kZXIgZsOkaHJ0IG5pY2h0IFJhZC4=', 'kapitel2_3_0': 'SmE=', 'kapitel2_3_1': 'SmE=', 'kapitel2_3_2': 'SmE=', 'kapitel2_3_3': 'TmVpbg==', 'kapitel2_3_4': 'SmE=', 'kapitel2_3_5': 'TmVpbg==', 'kapitel2_3_6': 'SmE=', 'kapitel2_3_7': 'TmVpbg==', 'kapitel2_4_0': 'QXVzc2FnZWZvcm0=', 'kapitel2_4_1': 'QXVzc2FnZWZvcm0=', 'kapitel2_4_2': 'QXVzc2FnZWZvcm0=', 'kapitel2_4_3': 'V2VkZXIgQXVzc2FnZSBub2NoIEF1c3NhZ2Vmb3Jt', 'kapitel2_4_4': 'QXVzc2FnZQ==', 'kapitel2_4_5': 'QXVzc2FnZQ==', 'kapitel2_4_6': 'V2VkZXIgQXVzc2FnZSBub2NoIEF1c3NhZ2Vmb3Jt', 'kapitel2_4_7': 'QXVzc2FnZQ==', 'kapitel2_5_0': 'ZW50d2VkZXItb2Rlcg==', 'kapitel2_5_1': 'ZW50d2VkZXItb2Rlcg==', 'kapitel2_5_2': 'bG9naXNjaGVzIG9kZXI=', 'kapitel2_5_3': 'ZW50d2VkZXItb2Rlcg==', 'kapitel2_6_0': 'd2Focg==', 'kapitel2_6_1': 'ZmFsc2No', 'kapitel2_6_2': 'd2Focg==', 'kapitel2_6_3': 'ZmFsc2No', 'kapitel2_7_0': 'QXVmesOkaGx1bmcgdm9uIEdlZ2Vuc3TDpG5kZW4=', 'kapitel2_7_1': 'bG9naXNjaGUgS29uanVua3Rpb24=', 'kapitel2_7_2': 'bG9naXNjaGUgS29uanVua3Rpb24=', 'kapitel2_7_3': 'QXVmesOkaGx1bmcgdm9uIEdlZ2Vuc3TDpG5kZW4=', 'kapitel3_1_0': 'RGVmaW5pdGlvbg==', 'kapitel3_1_1': 'VGhlb3JlbQ==', 'kapitel3_1_2': 'RGVmaW5pdGlvbg==', 'kapitel3_1_3': 'VGhlb3JlbQ==', 'kapitel3_1_4': 'RGVmaW5pdGlvbg==', 'kapitel3_1_5': 'VGhlb3JlbQ==', 'kapitel3_2_0': 'QSDihpIgQg==', 'kapitel3_2_1': 'QSDihpAgQg==', 'kapitel3_2_2': 'QSDih5IgQg==', 'kapitel3_2_3': 'QSDih5IgQg==', 'kapitel3_2_4': 'QSDihpAgQg==', 'kapitel3_2_5': 'QSDih5QgQg==', 'kapitel3_3_0': 'a29tbXV0YXRpdg==', 'kapitel3_3_1': 'bmljaHQga29tbXV0YXRpdg==', 'kapitel3_3_2': 'bmljaHQga29tbXV0YXRpdg==', 'kapitel3_3_3': 'bmljaHQga29tbXV0YXRpdg==', 'kapitel3_4_0': 'bmV1dHJhbGVzIEVsZW1lbnQ=', 'kapitel3_4_1': 'a2VpbiBuZXV0cmFsZXMgRWxlbWVudA==', 'kapitel3_4_2': 'a2VpbiBuZXV0cmFsZXMgRWxlbWVudA==', 'kapitel3_4_3': 'bmV1dHJhbGVzIEVsZW1lbnQ=', 'kapitel3_4_4': 'bmV1dHJhbGVzIEVsZW1lbnQ=', 'kapitel3_4_5': 'a2VpbiBuZXV0cmFsZXMgRWxlbWVudA==', 'kapitel3_4_6': 'a2VpbiBuZXV0cmFsZXMgRWxlbWVudA==', 'kapitel3_4_7': 'bmV1dHJhbGVzIEVsZW1lbnQ='}\n",
       "\n",
       "   form_elements = document.querySelector(\"#\"+property).elements;\n",
       "   for (i = 0; i < form_elements.length ;i++) {\n",
       "      var answer = \"<font size=5 color='red'>&#10007;</font>\";\n",
       "      if (typeof solutions[form_elements[i].id] !== 'undefined') {\n",
       "         if (form_elements[i].value == \n",
       "             decodeURIComponent(escape(atob(solutions[form_elements[i].id] )))) {\n",
       "             answer = \"<font size=5 color='green'>&#10003;</font>\";\n",
       "         }\n",
       "      document.querySelector(\"#\" + form_elements[i].id + \"_ans\").innerHTML=answer;\n",
       "      }\n",
       "   }\n",
       "}\n",
       "</script>"
      ],
      "text/plain": [
       "<IPython.core.display.HTML object>"
      ]
     },
     "metadata": {},
     "output_type": "display_data"
    }
   ],
   "source": [
    "from utils.discrstruct import *"
   ]
  },
  {
   "cell_type": "markdown",
   "id": "f67c2948-f8a1-4294-837b-d244b057e897",
   "metadata": {},
   "source": [
    "<b>Aussage</b>: Für jede nicht leere Menge A gibt es KEINE Relation R auf A, die sowohl eine Äquivalenzrelation als auch eine strikte Ordnungsrelation ist."
   ]
  },
  {
   "cell_type": "markdown",
   "id": "32107fd2-ef0b-421e-bfc8-ebfcf3f5e285",
   "metadata": {},
   "source": [
    "<b>1. Beweis der Aussage unter Benutzung von OLAF (olaf.ostfalia.de)</b>\n",
    "\n",
    "ERSETZEN SIE DIESEN TEXT DURCH IHR ERGEBNIS VON OLAF. Reines Copy/Paste von Olaf funktioniert nicht immer fehlerfrei. Sie dürfen/sollen das Output noch geringfügig editieren. Das Ziel ist ein möglichst guter Beweis.\n",
    "\n",
    "Um zu zeigen, dass die Teilbarkeitsrelation \"a | b\" transitiv ist, müssen wir zeigen, dass wenn a | b und b | c, dann auch a | c gilt. Die Teilbarkeitsrelation \"a | b\" bedeutet, dass es eine ganze Zahl k gibt, so dass b = a * k.\n",
    "\n",
    "Angenommen, a | b bedeutet, dass es eine ganze Zahl k gibt, so dass b = a * k.\n",
    "Angenommen, b | c bedeutet, dass es eine ganze Zahl m gibt, so dass c = b * m.\n",
    "\n",
    "Wir wollen zeigen, dass a | c. Setzen wir die Ausdrücke für b und c ein:\n",
    "\n",
    "c = b * m<br>\n",
    "c = (a  k)  m<br>\n",
    "c = a  (k  m)\n",
    "\n",
    "Da k * m eine ganze Zahl ist (Produkt ganzer Zahlen ist eine ganze Zahl), folgt daraus, dass a | c.\n",
    "\n",
    "Somit haben wir gezeigt, dass wenn a | b und b | c gilt, dann auch a | c gilt, was bedeutet, dass die Teilbarkeitsrelation transitiv ist.\n",
    "\n"
   ]
  },
  {
   "cell_type": "markdown",
   "id": "824ea0a5-bde7-433c-b3f6-52f71a00b25e",
   "metadata": {},
   "source": [
    "<b>1.1 War der Beweis von OLAF richtig?</b>\n",
    "\n",
    "Schreiben Sie hier, ob Sie Fehler im Beweis gefunden haben oder ob er richtig war."
   ]
  },
  {
   "cell_type": "markdown",
   "id": "906153ef-066e-47af-993e-a1cd3cbdebf0",
   "metadata": {},
   "source": [
    "<b>1.2 War der Beweis von OLAF gut verständlich?</b>\n",
    "\n",
    "Schreiben Sie hier, ob der Beweis gut verständlich war, zu lang oder zu kurz, ob Sie viel geändert haben oder ob Sie andere Verbesserungsvorschläge hätten.\n"
   ]
  },
  {
   "cell_type": "markdown",
   "id": "eea65525-05d5-4cee-8819-e27e3c5a9994",
   "metadata": {},
   "source": [
    "<b>2. Implementierung der Aussage in Python für Beispiele anhand von OLAF</b>\n",
    "\n",
    "Sagen Sie OLAF, dass Sie dafür Python-Code haben möchten, aber ohne Schleifen u.a., die wir nicht behandelt haben. Geben Sie das dann so in dieses Jupyter-Notebook ein, dass der Python-Code ausführbar ist. Hier ist das Ergebnis von OLAF:"
   ]
  },
  {
   "cell_type": "code",
   "execution_count": null,
   "id": "09c765e4-6d1c-4881-af99-03acdd879dbe",
   "metadata": {},
   "outputs": [],
   "source": [
    "def is_divisible(a, b):\n",
    "    \"\"\"Überprüft, ob a ein Teiler von b ist.\"\"\"\n",
    "    return b % a == 0\n",
    "\n",
    "def is_transitive(a, b, c):\n",
    "    \"\"\"Überprüft, ob die Teilbarkeitstransitivität für a, b, c gilt.\"\"\"\n",
    "    if is_divisible(a, b) and is_divisible(b, c):\n",
    "        # Wenn a | b und b | c, dann sollte a | c gelten\n",
    "        return is_divisible(a, c)\n",
    "    # Wenn nicht a | b oder nicht b | c, kann nichts über a | c gesagt werden\n",
    "    return False\n",
    "\n",
    "# Beispielaufruf:\n",
    "a = 2\n",
    "b = 4\n",
    "c = 8\n",
    "print(is_transitive(a, b, c))  # Gibt True aus, da 2 | 4 und 4 | 8 implizieren, dass 2 | 8"
   ]
  },
  {
   "cell_type": "markdown",
   "id": "63555202-3f2b-4320-a468-8b81953be901",
   "metadata": {},
   "source": [
    "<b>2.1 War der Code von OLAF richtig?</b>\n",
    "\n",
    "Schreiben Sie hier Ihre Antwort. (In diesem Beispiel ist der Vorschlag von OLAF nicht ganz richtig, siehe Verbesserungsvorschlag unten!)"
   ]
  },
  {
   "cell_type": "markdown",
   "id": "70ffbb31-7f8f-4d95-a4ff-0701927c2bde",
   "metadata": {},
   "source": [
    "<b>2.2 Beurteilen Sie den Code von OLAF</b>\n",
    "\n",
    "Schreiben Sie hier, ob der Code gut verständlich war, zu lang oder zu kurz, vollständig oder unvollständig."
   ]
  },
  {
   "cell_type": "markdown",
   "id": "f2ee674c-00e8-41d5-9ba5-cd796350d726",
   "metadata": {},
   "source": [
    "<b>2.3 Verbesserungsvorschlag</b>\n",
    "\n",
    "Falls Sie einen Verbesserungsvorschlag für den Code haben, schreiben Sie ihn im nächsten Feld. Falls nicht, sind Sie fertig."
   ]
  },
  {
   "cell_type": "code",
   "execution_count": null,
   "id": "90eb16c8-01de-4ad6-a00b-095708666157",
   "metadata": {},
   "outputs": [],
   "source": [
    "def is_transitive(a, b, c):\n",
    "    \"\"\"Überprüft, ob die Teilbarkeitstransitivität für a, b, c gilt.\"\"\"\n",
    "    if is_divisible(a, b) and is_divisible(b, c):\n",
    "        # Wenn a | b und b | c, dann sollte a | c gelten\n",
    "        return is_divisible(a, c)\n",
    "    # Wenn nicht a | b oder nicht b | c, kann nichts über a | c gesagt werden\n",
    "    return True\n",
    "transitiveTripel = {(a,b,c) for a in range(1,11) for b in range(1,11) for c in range(1,11) if is_transitive(a, b, c)}\n",
    "alleTripel = {(a,b,c) for a in range(1,11) for b in range(1,11) for c in range(1,11)}\n",
    "transitiveTripel == alleTripel"
   ]
  },
  {
   "cell_type": "code",
   "execution_count": null,
   "id": "7467991b-b977-4198-bce8-bc0be698ba5b",
   "metadata": {},
   "outputs": [],
   "source": []
  }
 ],
 "metadata": {
  "kernelspec": {
   "display_name": "Python 3 (ipykernel)",
   "language": "python",
   "name": "python3"
  },
  "language_info": {
   "codemirror_mode": {
    "name": "ipython",
    "version": 3
   },
   "file_extension": ".py",
   "mimetype": "text/x-python",
   "name": "python",
   "nbconvert_exporter": "python",
   "pygments_lexer": "ipython3",
   "version": "3.13.0"
  }
 },
 "nbformat": 4,
 "nbformat_minor": 5
}

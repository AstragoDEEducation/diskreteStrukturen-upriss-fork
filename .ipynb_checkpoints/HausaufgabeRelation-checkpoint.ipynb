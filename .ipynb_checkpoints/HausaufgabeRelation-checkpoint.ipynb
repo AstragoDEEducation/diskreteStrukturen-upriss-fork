{
 "cells": [
  {
   "cell_type": "code",
   "execution_count": 18,
   "id": "824b10e1-4561-4576-8f07-fd1421910c3f",
   "metadata": {},
   "outputs": [],
   "source": [
    "from utils.discrstruct import *"
   ]
  },
  {
   "cell_type": "markdown",
   "id": "f67c2948-f8a1-4294-837b-d244b057e897",
   "metadata": {},
   "source": [
    "<b style=\"color:red\">Aussage</b>: Für jede nicht leere Menge A gibt es KEINE Relation R auf A, die sowohl eine Äquivalenzrelation als auch eine strikte Ordnungsrelation ist."
   ]
  },
  {
   "cell_type": "markdown",
   "id": "32107fd2-ef0b-421e-bfc8-ebfcf3f5e285",
   "metadata": {},
   "source": [
    "<b style=\"color:red\">1. Beweis der Aussage unter Benutzung von OLAF (olaf.ostfalia.de)</b>\n",
    "\n",
    "<h3>Beweis der Aussage</h3>\n",
    "    <p>\n",
    "        Um die Aussage zu beweisen, müssen wir zeigen, dass es für jede nicht leere Menge <strong>A</strong> keine Relation <strong>R</strong> auf <strong>A</strong> gibt, die gleichzeitig eine Äquivalenzrelation und eine strikte Ordnungsrelation ist.\n",
    "    </p>\n",
    "    <h4>Definitionen</h4>\n",
    "    <p>\n",
    "        1. <strong>Äquivalenzrelation:</strong> Eine Relation <strong>R</strong> auf einer Menge <strong>A</strong> ist eine Äquivalenzrelation, wenn sie die folgenden Eigenschaften erfüllt:\n",
    "        <ul>\n",
    "            <li><strong>Reflexivität:</strong> Für alle <em>a ∈ A</em> gilt (<em>a, a</em>) ∈ <strong>R</strong>.</li>\n",
    "            <li><strong>Symmetrie:</strong> Für alle <em>a, b ∈ A</em> gilt, wenn (<em>a, b</em>) ∈ <strong>R</strong>, dann (<em>b, a</em>) ∈ <strong>R</strong>.</li>\n",
    "            <li><strong>Transitivität:</strong> Für alle <em>a, b, c ∈ A</em> gilt, wenn (<em>a, b</em>) ∈ <strong>R</strong> und (<em>b, c</em>) ∈ <strong>R</strong>, dann (<em>a, c</em>) ∈ <strong>R</strong>.</li>\n",
    "        </ul>\n",
    "    </p>\n",
    "    <p>\n",
    "        2. <strong>Strikte Ordnungsrelation:</strong> Eine Relation <strong>R</strong> auf einer Menge <strong>A</strong> ist eine strikte Ordnungsrelation, wenn sie die folgenden Eigenschaften erfüllt:\n",
    "        <ul>\n",
    "            <li><strong>Irreflexivität:</strong> Für alle <em>a ∈ A</em> gilt nicht (<em>a, a</em>) ∈ <strong>R</strong>.</li>\n",
    "            <li><strong>Transitivität:</strong> Für alle <em>a, b, c ∈ A</em> gilt, wenn (<em>a, b</em>) ∈ <strong>R</strong> und (<em>b, c</em>) ∈ <strong>R</strong>, dann (<em>a, c</em>) ∈ <strong>R</strong>.</li>\n",
    "        </ul>\n",
    "    </p>\n",
    "    <h3>Nachweis des Widerspruchs</h3>\n",
    "    <p>\n",
    "        Für eine Relation <strong>R</strong> auf <strong>A</strong>, die gleichzeitig eine Äquivalenzrelation und eine strikte Ordnungsrelation sein soll, müsste sie sowohl reflexiv als auch irreflexiv sein. Das ist ein Widerspruch:\n",
    "    </p>\n",
    "    <ul>\n",
    "        <li><strong>Reflexivität:</strong> Als Teil der Äquivalenzrelationseigenschaft muss (<em>a, a</em>) ∈ <strong>R</strong> für alle <em>a ∈ A</em> gelten.</li>\n",
    "        <li><strong>Irreflexivität:</strong> Als Teil der strikten Ordnungsrelationseigenschaft darf (<em>a, a</em>) ∉ <strong>R</strong> für alle <em>a ∈ A</em> gelten.</li>\n",
    "    </ul>\n",
    "    <p>\n",
    "        Da Reflexivität und Irreflexivität sich gegenseitig ausschließen, kann keine Relation gleichzeitig reflexiv und irreflexiv sein. \n",
    "        Daher kann keine Relation auf <strong>A</strong> gleichzeitig eine Äquivalenzrelation und eine strikte Ordnungsrelation sein.\n",
    "    </p>\n",
    "    <p>\n",
    "        Damit ist die Aussage bewiesen: Für jede nicht leere Menge <strong>A</strong> gibt es keine Relation <strong>R</strong> auf <strong>A</strong>, die sowohl eine Äquivalenzrelation als auch eine strikte Ordnungsrelation ist.\n",
    "    </p>"
   ]
  },
  {
   "cell_type": "markdown",
   "id": "824ea0a5-bde7-433c-b3f6-52f71a00b25e",
   "metadata": {},
   "source": [
    "<b style=\"color:red\">1.1 War der Beweis von OLAF richtig?</b>\n",
    "\n",
    "Obwohl die Definition für die Äquivalenzrelation richtig ist, ist die Definition der strikten Ordnungsrelation falsch. \n",
    "Laut Lehrtext ist eine strikte Ordnungsrelation asymmetrisch und transitiv. \n",
    "Das Attribut der Asymmetrie impliziert zwar die Irreflexivität, welche im Nachweis des Widerspruchs verwendet wird, reicht aber nicht aus.\n",
    "Würde die Definition von OLAF verwendet werden, wären Kanten in Rückrichtung zu einer bereits vorhandenen Kante nicht ausgeschlossen.\n",
    "Das ist laut Definition für die strikte Ordnungsrelation jedoch untersagt.\n",
    "\n",
    "<h1> KORRIGIERTE VERSION (unter Verwendung von Verbesserungsvorschlägen)</h1>\n",
    "\n",
    "<h3>Beweis der Aussage</h3>\n",
    "    <p>\n",
    "        Um die Aussage zu beweisen, müssen wir zeigen, dass es für jede nicht leere Menge <strong>A</strong> keine Relation <strong>R</strong> auf <strong>A</strong> gibt, die gleichzeitig eine Äquivalenzrelation und eine strikte Ordnungsrelation ist.\n",
    "    </p>\n",
    "    <h3>Definitionen</h3>\n",
    "    <p>\n",
    "        1. <strong>Äquivalenzrelation:</strong> Eine Relation <strong>R</strong> auf einer Menge <strong>A</strong> ist eine Äquivalenzrelation, wenn sie die folgenden Eigenschaften erfüllt:\n",
    "        <ul>\n",
    "            <li><strong>Reflexivität:</strong> Für alle <em>a ∈ A</em> gilt (<em>a, a</em>) ∈ <strong>R</strong>.</li>\n",
    "            <li><strong>Symmetrie:</strong> Für alle <em>a, b ∈ A</em> gilt, wenn (<em>a, b</em>) ∈ <strong>R</strong>, dann (<em>b, a</em>) ∈ <strong>R</strong>.</li>\n",
    "            <li><strong>Transitivität:</strong> Für alle <em>a, b, c ∈ A</em> gilt, wenn (<em>a, b</em>) ∈ <strong>R</strong> und (<em>b, c</em>) ∈ <strong>R</strong>, dann (<em>a, c</em>) ∈ <strong>R</strong>.</li>\n",
    "        </ul>\n",
    "    </p>\n",
    "    <p>\n",
    "        2. <strong>Strikte Ordnungsrelation:</strong> Eine Relation <strong>R</strong> auf einer Menge <strong>A</strong> ist eine strikte Ordnungsrelation, wenn sie die folgenden Eigenschaften erfüllt:\n",
    "        <ul>\n",
    "            <li><strong>Asymmetrie:</strong> Für alle <em>a, b ∈ A</em> gilt, wenn (<em>a, b</em>) ∈ <strong>R</strong>, dann (<em>b, a</em>) ∉ <strong>R</strong>. Asymmetrie impliziert Irreflexivität, denn wenn (<em>a, a</em>) ∈ <strong>R</strong> wäre, würde dies der Asymmetrie widersprechen, weil dann auch (<em>a, a</em>) ∉ <strong>R</strong> gelten müsste.</li>\n",
    "            <li><strong>Transitivität:</strong> Für alle <em>a, b, c ∈ A</em> gilt, wenn (<em>a, b</em>) ∈ <strong>R</strong> und (<em>b, c</em>) ∈ <strong>R</strong>, dann (<em>a, c</em>) ∈ <strong>R</strong>.</li>\n",
    "        </ul>\n",
    "    </p>\n",
    "    <h3>Nachweis des Widerspruchs</h3>\n",
    "    <p>\n",
    "        Für eine Relation <strong>R</strong> auf <strong>A</strong>, die gleichzeitig eine Äquivalenzrelation und eine strikte Ordnungsrelation sein soll, müsste sie sowohl reflexiv als auch asymmetrisch sein. Das ist ein Widerspruch:\n",
    "    </p>\n",
    "    <ul>\n",
    "        <li><strong>Reflexivität:</strong> Als Teil der Äquivalenzrelationseigenschaft muss (<em>a, a</em>) ∈ <strong>R</strong> für alle <em>a ∈ A</em> gelten.</li>\n",
    "        <li><strong>Asymmetrie (und Irreflexivität):</strong> Als Teil der strikten Ordnungsrelationseigenschaft darf, wenn (<em>a, a</em>) ∈ <strong>R</strong>, nicht (<em>a, a</em>) ∈ <strong>R</strong> gelten, was in sich widersprüchlich ist.</li>\n",
    "    </ul>\n",
    "    <p>\n",
    "        Da Reflexivität und Asymmetrie (und damit Irreflexivität) sich gegenseitig ausschließen, kann keine Relation gleichzeitig reflexiv und asymmetrisch sein. \n",
    "        Daher kann keine Relation auf <strong>A</strong> gleichzeitig eine Äquivalenzrelation und eine strikte Ordnungsrelation sein.\n",
    "    </p>\n",
    "    <p>\n",
    "        Damit ist die Aussage bewiesen: Für jede nicht leere Menge <strong>A</strong> gibt es keine Relation <strong>R</strong> auf <strong>A</strong>, die sowohl eine Äquivalenzrelation als auch eine strikte Ordnungsrelation ist.\n",
    "    </p>"
   ]
  },
  {
   "cell_type": "markdown",
   "id": "906153ef-066e-47af-993e-a1cd3cbdebf0",
   "metadata": {},
   "source": [
    "<b style=\"color:red\">1.2 War der Beweis von OLAF gut verständlich?</b>\n",
    "\n",
    "<!-- Schreiben Sie hier, ob der Beweis gut verständlich war, zu lang oder zu kurz, ob Sie viel geändert haben oder ob Sie andere Verbesserungsvorschläge hätten. -->\n",
    "\n",
    "Nach der Korrektur, welche zwei zusätzliche Prompts benötigte, ist der Beweis meiner Meinung nach nicht zu lang und sehr verständlich. \n",
    "Ohne eine Korrektur der Ausgabe, wäre der Beweis zwar korrekt, da das Mittel, welches zum Beweis herangezogen wurde (Ausschluss von Reflexivität und Irreflexivität) korrekt ist, jedoch durch die unvollständige Prämisse ein Fehler ist. OLAF ist also trotz falscher Prämisse zum richtigen Ergebnis gelangt.\n"
   ]
  },
  {
   "cell_type": "markdown",
   "id": "eea65525-05d5-4cee-8819-e27e3c5a9994",
   "metadata": {},
   "source": [
    "<b style=\"color:red\">2. Implementierung der Aussage in Python für Beispiele anhand von OLAF</b>\n",
    "\n",
    "Sagen Sie OLAF, dass Sie dafür Python-Code haben möchten, aber ohne Schleifen u.a., die wir nicht behandelt haben. Geben Sie das dann so in dieses Jupyter-Notebook ein, dass der Python-Code ausführbar ist. Hier ist das Ergebnis von OLAF:"
   ]
  },
  {
   "cell_type": "code",
   "execution_count": 19,
   "id": "09c765e4-6d1c-4881-af99-03acdd879dbe",
   "metadata": {},
   "outputs": [
    {
     "name": "stdout",
     "output_type": "stream",
     "text": [
      "Ist R eine Äquivalenzrelation? True\n",
      "Ist R eine strikte Ordnungsrelation? False\n",
      "Kann die Relation gleichzeitig eine Äquivalenzrelation und eine strikte Ordnung sein? False\n"
     ]
    }
   ],
   "source": [
    "def is_equivalence_relation(A, R):\n",
    "    # Überprüfen auf Reflexivität\n",
    "    reflexive = all((a, a) in R for a in A)\n",
    "    \n",
    "    # Überprüfen auf Symmetrie\n",
    "    symmetric = all((b, a) in R for (a, b) in R)\n",
    "    \n",
    "    # Überprüfen auf Transitivität\n",
    "    transitive = all((a, c) in R for (a, b) in R for (b2, c) in R if b == b2)\n",
    "    \n",
    "    # R ist eine Äquivalenzrelation, wenn sie reflexiv, symmetrisch und transitiv ist\n",
    "    return reflexive and symmetric and transitive\n",
    "\n",
    "def is_strict_order_relation(A, R):\n",
    "    # Überprüfen auf Asymmetrie (Impliziert Irreflexivität)\n",
    "    asymmetric = all((b, a) not in R for (a, b) in R)\n",
    "    \n",
    "    # Überprüfen auf Transitivität\n",
    "    transitive = all((a, c) in R for (a, b) in R for (b2, c) in R if b == b2)\n",
    "    \n",
    "    # R ist eine strikte Ordnungsrelation, wenn sie asymmetrisch und transitiv ist\n",
    "    return asymmetric and transitive\n",
    "\n",
    "# Äquivalenzrelation, keine Ordnungsrelation\n",
    "# Beispielmenge A und Relation R\n",
    "A = {1, 2}\n",
    "R = {(1, 2), (2, 1), (1, 1), (2, 2)}\n",
    "\n",
    "# Prüfung, ob R eine Äquivalenzrelation ist\n",
    "is_equiv = is_equivalence_relation(A, R)\n",
    "\n",
    "# Prüfung, ob R eine strikte Ordnungsrelation ist\n",
    "is_order = is_strict_order_relation(A, R)\n",
    "\n",
    "# Ergebnis\n",
    "can_be_both = is_equiv and is_order\n",
    "\n",
    "# Ausgabe\n",
    "print(\"Ist R eine Äquivalenzrelation?\", is_equiv)\n",
    "print(\"Ist R eine strikte Ordnungsrelation?\", is_order)\n",
    "print(\"Kann die Relation gleichzeitig eine Äquivalenzrelation und eine strikte Ordnung sein?\", can_be_both)"
   ]
  },
  {
   "cell_type": "markdown",
   "id": "63555202-3f2b-4320-a468-8b81953be901",
   "metadata": {},
   "source": [
    "<b style=\"color:red\">2.1 War der Code von OLAF richtig?</b>\n",
    "\n",
    "<!-- Schreiben Sie hier Ihre Antwort. (In diesem Beispiel ist der Vorschlag von OLAF nicht ganz richtig, siehe Verbesserungsvorschlag unten!) -->\n",
    "\n",
    "Der Code von OLAF erscheint mir richtig und ist verständlich. Ich konnte keine Fehler feststellen.\n"
   ]
  },
  {
   "cell_type": "markdown",
   "id": "70ffbb31-7f8f-4d95-a4ff-0701927c2bde",
   "metadata": {},
   "source": [
    "<b style=\"color:red\">2.2 Beurteilen Sie den Code von OLAF</b>\n",
    "\n",
    "<!-- Schreiben Sie hier, ob der Code gut verständlich war, zu lang oder zu kurz, vollständig oder unvollständig. -->\n",
    "\n",
    "Der Code von OLAF ist wie oben erwähnt verständlich und gut kommentiert.\n",
    "Die Verwendung der Variable b2 bei der Prüfung auf Transitivität scheint auf eine (syntaktische) Beschränkung der Programmiersprache zurückzuführen zu sein und ist somit akzeptabel. \n",
    "\n",
    "Die Funktion is_strict_order_relation kann auf den Parameter der Menge verzichten, da dieser nicht verwendet wird. Dieser Fehler kann aus einem missverstandenen Prompt resultieren. Unten wurde dieser Fehler korrigiert und eine Zusätzliche Prüfung für die Ordnungsrelation hinzugefügt."
   ]
  },
  {
   "cell_type": "markdown",
   "id": "f2ee674c-00e8-41d5-9ba5-cd796350d726",
   "metadata": {},
   "source": [
    "<b style=\"color:red\">2.3 Verbesserungsvorschlag</b>\n",
    "\n",
    "Falls Sie einen Verbesserungsvorschlag für den Code haben, schreiben Sie ihn im nächsten Feld. Falls nicht, sind Sie fertig."
   ]
  },
  {
   "cell_type": "code",
   "execution_count": 20,
   "id": "90eb16c8-01de-4ad6-a00b-095708666157",
   "metadata": {},
   "outputs": [
    {
     "name": "stdout",
     "output_type": "stream",
     "text": [
      "Ist S eine Äquivalenzrelation? False\n",
      "Ist S eine strikte Ordnungsrelation? True\n",
      "Kann die Relation gleichzeitig eine Äquivalenzrelation und eine strikte Ordnung sein? False\n"
     ]
    }
   ],
   "source": [
    "def is_strict_order_relation(R):\n",
    "    # Überprüfen auf Asymmetrie (Impliziert Irreflexivität)\n",
    "    asymmetric = all((b, a) not in R for (a, b) in R)\n",
    "    \n",
    "    # Überprüfen auf Transitivität\n",
    "    transitive = all((a, c) in R for (a, b) in R for (b2, c) in R if b == b2)\n",
    "    \n",
    "    # R ist eine strikte Ordnungsrelation, wenn sie asymmetrisch und transitiv ist\n",
    "    return asymmetric and transitive\n",
    "\n",
    "# keine Äquivalenzrelation, Ordnungsrelation\n",
    "B = {1, 2, 3}\n",
    "S = {(1,2),(2,3),(1,3)}\n",
    "\n",
    "# Prüfung, ob R eine Äquivalenzrelation ist\n",
    "is_equiv = is_equivalence_relation(B, S)\n",
    "\n",
    "# Prüfung, ob R eine strikte Ordnungsrelation ist\n",
    "is_order = is_strict_order_relation(S)\n",
    "\n",
    "# Ergebnis\n",
    "can_be_both = is_equiv and is_order\n",
    "\n",
    "# Ausgabe\n",
    "print(\"Ist S eine Äquivalenzrelation?\", is_equiv)\n",
    "print(\"Ist S eine strikte Ordnungsrelation?\", is_order)\n",
    "print(\"Kann die Relation gleichzeitig eine Äquivalenzrelation und eine strikte Ordnung sein?\", can_be_both)"
   ]
  },
  {
   "cell_type": "code",
   "execution_count": null,
   "id": "7467991b-b977-4198-bce8-bc0be698ba5b",
   "metadata": {},
   "outputs": [],
   "source": []
  }
 ],
 "metadata": {
  "kernelspec": {
   "display_name": "Python 3 (ipykernel)",
   "language": "python",
   "name": "python3"
  },
  "language_info": {
   "codemirror_mode": {
    "name": "ipython",
    "version": 3
   },
   "file_extension": ".py",
   "mimetype": "text/x-python",
   "name": "python",
   "nbconvert_exporter": "python",
   "pygments_lexer": "ipython3",
   "version": "3.12.6"
  }
 },
 "nbformat": 4,
 "nbformat_minor": 5
}

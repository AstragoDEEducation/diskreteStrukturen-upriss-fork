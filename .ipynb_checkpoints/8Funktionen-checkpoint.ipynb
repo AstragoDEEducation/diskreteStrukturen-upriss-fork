{
 "cells": [
  {
   "cell_type": "code",
   "execution_count": 11,
   "id": "3d5e1482-9168-44ef-9024-c87f41d69f2a",
   "metadata": {},
   "outputs": [],
   "source": [
    "from utils.discrstruct import *"
   ]
  },
  {
   "cell_type": "markdown",
   "id": "f1d296f9-1d58-4a06-9ff1-eac394acefc3",
   "metadata": {},
   "source": [
    "Zur Erinnerung:"
   ]
  },
  {
   "cell_type": "code",
   "execution_count": 12,
   "id": "fd4ddaae-af74-47bc-91d7-352fa5d0d631",
   "metadata": {},
   "outputs": [],
   "source": [
    "def total (D,W,f):\n",
    "    return all(any ((d,w) in f for w in W) for d in D)\n",
    "def eindeutig (f):   \n",
    "    return all( (a == x) -s>> (b == y) for (a,b) in f for (x,y) in f)"
   ]
  },
  {
   "cell_type": "markdown",
   "id": "239228f4-2294-476f-ad2d-4bcc9221bc0f",
   "metadata": {},
   "source": [
    "<h2>Funktionen als spezielle Relationen</h2>\n",
    "\n",
    "1. Spezifizieren Sie je eine Menge, die nur eine Relation, nur total oder nur eindeutig ist, und eine, die sowohl total als auch eindeutig ist. Verwenden Sie die Funktionen \"total\" und \"eindeutig\" aus dem Notebook \"kapitel8Funktionen\" um Ihre Mengen zu überprüfen."
   ]
  },
  {
   "cell_type": "code",
   "execution_count": 27,
   "id": "69ad5093-3362-4628-8d03-7de06e883954",
   "metadata": {},
   "outputs": [
    {
     "data": {
      "text/plain": [
       "False"
      ]
     },
     "execution_count": 27,
     "metadata": {},
     "output_type": "execute_result"
    },
    {
     "data": {
      "text/plain": [
       "False"
      ]
     },
     "execution_count": 27,
     "metadata": {},
     "output_type": "execute_result"
    },
    {
     "data": {
      "text/plain": [
       "True"
      ]
     },
     "execution_count": 27,
     "metadata": {},
     "output_type": "execute_result"
    },
    {
     "data": {
      "text/plain": [
       "False"
      ]
     },
     "execution_count": 27,
     "metadata": {},
     "output_type": "execute_result"
    },
    {
     "data": {
      "text/plain": [
       "False"
      ]
     },
     "execution_count": 27,
     "metadata": {},
     "output_type": "execute_result"
    },
    {
     "data": {
      "text/plain": [
       "True"
      ]
     },
     "execution_count": 27,
     "metadata": {},
     "output_type": "execute_result"
    },
    {
     "data": {
      "text/plain": [
       "True"
      ]
     },
     "execution_count": 27,
     "metadata": {},
     "output_type": "execute_result"
    },
    {
     "data": {
      "text/plain": [
       "True"
      ]
     },
     "execution_count": 27,
     "metadata": {},
     "output_type": "execute_result"
    }
   ],
   "source": [
    "R_Nur_Relation = {(0,1),(2,1),(2,0)}\n",
    "R_Nur_Total = {(0,0),(1,1),(2,2),(2,0)}\n",
    "R_Nur_Eindeutig = {(0,0), (1,1)}\n",
    "R_Funktion = {(0,0), (1,1), (2,2)}\n",
    "D = {0,1,2}\n",
    "W = {0,1,2}\n",
    "\n",
    "total(D,W,R_Nur_Relation) # sollte False ergeben\n",
    "eindeutig(R_Nur_Relation) # sollte False ergeben\n",
    "total(D,W,R_Nur_Total) # sollte True ergeben\n",
    "eindeutig(R_Nur_Total) # sollte False ergeben\n",
    "total(D,W,R_Nur_Eindeutig) # sollte False ergeben\n",
    "eindeutig(R_Nur_Eindeutig) # sollte True ergeben\n",
    "total(D,W,R_Funktion) # sollte True ergeben\n",
    "eindeutig(R_Funktion) # sollte True ergeben"
   ]
  },
  {
   "cell_type": "markdown",
   "id": "12d99785-81b9-4267-bc88-d3bb08c1c31b",
   "metadata": {},
   "source": [
    "2. Implementieren Sie eine isFunction-Funktion unter Verwendung von total und eindeutig. "
   ]
  },
  {
   "cell_type": "code",
   "execution_count": 31,
   "id": "a7da233d-8488-41a0-a79e-d18d7b57bca6",
   "metadata": {},
   "outputs": [],
   "source": [
    "def isFunction (D,W,f):\n",
    "    return total(D,W,f) and eindeutig(f)"
   ]
  },
  {
   "cell_type": "markdown",
   "id": "594e9fbb-5fe1-4a6d-b00b-3e226b441bc6",
   "metadata": {},
   "source": [
    "3. Überprüfen Sie mit Ihrer isFunction-Funktion, ob die folgende Menge eine Funktion ist."
   ]
  },
  {
   "cell_type": "code",
   "execution_count": 33,
   "id": "fc408328-f660-4eaa-8deb-93cf94f99c24",
   "metadata": {},
   "outputs": [
    {
     "data": {
      "text/plain": [
       "False"
      ]
     },
     "execution_count": 33,
     "metadata": {},
     "output_type": "execute_result"
    }
   ],
   "source": [
    "R = {(x,y) for x in {True,False} for y in {True,False} if x -s>> y}\n",
    "B = {True, False}\n",
    "isFunction(B,B,R)\n",
    "\n",
    "# Eine reine Menge kann keine Funktion sein. Hier wurden die Definitionsmenge und Wertemenge manuell ergänzt."
   ]
  },
  {
   "cell_type": "markdown",
   "id": "a62aeeac-a52a-41fc-8ab1-67ce16cb183d",
   "metadata": {},
   "source": [
    "4. Überprüfen Sie, ob die leere Menge eine Funktion ist."
   ]
  },
  {
   "cell_type": "code",
   "execution_count": 36,
   "id": "f6fe929a-d2d4-4c1f-968d-3f9ebc31c122",
   "metadata": {},
   "outputs": [
    {
     "data": {
      "text/plain": [
       "False"
      ]
     },
     "execution_count": 36,
     "metadata": {},
     "output_type": "execute_result"
    }
   ],
   "source": [
    "L = {}\n",
    "isFunction(L,L,L)\n",
    "\n",
    "# Kommentar: Siehe oben"
   ]
  },
  {
   "cell_type": "markdown",
   "id": "0faf264a-2e63-4db2-9519-7c49da35fcf1",
   "metadata": {},
   "source": [
    "<h2>Funktionen als Transformationsprozesse</h2>\n",
    "\n",
    "5. Implementieren Sie die folgenden Funktionen in Python und wenden Sie sie auf geeignete Beispielwerte an. (Stellen Sie die Funktionen nicht als Relationen dar, sondern verwenden Sie <b>def</b>).\n",
    "\n",
    "<ul>\n",
    "<li>$x \\mapsto x^2$\n",
    "<li>$x \\mapsto (x^2 = 1)$\n",
    "</ul>"
   ]
  },
  {
   "cell_type": "code",
   "execution_count": 44,
   "id": "092c85c9-cbb3-4734-8af6-f99b54ada311",
   "metadata": {},
   "outputs": [
    {
     "data": {
      "text/plain": [
       "True"
      ]
     },
     "execution_count": 44,
     "metadata": {},
     "output_type": "execute_result"
    },
    {
     "data": {
      "text/plain": [
       "True"
      ]
     },
     "execution_count": 44,
     "metadata": {},
     "output_type": "execute_result"
    },
    {
     "data": {
      "text/plain": [
       "True"
      ]
     },
     "execution_count": 44,
     "metadata": {},
     "output_type": "execute_result"
    },
    {
     "data": {
      "text/plain": [
       "True"
      ]
     },
     "execution_count": 44,
     "metadata": {},
     "output_type": "execute_result"
    },
    {
     "data": {
      "text/plain": [
       "True"
      ]
     },
     "execution_count": 44,
     "metadata": {},
     "output_type": "execute_result"
    },
    {
     "data": {
      "text/plain": [
       "True"
      ]
     },
     "execution_count": 44,
     "metadata": {},
     "output_type": "execute_result"
    }
   ],
   "source": [
    "def f(x):\n",
    "    return x**2\n",
    "\n",
    "def g(x):\n",
    "    return f(x) == 1\n",
    "\n",
    "# Testen\n",
    "\n",
    "f(2) == 4\n",
    "f(1) == 1\n",
    "f(3) != 10\n",
    "\n",
    "g(1) == True\n",
    "g(2) == False\n",
    "g(-1) == True"
   ]
  },
  {
   "cell_type": "markdown",
   "id": "099c61fa-76d8-4348-86f7-92fd215b59fe",
   "metadata": {},
   "source": [
    "6. Wenden Sie Ihre Funktion bildmenge (aus dem Notebook kapitel8Funktionen) auf die beiden Funktionen an, die Sie gerade implementiert haben. Implementieren Sie eine Funktion bildmenge2, die auf Relationen (oder Funktionen als spezielle Relationen) anwendbar ist."
   ]
  },
  {
   "cell_type": "code",
   "execution_count": 52,
   "id": "3fded840-b723-41c1-a993-8460a611dbe9",
   "metadata": {},
   "outputs": [
    {
     "data": {
      "text/plain": [
       "{0, 1, 4, 9}"
      ]
     },
     "execution_count": 52,
     "metadata": {},
     "output_type": "execute_result"
    },
    {
     "data": {
      "text/plain": [
       "{False, True}"
      ]
     },
     "execution_count": 52,
     "metadata": {},
     "output_type": "execute_result"
    },
    {
     "data": {
      "text/plain": [
       "{1, 3, 5}"
      ]
     },
     "execution_count": 52,
     "metadata": {},
     "output_type": "execute_result"
    }
   ],
   "source": [
    "def bildmenge(f, D):\n",
    "    # Alternative: return ({x if (z,x) in F})\n",
    "    return({f(x) for x in D})\n",
    "\n",
    "bildmenge(f, {-1,0,1,2,3})\n",
    "bildmenge(g, {-1,0,1,2,3})\n",
    "\n",
    "\n",
    "def bildmenge2(R):\n",
    "    return ({x[1] for x in R})\n",
    "    \n",
    "bildmenge2({(1,1),(2,5),(1,3)})"
   ]
  },
  {
   "cell_type": "markdown",
   "id": "20906d61-5884-49fe-b30c-ca4006c3d622",
   "metadata": {},
   "source": [
    "7. Implementieren Sie die folgende Relationseigenschaft \"connex\" in Python:<br>\n",
    "\"Eine Relation R auf einer Menge A heißt connex, wenn [a,b] $\\in$ R oder\n",
    "[b,a] $\\in$ R für alle a,b $\\in$ A gilt.\"<br>\n",
    "Spezifizieren Sie ein paar Relationen, an denen Sie das überprüfen können."
   ]
  },
  {
   "cell_type": "code",
   "execution_count": 56,
   "id": "59010388-91e7-4545-b7ee-fb55b68e290b",
   "metadata": {},
   "outputs": [
    {
     "ename": "NameError",
     "evalue": "name 'a' is not defined",
     "output_type": "error",
     "traceback": [
      "\u001b[1;31m---------------------------------------------------------------------------\u001b[0m",
      "\u001b[1;31mNameError\u001b[0m                                 Traceback (most recent call last)",
      "Cell \u001b[1;32mIn[56], line 6\u001b[0m\n\u001b[0;32m      3\u001b[0m         \u001b[38;5;28;01mreturn\u001b[39;00m (\u001b[38;5;28;01mTrue\u001b[39;00m)\n\u001b[0;32m      4\u001b[0m     \u001b[38;5;28;01mreturn\u001b[39;00m (\u001b[38;5;28;01mFalse\u001b[39;00m)\n\u001b[1;32m----> 6\u001b[0m \u001b[43mistConnex\u001b[49m\u001b[43m(\u001b[49m\u001b[43m{\u001b[49m\u001b[43m(\u001b[49m\u001b[38;5;241;43m1\u001b[39;49m\u001b[43m,\u001b[49m\u001b[38;5;241;43m2\u001b[39;49m\u001b[43m)\u001b[49m\u001b[43m,\u001b[49m\u001b[43m(\u001b[49m\u001b[38;5;241;43m2\u001b[39;49m\u001b[43m,\u001b[49m\u001b[38;5;241;43m1\u001b[39;49m\u001b[43m)\u001b[49m\u001b[43m}\u001b[49m\u001b[43m)\u001b[49m \u001b[38;5;241m==\u001b[39m \u001b[38;5;28;01mTrue\u001b[39;00m\n\u001b[0;32m      7\u001b[0m istConnex({(\u001b[38;5;241m1\u001b[39m,\u001b[38;5;241m2\u001b[39m)}) \u001b[38;5;241m==\u001b[39m \u001b[38;5;28;01mFalse\u001b[39;00m\n",
      "Cell \u001b[1;32mIn[56], line 2\u001b[0m, in \u001b[0;36mistConnex\u001b[1;34m(R)\u001b[0m\n\u001b[0;32m      1\u001b[0m \u001b[38;5;28;01mdef\u001b[39;00m \u001b[38;5;21mistConnex\u001b[39m(R):\n\u001b[1;32m----> 2\u001b[0m     \u001b[38;5;28;01mif\u001b[39;00m (\u001b[43ma\u001b[49m,b) \u001b[38;5;129;01min\u001b[39;00m R \u001b[38;5;129;01mor\u001b[39;00m (b,a) \u001b[38;5;129;01min\u001b[39;00m R:\n\u001b[0;32m      3\u001b[0m         \u001b[38;5;28;01mreturn\u001b[39;00m (\u001b[38;5;28;01mTrue\u001b[39;00m)\n\u001b[0;32m      4\u001b[0m     \u001b[38;5;28;01mreturn\u001b[39;00m (\u001b[38;5;28;01mFalse\u001b[39;00m)\n",
      "\u001b[1;31mNameError\u001b[0m: name 'a' is not defined"
     ]
    }
   ],
   "source": [
    "def istConnex(R):\n",
    "    result = true\n",
    "    for a in R:\n",
    "        for b in R:\n",
    "            if (a,b) in R or (b,a) in R:\n",
    "                return (True)\n",
    "            return (False)\n",
    "\n",
    "istConnex({(1,2),(2,1)}) == True\n",
    "istConnex({(1,2)}) == False"
   ]
  },
  {
   "cell_type": "markdown",
   "id": "8d92fb8b-1f81-4ddb-950b-0fd10ca025cc",
   "metadata": {},
   "source": [
    "8. Implementieren Sie die folgende Funktion in Python und finden Sie heraus, was die Funktion berechnet.\n",
    "\n",
    "x $\\mapsto$ {1,2,...,x}$\\setminus${pq | p,q $\\in$ {2,3,...,x}}"
   ]
  },
  {
   "cell_type": "code",
   "execution_count": null,
   "id": "3a976112-2f6e-4c14-9f9c-bf4e4035e137",
   "metadata": {},
   "outputs": [],
   "source": []
  }
 ],
 "metadata": {
  "kernelspec": {
   "display_name": "Python 3 (ipykernel)",
   "language": "python",
   "name": "python3"
  },
  "language_info": {
   "codemirror_mode": {
    "name": "ipython",
    "version": 3
   },
   "file_extension": ".py",
   "mimetype": "text/x-python",
   "name": "python",
   "nbconvert_exporter": "python",
   "pygments_lexer": "ipython3",
   "version": "3.13.0"
  }
 },
 "nbformat": 4,
 "nbformat_minor": 5
}

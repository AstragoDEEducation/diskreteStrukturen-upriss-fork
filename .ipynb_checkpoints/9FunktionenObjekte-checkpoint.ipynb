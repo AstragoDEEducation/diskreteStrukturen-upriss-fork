{
 "cells": [
  {
   "cell_type": "code",
   "execution_count": 12,
   "id": "8a22a3fc-4bd5-4a32-9f8a-021cdedd59e2",
   "metadata": {},
   "outputs": [
    {
     "data": {
      "text/html": [
       "<script type=\"text/javascript\">\n",
       "function ueberpruefen(property) {\n",
       "var solutions = \n",
       "{'kapitel2_1_0': 'RGllIEZsYXNjaGUgaXN0IG5pY2h0IHZvbGwu', 'kapitel2_1_1': 'RGllIEhvc2UgaXN0IG5pY2h0IHNjaHdhcnou', 'kapitel2_2_0': 'RXIgbWFnIGtlaW5lbiBTY2huYXBzIG9kZXIgZXIgbWFnIFNla3Qu', 'kapitel2_2_1': 'U2llIHRhbnp0IG5pY2h0IG9kZXIgZsOkaHJ0IG5pY2h0IFJhZC4=', 'kapitel2_3_0': 'SmE=', 'kapitel2_3_1': 'SmE=', 'kapitel2_3_2': 'SmE=', 'kapitel2_3_3': 'TmVpbg==', 'kapitel2_3_4': 'SmE=', 'kapitel2_3_5': 'TmVpbg==', 'kapitel2_3_6': 'SmE=', 'kapitel2_3_7': 'TmVpbg==', 'kapitel2_4_0': 'QXVzc2FnZWZvcm0=', 'kapitel2_4_1': 'QXVzc2FnZWZvcm0=', 'kapitel2_4_2': 'QXVzc2FnZWZvcm0=', 'kapitel2_4_3': 'V2VkZXIgQXVzc2FnZSBub2NoIEF1c3NhZ2Vmb3Jt', 'kapitel2_4_4': 'QXVzc2FnZQ==', 'kapitel2_4_5': 'QXVzc2FnZQ==', 'kapitel2_4_6': 'V2VkZXIgQXVzc2FnZSBub2NoIEF1c3NhZ2Vmb3Jt', 'kapitel2_4_7': 'QXVzc2FnZQ==', 'kapitel2_5_0': 'ZW50d2VkZXItb2Rlcg==', 'kapitel2_5_1': 'ZW50d2VkZXItb2Rlcg==', 'kapitel2_5_2': 'bG9naXNjaGVzIG9kZXI=', 'kapitel2_5_3': 'ZW50d2VkZXItb2Rlcg==', 'kapitel2_6_0': 'd2Focg==', 'kapitel2_6_1': 'ZmFsc2No', 'kapitel2_6_2': 'd2Focg==', 'kapitel2_6_3': 'ZmFsc2No', 'kapitel2_7_0': 'QXVmesOkaGx1bmcgdm9uIEdlZ2Vuc3TDpG5kZW4=', 'kapitel2_7_1': 'bG9naXNjaGUgS29uanVua3Rpb24=', 'kapitel2_7_2': 'bG9naXNjaGUgS29uanVua3Rpb24=', 'kapitel2_7_3': 'QXVmesOkaGx1bmcgdm9uIEdlZ2Vuc3TDpG5kZW4=', 'kapitel3_1_0': 'RGVmaW5pdGlvbg==', 'kapitel3_1_1': 'VGhlb3JlbQ==', 'kapitel3_1_2': 'RGVmaW5pdGlvbg==', 'kapitel3_1_3': 'VGhlb3JlbQ==', 'kapitel3_1_4': 'RGVmaW5pdGlvbg==', 'kapitel3_1_5': 'VGhlb3JlbQ==', 'kapitel3_2_0': 'QSDihpIgQg==', 'kapitel3_2_1': 'QSDihpAgQg==', 'kapitel3_2_2': 'QSDih5IgQg==', 'kapitel3_2_3': 'QSDih5IgQg==', 'kapitel3_2_4': 'QSDihpAgQg==', 'kapitel3_2_5': 'QSDih5QgQg==', 'kapitel3_3_0': 'a29tbXV0YXRpdg==', 'kapitel3_3_1': 'bmljaHQga29tbXV0YXRpdg==', 'kapitel3_3_2': 'bmljaHQga29tbXV0YXRpdg==', 'kapitel3_3_3': 'bmljaHQga29tbXV0YXRpdg==', 'kapitel3_4_0': 'bmV1dHJhbGVzIEVsZW1lbnQ=', 'kapitel3_4_1': 'a2VpbiBuZXV0cmFsZXMgRWxlbWVudA==', 'kapitel3_4_2': 'a2VpbiBuZXV0cmFsZXMgRWxlbWVudA==', 'kapitel3_4_3': 'bmV1dHJhbGVzIEVsZW1lbnQ=', 'kapitel3_4_4': 'bmV1dHJhbGVzIEVsZW1lbnQ=', 'kapitel3_4_5': 'a2VpbiBuZXV0cmFsZXMgRWxlbWVudA==', 'kapitel3_4_6': 'a2VpbiBuZXV0cmFsZXMgRWxlbWVudA==', 'kapitel3_4_7': 'bmV1dHJhbGVzIEVsZW1lbnQ='}\n",
       "\n",
       "   form_elements = document.querySelector(\"#\"+property).elements;\n",
       "   for (i = 0; i < form_elements.length ;i++) {\n",
       "      var answer = \"<font size=5 color='red'>&#10007;</font>\";\n",
       "      if (typeof solutions[form_elements[i].id] !== 'undefined') {\n",
       "         if (form_elements[i].value == \n",
       "             decodeURIComponent(escape(atob(solutions[form_elements[i].id] )))) {\n",
       "             answer = \"<font size=5 color='green'>&#10003;</font>\";\n",
       "         }\n",
       "      document.querySelector(\"#\" + form_elements[i].id + \"_ans\").innerHTML=answer;\n",
       "      }\n",
       "   }\n",
       "}\n",
       "</script>"
      ],
      "text/plain": [
       "<IPython.core.display.HTML object>"
      ]
     },
     "metadata": {},
     "output_type": "display_data"
    }
   ],
   "source": [
    "from utils.discrstruct import *"
   ]
  },
  {
   "cell_type": "markdown",
   "id": "77eb9c1f-9123-4e67-b152-956c56749eab",
   "metadata": {},
   "source": [
    "<h3>Was ist eine Urbildmenge</h3>\n",
    "Für eine Funktion<br>\n",
    "f:D → M<br>\n",
    "x $\\mapsto$ f (x)<br>\n",
    "ist die Urbildmenge für B ⊆ M folgendermaßen definiert: {x : x ∈ D | f (x) ∈ B}\n",
    "<p></p>\n",
    "Implementieren Sie diese Definition in Python und wenden Sie sie auf eine Funktion an (zB die Funktion addiere1)."
   ]
  },
  {
   "cell_type": "code",
   "execution_count": 13,
   "id": "ce0fa008-2445-472c-8df8-c390f31170cd",
   "metadata": {},
   "outputs": [
    {
     "data": {
      "text/plain": [
       "{3, 4}"
      ]
     },
     "execution_count": 13,
     "metadata": {},
     "output_type": "execute_result"
    }
   ],
   "source": [
    "def addiere1(a):\n",
    "     return a + 1\n",
    "\n",
    "def urbildmenge (B,D,f):\n",
    "    return {x for x in D if f(x) in B}\n",
    "\n",
    "urbildmenge({4,5},range(1,11),addiere1)\n"
   ]
  },
  {
   "cell_type": "markdown",
   "id": "a235b1d6-0046-42ef-b9c8-a67718e0b6df",
   "metadata": {},
   "source": [
    "Verstehen Sie jetzt, was eine Urbildmenge ist?"
   ]
  },
  {
   "cell_type": "markdown",
   "id": "73f660c5-8d18-4df3-a4fd-1e89b83387bf",
   "metadata": {},
   "source": [
    "<h2>Funktionen als Objekte: zum Beispiel Eigenschaften von Operatoren überprüfen</h2>\n",
    "    \n",
    "Die meisten Definitionen aus dem Lehrbuch lassen sich als Python-Funktionen definieren,\n",
    "zum Beispiel die Kommutativität:"
   ]
  },
  {
   "cell_type": "code",
   "execution_count": 14,
   "id": "8ea0712d-270f-4dc7-8a54-123b60fa3dd8",
   "metadata": {},
   "outputs": [],
   "source": [
    "def isKommut (setOrList,op):\n",
    "    return all (op(x,y) == op(y,x) for x in setOrList for y in setOrList)"
   ]
  },
  {
   "cell_type": "markdown",
   "id": "a5bad3c4-741c-4b8d-989c-1455dd2f165a",
   "metadata": {},
   "source": [
    "Dabei wird eine Menge (oder Tupel) übergeben und eine Operation \"op\". Sie können die Funktion isKommut dann verwenden um die Kommutativität einer Operation zu überprüfen. Dafür definieren Sie die Operation als Funktion:"
   ]
  },
  {
   "cell_type": "code",
   "execution_count": 15,
   "id": "994cf4b8-f2c9-4060-9fa0-c9e1e203f016",
   "metadata": {},
   "outputs": [],
   "source": [
    "def plus (a,b):\n",
    "    return a + b\n",
    "\n",
    "def und (a,b):\n",
    "    return a and b  "
   ]
  },
  {
   "cell_type": "markdown",
   "id": "58138035-0cf5-4294-81f7-8e9ab4fa811f",
   "metadata": {},
   "source": [
    "Dann können Sie die Eigenschaft für eine Menge und eine Operation überprüfen:"
   ]
  },
  {
   "cell_type": "code",
   "execution_count": 16,
   "id": "7ecd788b-aa55-4550-89c2-d3f3a399a98f",
   "metadata": {},
   "outputs": [
    {
     "data": {
      "text/plain": [
       "True"
      ]
     },
     "execution_count": 16,
     "metadata": {},
     "output_type": "execute_result"
    },
    {
     "data": {
      "text/plain": [
       "True"
      ]
     },
     "execution_count": 16,
     "metadata": {},
     "output_type": "execute_result"
    }
   ],
   "source": [
    "isKommut(range(0,101),plus)\n",
    "isKommut({True, False},und)"
   ]
  },
  {
   "cell_type": "markdown",
   "id": "9dcd5707-bb43-4091-aad5-f448a7548cea",
   "metadata": {},
   "source": [
    "Implementieren sie die Operationen \"minus\" und \"oder\" als Funktionen und überprüfen Sie die Kommutativität für geeignete Mengen: "
   ]
  },
  {
   "cell_type": "code",
   "execution_count": 18,
   "id": "3eb7354c-21f3-4fd5-9f10-5b91f0433a65",
   "metadata": {},
   "outputs": [
    {
     "data": {
      "text/plain": [
       "False"
      ]
     },
     "execution_count": 18,
     "metadata": {},
     "output_type": "execute_result"
    },
    {
     "data": {
      "text/plain": [
       "True"
      ]
     },
     "execution_count": 18,
     "metadata": {},
     "output_type": "execute_result"
    }
   ],
   "source": [
    "def minus (a, b):\n",
    "    return a - b\n",
    "\n",
    "def oder (a,b):\n",
    "    return a or b\n",
    "\n",
    "\n",
    "isKommut(range(101), minus)\n",
    "isKommut({True, False}, oder)"
   ]
  },
  {
   "cell_type": "markdown",
   "id": "31f2b221-c68b-4bf4-b5db-8921437ab57c",
   "metadata": {},
   "source": [
    "Implementieren Sie eine Funktion, die die Assoziativität überprüft."
   ]
  },
  {
   "cell_type": "code",
   "execution_count": 21,
   "id": "175d58d1-2dc1-42fd-9ea7-0f67dbfdf45d",
   "metadata": {},
   "outputs": [],
   "source": [
    "def isAss(setOrList, op):\n",
    "    return all(op(op(x,y),z) == op(x,op(y,z)) for x in setOrList for y in setOrList for z in setOrList)"
   ]
  },
  {
   "cell_type": "code",
   "execution_count": 22,
   "id": "aef90f3b-f70f-4194-a64d-4ab8c5904fbb",
   "metadata": {},
   "outputs": [
    {
     "data": {
      "text/plain": [
       "True"
      ]
     },
     "execution_count": 22,
     "metadata": {},
     "output_type": "execute_result"
    },
    {
     "data": {
      "text/plain": [
       "True"
      ]
     },
     "execution_count": 22,
     "metadata": {},
     "output_type": "execute_result"
    },
    {
     "data": {
      "text/plain": [
       "False"
      ]
     },
     "execution_count": 22,
     "metadata": {},
     "output_type": "execute_result"
    },
    {
     "data": {
      "text/plain": [
       "True"
      ]
     },
     "execution_count": 22,
     "metadata": {},
     "output_type": "execute_result"
    }
   ],
   "source": [
    "isAss(range(0,101),plus)\n",
    "isAss({True, False},und)\n",
    "isAss(range(101), minus)\n",
    "isAss({True, False}, oder)"
   ]
  },
  {
   "cell_type": "code",
   "execution_count": null,
   "id": "fb5b3dc0-1c10-4034-aec9-0a529f8374b8",
   "metadata": {},
   "outputs": [],
   "source": []
  }
 ],
 "metadata": {
  "kernelspec": {
   "display_name": "Python 3 (ipykernel)",
   "language": "python",
   "name": "python3"
  },
  "language_info": {
   "codemirror_mode": {
    "name": "ipython",
    "version": 3
   },
   "file_extension": ".py",
   "mimetype": "text/x-python",
   "name": "python",
   "nbconvert_exporter": "python",
   "pygments_lexer": "ipython3",
   "version": "3.13.0"
  }
 },
 "nbformat": 4,
 "nbformat_minor": 5
}

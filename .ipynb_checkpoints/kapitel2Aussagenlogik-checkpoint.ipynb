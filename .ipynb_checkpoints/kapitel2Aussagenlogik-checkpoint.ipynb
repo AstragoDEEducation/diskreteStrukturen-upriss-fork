{
 "cells": [
  {
   "cell_type": "markdown",
   "id": "e6b6f5cd-c724-4c8e-85e4-1878f9f7f6d0",
   "metadata": {},
   "source": [
    "Denken Sie daran, das nächste Feld auszuführen, bevor Sie die untenstehenden Aufgaben bearbeiten."
   ]
  },
  {
   "cell_type": "code",
   "execution_count": 16,
   "id": "26144884-4bd4-4d09-9943-182299f35e55",
   "metadata": {},
   "outputs": [],
   "source": [
    "from utils.discrstruct import *"
   ]
  },
  {
   "cell_type": "markdown",
   "id": "35276aff-6348-43b8-a155-3bc93cf7a5ca",
   "metadata": {},
   "source": [
    "<h1>Kapitel 2: Aussagenlogik</h1>\n",
    "\n",
    "<h2>2.1 Aufwärmübungen</h2>\n",
    "Diese Übungen sollen Sie zum Nachdenken über das Thema anregen, bevor Sie mehr darüber lesen. (Ihre Antworten auf solche Multiple-Choice-Fragen werden beim Schließen des Notebooks nicht gespeichert.)"
   ]
  },
  {
   "cell_type": "markdown",
   "id": "97cc5554-73d0-4e75-a27e-7e6e8c485c83",
   "metadata": {},
   "source": [
    "<form id = \"kapitel2_1\">\n",
    "<strong>Umformen: negieren</strong><br>Gehen Sie davon aus, dass die folgenden Sätze falsch sind. \n",
    " Wählen Sie jeweils den dazu passenden wahren Satz aus.\n",
    "<p>Die Flasche ist voll.\n",
    "<select id=\"kapitel2_1_0\">\n",
    "<option disabled selected value> -- auswählen -- </option>\n",
    "<option value=\"Die Flasche ist leer.\">Die Flasche ist leer.</option>\n",
    "<option value=\"Die Flasche ist nicht voll.\">Die Flasche ist nicht voll.</option>\n",
    "<option value=\"Die Hose ist nicht schwarz.\">Die Hose ist nicht schwarz.</option>\n",
    "<option value=\"Die Hose ist weiß.\">Die Hose ist weiß.</option></select>&nbsp;<span id=\"kapitel2_1_0_ans\"></span><p>\n",
    "Die Hose ist schwarz.\n",
    "<select id=\"kapitel2_1_1\">\n",
    "<option disabled selected value> -- auswählen -- </option>\n",
    "<option value=\"Die Flasche ist leer.\">Die Flasche ist leer.</option>\n",
    "<option value=\"Die Flasche ist nicht voll.\">Die Flasche ist nicht voll.</option>\n",
    "<option value=\"Die Hose ist nicht schwarz.\">Die Hose ist nicht schwarz.</option>\n",
    "<option value=\"Die Hose ist weiß.\">Die Hose ist weiß.</option></select>&nbsp;<span id=\"kapitel2_1_1_ans\"></span><p>\n",
    "</form>\n",
    "<form id = \"kapitel2_2\">&nbsp;\n",
    "<p>Er mag Schnaps, aber keinen Sekt.\n",
    "<select id=\"kapitel2_2_0\">\n",
    "<option disabled selected value> -- auswählen -- </option>\n",
    "<option value=\"Er mag Schnaps und er mag Sekt.\">Er mag Schnaps und er mag Sekt.</option>\n",
    "<option value=\"Er mag keinen Schnaps oder er mag Sekt.\">Er mag keinen Schnaps oder er mag Sekt.</option>\n",
    "<option value=\"Er mag weder Schnaps noch Sekt.\">Er mag weder Schnaps noch Sekt.</option>\n",
    "<option value=\"Sie tanzt weder noch fährt sie Rad.\">Sie tanzt weder noch fährt sie Rad.</option>\n",
    "<option value=\"Sie tanzt nicht oder fährt nicht Rad.\">Sie tanzt nicht oder fährt nicht Rad.</option></select>&nbsp;<span id=\"kapitel2_2_0_ans\"></span><p>\n",
    "Sie tanzt und fährt Rad.\n",
    "<select id=\"kapitel2_2_1\">\n",
    "<option disabled selected value> -- auswählen -- </option>\n",
    "<option value=\"Er mag Schnaps und er mag Sekt.\">Er mag Schnaps und er mag Sekt.</option>\n",
    "<option value=\"Er mag keinen Schnaps oder er mag Sekt.\">Er mag keinen Schnaps oder er mag Sekt.</option>\n",
    "<option value=\"Er mag weder Schnaps noch Sekt.\">Er mag weder Schnaps noch Sekt.</option>\n",
    "<option value=\"Sie tanzt weder noch fährt sie Rad.\">Sie tanzt weder noch fährt sie Rad.</option>\n",
    "<option value=\"Sie tanzt nicht oder fährt nicht Rad.\">Sie tanzt nicht oder fährt nicht Rad.</option></select>&nbsp;<span id=\"kapitel2_2_1_ans\"></span></form>\n",
    "\n",
    "Um Ihre Antworten zu überprüfen, führen Sie das nächste Feld aus. "
   ]
  },
  {
   "cell_type": "code",
   "execution_count": 17,
   "id": "21a04088-6f74-43d8-ad74-e683b805e3ba",
   "metadata": {},
   "outputs": [
    {
     "data": {
      "application/javascript": [
       "ueberpruefen('kapitel2_1')\n",
       "ueberpruefen('kapitel2_2')\n"
      ],
      "text/plain": [
       "<IPython.core.display.Javascript object>"
      ]
     },
     "metadata": {},
     "output_type": "display_data"
    }
   ],
   "source": [
    "%%javascript\n",
    "ueberpruefen('kapitel2_1')\n",
    "ueberpruefen('kapitel2_2')"
   ]
  },
  {
   "cell_type": "markdown",
   "id": "af04b466-23de-48e4-a05d-cefee34eafa3",
   "metadata": {},
   "source": [
    "<form id = \"kapitel2_3\"><strong>Begriff: Subjunktion</strong><p>Betrachten Sie die folgenden Wenn-Dann-Sätze und beantworten Sie\n",
    " dann die unten stehenden Fragen.</p>\n",
    " (a) \"Wenn es regnet, dann ist die Straße nass.\"<br>\n",
    " (b) \"Wenn Du zu meiner Party kommst, lernst Du nette Leute kennen.\"<br>\n",
    " <p></p>\n",
    "<p>Wenn-dann-Sätze verknüpfen zwei Aussagen miteinander. Aussagen können wahr oder falsch \n",
    " sein. Können Wenn-dann-Sätze auch als Ganzes wahr oder falsch sein?\n",
    "<select id=\"kapitel2_3_0\">\n",
    "<option disabled selected value> -- auswählen -- </option>\n",
    "<option value=\"Ja\">Ja</option>\n",
    "<option value=\"Nein\">Nein</option></select>&nbsp;<span id=\"kapitel2_3_0_ans\"></span><p>\n",
    "Falls es nicht regnet, kann die Straße dann trotzdem nass sein?\n",
    "<select id=\"kapitel2_3_1\">\n",
    "<option disabled selected value> -- auswählen -- </option>\n",
    "<option value=\"Ja\">Ja</option>\n",
    "<option value=\"Nein\">Nein</option></select>&nbsp;<span id=\"kapitel2_3_1_ans\"></span><p>\n",
    "Falls es nicht regnet und die Straße ist nass, ist Satz (a) dann immer noch wahr?\n",
    "<select id=\"kapitel2_3_2\">\n",
    "<option disabled selected value> -- auswählen -- </option>\n",
    "<option value=\"Ja\">Ja</option>\n",
    "<option value=\"Nein\">Nein</option></select>&nbsp;<span id=\"kapitel2_3_2_ans\"></span><p>\n",
    "Wenn es regnet und die Straße ist nicht nass, ist Satz (a) dann immer noch wahr?\n",
    "<select id=\"kapitel2_3_3\">\n",
    "<option disabled selected value> -- auswählen -- </option>\n",
    "<option value=\"Ja\">Ja</option>\n",
    "<option value=\"Nein\">Nein</option></select>&nbsp;<span id=\"kapitel2_3_3_ans\"></span><p>\n",
    "Kann man auch nette Leute kennen lernen, wenn man nicht zu der Party geht?\n",
    "<select id=\"kapitel2_3_4\">\n",
    "<option disabled selected value> -- auswählen -- </option>\n",
    "<option value=\"Ja\">Ja</option>\n",
    "<option value=\"Nein\">Nein</option></select>&nbsp;<span id=\"kapitel2_3_4_ans\"></span><p>\n",
    "Wenn man zu der Party geht und keine netten Leute kennenlernt, ist Satz (b) dann immer noch wahr?\n",
    "<select id=\"kapitel2_3_5\">\n",
    "<option disabled selected value> -- auswählen -- </option>\n",
    "<option value=\"Ja\">Ja</option>\n",
    "<option value=\"Nein\">Nein</option></select>&nbsp;<span id=\"kapitel2_3_5_ans\"></span><p>\n",
    "</form>"
   ]
  },
  {
   "cell_type": "code",
   "execution_count": 18,
   "id": "0299197c-b261-432c-9ebd-bacaaf140755",
   "metadata": {},
   "outputs": [
    {
     "data": {
      "application/javascript": [
       "ueberpruefen('kapitel2_3')\n"
      ],
      "text/plain": [
       "<IPython.core.display.Javascript object>"
      ]
     },
     "metadata": {},
     "output_type": "display_data"
    }
   ],
   "source": [
    "%%javascript\n",
    "ueberpruefen('kapitel2_3')"
   ]
  },
  {
   "cell_type": "markdown",
   "id": "ca364531-baf6-429f-8e93-da00315903ae",
   "metadata": {},
   "source": [
    "<h2>2.3 Aussagen und Aussageformen</h2>\n",
    "\n",
    "<div style='background-color: lightgray'><b>Definition:</b> Eine Aussage ist ein Satz, der entweder wahr oder falsch ist, d.h. einen Wahrheitswert hat.</div>\n",
    "\n",
    "Mit Python kann man eine Funktion <i>istPythonAussage</i> definieren (siehe unten), die überprüft, ob sich ein Wahrheitswert mathematisch berechnen lässt."
   ]
  },
  {
   "cell_type": "markdown",
   "id": "7d755701-ca77-4630-a2b1-7c787f4abb3e",
   "metadata": {},
   "source": [
    "<div style='background-color: lightgray'><b>Definition:</b> Eine Aussageform ist entweder selber eine Aussage oder ein Satz oder Ausdruck, der variable Elemente enthält und durch Belegung dieser variablen Elemente mit konkreten Werten zu einer Aussage wird.</div>\n",
    "Diese Definition kann man nicht so einfach nach Python übersetzen, da man <i>Satz</i>, <i>variable Elemente</i>, <i>Belegung</i> usw. auch erst noch definieren müsste."
   ]
  },
  {
   "cell_type": "markdown",
   "id": "1c3e66c8-f73c-459f-97da-933ec550dc19",
   "metadata": {},
   "source": [
    "<form id = \"kapitel2_4\"><strong>Begriff: Aussage oder Aussageform</strong><p>Ist die Aussage oder die Aussageform das bessere Modell für die folgenden Sätze bzw. Ausdrücke?</p>\n",
    "<p>Diese Informatikstudentin besitzt 3 Computer.\n",
    "<select id=\"kapitel2_4_0\">\n",
    "<option disabled selected value> -- auswählen -- </option>\n",
    "<option value=\"Aussageform\">Aussageform</option>\n",
    "<option value=\"Weder Aussage noch Aussageform\">Weder Aussage noch Aussageform</option>\n",
    "<option value=\"Aussage\">Aussage</option></select>&nbsp;<span id=\"kapitel2_4_0_ans\"></span><p>\n",
    "x+y=5\n",
    "<select id=\"kapitel2_4_1\">\n",
    "<option disabled selected value> -- auswählen -- </option>\n",
    "<option value=\"Aussageform\">Aussageform</option>\n",
    "<option value=\"Weder Aussage noch Aussageform\">Weder Aussage noch Aussageform</option>\n",
    "<option value=\"Aussage\">Aussage</option></select>&nbsp;<span id=\"kapitel2_4_1_ans\"></span><p>\n",
    "Heute ist Montag\n",
    "<select id=\"kapitel2_4_2\">\n",
    "<option disabled selected value> -- auswählen -- </option>\n",
    "<option value=\"Aussageform\">Aussageform</option>\n",
    "<option value=\"Weder Aussage noch Aussageform\">Weder Aussage noch Aussageform</option>\n",
    "<option value=\"Aussage\">Aussage</option></select>&nbsp;<span id=\"kapitel2_4_2_ans\"></span><p>\n",
    "Ist heute Montag?\n",
    "<select id=\"kapitel2_4_3\">\n",
    "<option disabled selected value> -- auswählen -- </option>\n",
    "<option value=\"Aussageform\">Aussageform</option>\n",
    "<option value=\"Weder Aussage noch Aussageform\">Weder Aussage noch Aussageform</option>\n",
    "<option value=\"Aussage\">Aussage</option></select>&nbsp;<span id=\"kapitel2_4_3_ans\"></span><p>\n",
    "Deutschland hatte im Jahr 2000 eine Kanzlerin.\n",
    "<select id=\"kapitel2_4_4\">\n",
    "<option disabled selected value> -- auswählen -- </option>\n",
    "<option value=\"Aussageform\">Aussageform</option>\n",
    "<option value=\"Weder Aussage noch Aussageform\">Weder Aussage noch Aussageform</option>\n",
    "<option value=\"Aussage\">Aussage</option></select>&nbsp;<span id=\"kapitel2_4_4_ans\"></span><p>\n",
    "Ein Smartphone ist ein Telefon.\n",
    "<select id=\"kapitel2_4_5\">\n",
    "<option disabled selected value> -- auswählen -- </option>\n",
    "<option value=\"Aussageform\">Aussageform</option>\n",
    "<option value=\"Weder Aussage noch Aussageform\">Weder Aussage noch Aussageform</option>\n",
    "<option value=\"Aussage\">Aussage</option></select>&nbsp;<span id=\"kapitel2_4_5_ans\"></span><p>\n",
    "4-3\n",
    "<select id=\"kapitel2_4_6\">\n",
    "<option disabled selected value> -- auswählen -- </option>\n",
    "<option value=\"Aussageform\">Aussageform</option>\n",
    "<option value=\"Weder Aussage noch Aussageform\">Weder Aussage noch Aussageform</option>\n",
    "<option value=\"Aussage\">Aussage</option></select>&nbsp;<span id=\"kapitel2_4_6_ans\"></span><p>\n",
    "Dieser Satz ist keine Aussage.\n",
    "<select id=\"kapitel2_4_7\">\n",
    "<option disabled selected value> -- auswählen -- </option>\n",
    "<option value=\"Aussageform\">Aussageform</option>\n",
    "<option value=\"Weder Aussage noch Aussageform\">Weder Aussage noch Aussageform</option>\n",
    "<option value=\"Aussage\">Aussage</option></select>&nbsp;<span id=\"kapitel2_4_7_ans\"></span><p></form>\n"
   ]
  },
  {
   "cell_type": "code",
   "execution_count": 4,
   "id": "efdbaff2-bec5-4833-844c-36066a3e2181",
   "metadata": {},
   "outputs": [
    {
     "data": {
      "application/javascript": [
       "ueberpruefen('kapitel2_4')\n"
      ],
      "text/plain": [
       "<IPython.core.display.Javascript object>"
      ]
     },
     "metadata": {},
     "output_type": "display_data"
    }
   ],
   "source": [
    "%%javascript\n",
    "ueberpruefen('kapitel2_4')"
   ]
  },
  {
   "cell_type": "markdown",
   "id": "8839abb2-3ffc-4b83-a17b-758b0e20585d",
   "metadata": {},
   "source": [
    "Die beiden Wahrheitswerte werden in Python als <b>True</b> und <b>False</b> geschrieben. Statt True kann man auch <b>1</b> schreiben und statt False <b>0</b>. "
   ]
  },
  {
   "cell_type": "code",
   "execution_count": 5,
   "id": "15378bbb-8fa0-4272-a99a-1514fc10742f",
   "metadata": {},
   "outputs": [
    {
     "data": {
      "text/plain": [
       "True"
      ]
     },
     "execution_count": 5,
     "metadata": {},
     "output_type": "execute_result"
    },
    {
     "data": {
      "text/plain": [
       "True"
      ]
     },
     "execution_count": 5,
     "metadata": {},
     "output_type": "execute_result"
    },
    {
     "data": {
      "text/plain": [
       "True"
      ]
     },
     "execution_count": 5,
     "metadata": {},
     "output_type": "execute_result"
    },
    {
     "data": {
      "text/plain": [
       "False"
      ]
     },
     "execution_count": 5,
     "metadata": {},
     "output_type": "execute_result"
    },
    {
     "data": {
      "text/plain": [
       "True"
      ]
     },
     "execution_count": 5,
     "metadata": {},
     "output_type": "execute_result"
    }
   ],
   "source": [
    "47 + 11 == 58\n",
    "47 + 11 == 29 * 2\n",
    "(47 + 11 == 58) == True\n",
    "True == False\n",
    "1 == True"
   ]
  },
  {
   "cell_type": "markdown",
   "id": "8e3a7720-0f7e-4c01-937e-f220609c7c4a",
   "metadata": {},
   "source": [
    "Man kann mit Python eine Funktion definieren, die überprüft, ob sich ein Wahrheitswert mathematisch berechnen lässt:"
   ]
  },
  {
   "cell_type": "code",
   "execution_count": 6,
   "id": "d0af755f-ff6f-46f0-8c83-96efbe2be008",
   "metadata": {},
   "outputs": [],
   "source": [
    "def istPythonAussage (x):\n",
    "    return type(x) is bool\n",
    "\n",
    "def ipa(x):\n",
    "    return istPythonAussage(x)"
   ]
  },
  {
   "cell_type": "markdown",
   "id": "6d8a978d-61a2-476f-97b4-c413c16df153",
   "metadata": {},
   "source": [
    "Sie müssen die Definition in Python im Moment noch nicht komplett verstehen. Wie man solche Definitionen schreibt, wird später noch behandelt. Sie können aber sehen, dass da irgendwie geprüft wird, ob etwas vom Typ <i>bool</i> ist. Die meisten mathematischen Definitionen lassen sich direkt in Python darstellen. Aber gerade bei den grundlegenden mathematischen Sachverhalten ist das oft schwierig, weil man sozusagen Mathematik benötigt um Mathematik zu definieren. In diesem Fall kann istPythonAussage nur feststellen, ob etwas rechnerisch True oder False entspricht. Für Aussagen, die inhaltlich ausgewertet werden müssen, wie zum Beispiel \"5 ist eine Zahl\", funktioniert das nicht. "
   ]
  },
  {
   "cell_type": "code",
   "execution_count": 7,
   "id": "4dd2c7d2-b6c4-40cb-8570-066b7ac577ba",
   "metadata": {},
   "outputs": [
    {
     "data": {
      "text/plain": [
       "True"
      ]
     },
     "execution_count": 7,
     "metadata": {},
     "output_type": "execute_result"
    },
    {
     "data": {
      "text/plain": [
       "True"
      ]
     },
     "execution_count": 7,
     "metadata": {},
     "output_type": "execute_result"
    },
    {
     "data": {
      "text/plain": [
       "True"
      ]
     },
     "execution_count": 7,
     "metadata": {},
     "output_type": "execute_result"
    },
    {
     "data": {
      "text/plain": [
       "False"
      ]
     },
     "execution_count": 7,
     "metadata": {},
     "output_type": "execute_result"
    },
    {
     "data": {
      "text/plain": [
       "False"
      ]
     },
     "execution_count": 7,
     "metadata": {},
     "output_type": "execute_result"
    }
   ],
   "source": [
    "istPythonAussage(True)\n",
    "istPythonAussage(True != False)\n",
    "istPythonAussage(5 < 6)\n",
    "istPythonAussage(\"5 ist eine Zahl\")\n",
    "istPythonAussage(5)"
   ]
  },
  {
   "cell_type": "markdown",
   "id": "63347020-21e4-4f8d-9d87-acffe687e3a3",
   "metadata": {},
   "source": [
    "(Hinweis: Es gibt in Programmiersprachen oft noch eine andere Art Wahrheitswerte zu bestimmen, die auch als <i>truthy</i> und <i>falsy</i> bezeichnet werden und in Python mit der Funktion <i>bool()</i> berechnet werden. Dabei bedeutet truthy \"wahr oder es existiert ein Wert\" und falsy entspricht leer, Null oder falsch. In der Mathematik kommen truthy und falsy nicht vor, sondern nur True und False. Daher brauchen Sie sich <i>truthy</i>,  <i>falsy</i> und <i>bool()</i> für diesen Kurs nicht zu merken.)"
   ]
  },
  {
   "cell_type": "markdown",
   "id": "01c90ea5-482b-42e2-941e-4e52470ac56f",
   "metadata": {},
   "source": [
    "<h2>2.4 Logische Operatoren</h2>"
   ]
  },
  {
   "cell_type": "markdown",
   "id": "a71d9476-0ee4-4a1c-b583-72fbe0f0998b",
   "metadata": {},
   "source": [
    "Aussagenlogische Operatoren and, or und not sind in Python standardmäßig definiert. Der Operator \"-s>>\" (für \"$\\rightarrow$\") funktioniert nur in diesem Kurs. Das mathematische \"$\\leftrightarrow$\" wird in Python durch \"==\" dargestellt, welches auch manchmal das mathematische \"$=$\" bedeutet. </p>\n",
    "<table>\n",
    "    <tbody>\n",
    "        <tr>\n",
    "            <td>not</td>\n",
    "            <td>Negation, $\\lnot$ </td>\n",
    "        </tr>\n",
    "        <tr>\n",
    "            <td>and</td>\n",
    "            <td>Konjunktion, $\\land$</td>\n",
    "        </tr>\n",
    "        <tr>\n",
    "            <td>or</td>\n",
    "            <td>Disjunktion, $\\lor$ </td>\n",
    "        </tr>\n",
    "        <tr>\n",
    "            <td>-s>> (oder &lt;=)</td>\n",
    "            <td>Subjunktion, $\\rightarrow$ (\"Wenn ..., dann ...\")</td>\n",
    "        </tr>\n",
    "        <tr>\n",
    "            <td>==</td>\n",
    "            <td>Bijunktion, $\\leftrightarrow$ (\"... genau dann, wenn ...\")</td>\n",
    "        </tr>\n",
    "    </tbody>\n",
    "</table>\n",
    "\n",
    "Mit <i>printtable(...)</i> können Sie sich die Wahrheitstabellen jeweils ansehen."
   ]
  },
  {
   "cell_type": "code",
   "execution_count": 8,
   "id": "c511ffb3-3894-4658-80ba-d5a8479673f6",
   "metadata": {},
   "outputs": [
    {
     "name": "stdout",
     "output_type": "stream",
     "text": [
      "A     | value | \n",
      "----------------\n",
      "False | True  | \n",
      "True  | False | \n",
      "\n"
     ]
    }
   ],
   "source": [
    "printtable(\"not A\")"
   ]
  },
  {
   "cell_type": "code",
   "execution_count": 9,
   "id": "d2f6e05f-2958-48e7-8104-34bf5ca6fbe6",
   "metadata": {},
   "outputs": [
    {
     "name": "stdout",
     "output_type": "stream",
     "text": [
      "A     | B     | value | \n",
      "------------------------\n",
      "False | False | False | \n",
      "False | True  | False | \n",
      "True  | False | False | \n",
      "True  | True  | True  | \n",
      "\n"
     ]
    }
   ],
   "source": [
    "printtable(\"A and B\")"
   ]
  },
  {
   "cell_type": "code",
   "execution_count": 10,
   "id": "c65563d6-76fc-4dce-ac1e-3ddc953a66c8",
   "metadata": {},
   "outputs": [
    {
     "name": "stdout",
     "output_type": "stream",
     "text": [
      "A     | B     | value | \n",
      "------------------------\n",
      "False | False | False | \n",
      "False | True  | True  | \n",
      "True  | False | True  | \n",
      "True  | True  | True  | \n",
      "\n"
     ]
    }
   ],
   "source": [
    "printtable(\"A or B\")"
   ]
  },
  {
   "cell_type": "code",
   "execution_count": 11,
   "id": "8cfc6110-3c4d-4b90-90ac-404418ae60cf",
   "metadata": {},
   "outputs": [
    {
     "name": "stdout",
     "output_type": "stream",
     "text": [
      "A     | B     | value | \n",
      "------------------------\n",
      "False | False | True  | \n",
      "False | True  | True  | \n",
      "True  | False | False | \n",
      "True  | True  | True  | \n",
      "\n"
     ]
    }
   ],
   "source": [
    "printtable(\"A -s>> B\")"
   ]
  },
  {
   "cell_type": "markdown",
   "id": "be4a0062-96d4-4773-a1e1-4d6ebd5ce129",
   "metadata": {},
   "source": [
    "Der Grund, warum man in Python für die Subjunktion auch &lt;= schreiben kann, ist, weil das dann $\\leq$ für 0 statt False und 1 statt True entspricht. Vergleichen Sie die Wahrheitstabelle für die Subjunktion mit dieser Tabelle:\n",
    "<table>\n",
    "<tr><td>0 $\\leq$ 0 <td> True\n",
    "<tr><td>0 $\\leq$ 1 <td> True\n",
    "<tr><td>1 $\\leq$ 0  <td> False\n",
    "<tr><td>1 $\\leq$ 1 <td> True\n",
    "</table>\n",
    "Dabei bedeutet &lt;= in Python $\\rightarrow$ und nicht etwa $\\Leftarrow$, auch wenn es so ähnlich aussieht. Man sollte &lt;= als \"kleiner oder gleich\" aussprechen."
   ]
  },
  {
   "cell_type": "code",
   "execution_count": 12,
   "id": "920494a9-25c9-4245-b86b-5b7e8590fa19",
   "metadata": {},
   "outputs": [
    {
     "name": "stdout",
     "output_type": "stream",
     "text": [
      "A     | B     | value | \n",
      "------------------------\n",
      "False | False | True  | \n",
      "False | True  | False | \n",
      "True  | False | False | \n",
      "True  | True  | True  | \n",
      "\n"
     ]
    }
   ],
   "source": [
    "printtable(\"A == B\")"
   ]
  },
  {
   "cell_type": "markdown",
   "id": "7b65d8ad-2bd4-47aa-be7d-35c989924831",
   "metadata": {},
   "source": [
    "printtable() funktioniert nur mit den 5 oben angegebenen Operatoren. Alle andere Operatoren müssen Sie als Kombination dieser 5 Operatoren darstellen. Zum Beispiel die Alternation:"
   ]
  },
  {
   "cell_type": "code",
   "execution_count": 13,
   "id": "c8d419fd-50b3-4eea-8a15-8315ca6c89e4",
   "metadata": {},
   "outputs": [
    {
     "name": "stdout",
     "output_type": "stream",
     "text": [
      "A     | B     | value | \n",
      "------------------------\n",
      "False | False | False | \n",
      "False | True  | True  | \n",
      "True  | False | True  | \n",
      "True  | True  | False | \n",
      "\n"
     ]
    }
   ],
   "source": [
    "printtable(\"not(A == B)\")"
   ]
  },
  {
   "cell_type": "markdown",
   "id": "ae173c42-f418-4b08-8a49-11c0c490130d",
   "metadata": {},
   "source": [
    "Die folgenden wichtigen Zusammenhänge können Sie alle mit Wahrheitstafeln überprüfen. In der Wahrheitstafel muss dabei immer True herauskommen. Da das aber zeitaufwendig ist, empfiehlt es sich, diese Zusammenhänge auswendig zu lernen:\n",
    "<ul>\n",
    "<li> $\\lnot(\\lnot A) = A$\n",
    "<li> $\\lnot(A\\land B) = (\\lnot A\\lor\\lnot B)$\n",
    "<li> $\\lnot(A\\lor B) = (\\lnot A\\land\\lnot B)$\n",
    "<li> $A \\rightarrow B = \\lnot A \\lor B$\n",
    "    <li> $A \\rightarrow B = \\lnot B \\rightarrow \\lnot A$\n",
    "<li> $(A\\leftrightarrow B) = ((A\\rightarrow B)\\land(B\\rightarrow A))$\n",
    "<li> $\\lnot(A\\leftrightarrow B) = (A\\not\\leftrightarrow B)$\n",
    "</ul>\n",
    "Überprüfung mit Wahrheitstabelle, zB:"
   ]
  },
  {
   "cell_type": "code",
   "execution_count": 14,
   "id": "ef8129ce-59cf-43e2-80b4-64940fe45885",
   "metadata": {},
   "outputs": [
    {
     "name": "stdout",
     "output_type": "stream",
     "text": [
      "A     | B     | value | \n",
      "------------------------\n",
      "False | False | True  | \n",
      "False | True  | True  | \n",
      "True  | False | True  | \n",
      "True  | True  | True  | \n",
      "\n"
     ]
    }
   ],
   "source": [
    "printtable(\"(A -s>> B) == (not A or B)\")"
   ]
  },
  {
   "cell_type": "markdown",
   "id": "7735f7a3-4723-4d06-a711-d8e79da44af1",
   "metadata": {},
   "source": [
    "Die Operatoren können auf beliebige Aussagen angewendet werden. Überlegen Sie sich bei den folgenden Beispielen erst, ob True oder False herauskommen wird, bevor Sie das Feld ausführen. Spielen Klammern eine Rolle?"
   ]
  },
  {
   "cell_type": "code",
   "execution_count": 15,
   "id": "3ae1d489-f274-43f1-91e9-4eeca9c0ae85",
   "metadata": {},
   "outputs": [
    {
     "data": {
      "text/plain": [
       "True"
      ]
     },
     "execution_count": 15,
     "metadata": {},
     "output_type": "execute_result"
    },
    {
     "data": {
      "text/plain": [
       "True"
      ]
     },
     "execution_count": 15,
     "metadata": {},
     "output_type": "execute_result"
    },
    {
     "data": {
      "text/plain": [
       "False"
      ]
     },
     "execution_count": 15,
     "metadata": {},
     "output_type": "execute_result"
    },
    {
     "data": {
      "text/plain": [
       "True"
      ]
     },
     "execution_count": 15,
     "metadata": {},
     "output_type": "execute_result"
    }
   ],
   "source": [
    "(300 < 2) -s>> (4 == 5)\n",
    "name = \"Marie\"\n",
    "(name == \"Paul\" or name == \"Susan\") == (name == \"Klaus\") \n",
    "(True or False) == (True and False)\n",
    "True or False == True and False"
   ]
  },
  {
   "cell_type": "markdown",
   "id": "7e10e6c8-8950-4996-bedb-a6d431cfaf72",
   "metadata": {},
   "source": [
    "<h2>2.9 Übungsaufgabe</h2>\n",
    "\n",
    "Erstellen Sie von Hand Wahrheitstabellen für die folgenden Ausdrücke:\n",
    "\n",
    "(a) A∧(A→B)→B\n",
    "\n",
    "(b) ¬B∧(A→B)→¬A\n",
    "\n",
    "(c) A ∧ B → A\n",
    "\n",
    "(d) ((A→B)→C)↔(A→(B→C))\n",
    "\n",
    "(e) ((A∧B)∨C)↔(A∨(B∧C))\n",
    "\n",
    "Überprüfen Sie Ihre Ergebnisse mit printtable()."
   ]
  },
  {
   "cell_type": "code",
   "execution_count": null,
   "id": "c3a01c2a-7611-4d96-8a17-4478137a6074",
   "metadata": {},
   "outputs": [],
   "source": []
  }
 ],
 "metadata": {
  "kernelspec": {
   "display_name": "Python 3 (ipykernel)",
   "language": "python",
   "name": "python3"
  },
  "language_info": {
   "codemirror_mode": {
    "name": "ipython",
    "version": 3
   },
   "file_extension": ".py",
   "mimetype": "text/x-python",
   "name": "python",
   "nbconvert_exporter": "python",
   "pygments_lexer": "ipython3",
   "version": "3.12.6"
  }
 },
 "nbformat": 4,
 "nbformat_minor": 5
}

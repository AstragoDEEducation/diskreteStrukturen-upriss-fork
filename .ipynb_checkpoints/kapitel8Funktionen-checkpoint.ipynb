{
 "cells": [
  {
   "cell_type": "code",
   "execution_count": null,
   "id": "669c03ef-f300-4d79-80fd-179f760ec749",
   "metadata": {},
   "outputs": [],
   "source": [
    "from utils.discrstruct import *"
   ]
  },
  {
   "cell_type": "markdown",
   "id": "e0dac4e8-9a94-48ac-9bbb-24ed5cc9dc40",
   "metadata": {},
   "source": [
    "<h1>Kapitel 8: Funktionen</h1>\n",
    "\n",
    "<h2>8.1 Aufwärmübungen</h2>\n",
    "\n"
   ]
  },
  {
   "cell_type": "markdown",
   "id": "33eeb94c-0cf5-47b5-901b-9f8e8af994b9",
   "metadata": {},
   "source": [
    "1. Wie unterscheiden sich die Relationen in Gruppe 1 von denen in Gruppe 2? Schauen Sie sich sowohl die Graphen der Relationen als auch die Matrizen mit <a href=\"https://upriss.github.io/educaJS/binaryRelations/binRelJS.html\" target=\"new\">dieser Webseite</a> an. Wie viele Pfeile verlassen jeden Knoten? Wie oft steht die Zahl 1 in jeder Zeile der Matrizen?\n",
    "<ul>\n",
    "    <li>Gruppe 1<br>\n",
    "        {(15,1),(16,2),(16,3),(16,4)}<br>\n",
    "        {(1,2),(2,3),(1,3)}<br>\n",
    "        {(1,2),(1,1),(3,4),(3,3),(5,5),(5,6)}<br>\n",
    "    <li>Gruppe 2<br>\n",
    "        {(15,1),(16,2),(17,2),(18,2)}<br>\n",
    "        {(1,2),(2,3),(3,1)}<br>\n",
    "        {(1,2),(3,4),(5,6)}<br>\n",
    "</ul>"
   ]
  },
  {
   "cell_type": "markdown",
   "id": "885526a6-1e98-45f4-8bd4-7ef939fc784d",
   "metadata": {},
   "source": [
    "<h2>8.2.2 Funktion als spezielle Relation</h2>\n",
    "\n",
    "<div style='background-color: lightgray'><b>Definition:</b>\n",
    "Eine <i>Funktion</i> f : D → W ist eine Relation f ⊆ D × W, (d.h. eine\n",
    "    Menge von Paaren (d,w) mit d ∈ D  und w ∈ W), so dass\n",
    "\n",
    "1. es für jedes d ∈ D mindestens ein w ∈ W mit (d,w) ∈ f gibt und \n",
    "    \n",
    "2. keine zwei Paare dieselbe erste, aber unterschiedliche zweite Komponenten haben.\n",
    "    </div>\n",
    "\n",
    "Welche der beiden Gruppen in Aufwärmübung 1 enthält Funktionen?\n",
    "\n",
    "In Python kann man die beiden Bedingungen so darstellen:"
   ]
  },
  {
   "cell_type": "code",
   "execution_count": null,
   "id": "7cffc8b8-b5aa-4d28-8c09-90d5f133b06f",
   "metadata": {},
   "outputs": [],
   "source": [
    "def total (D,W,f):\n",
    "    return all(any ((d,w) in f for w in W) for d in D)\n",
    "def eindeutig (f):   \n",
    "    return all( (a == x) -s>> (b == y) for (a,b) in f for (x,y) in f)"
   ]
  },
  {
   "cell_type": "markdown",
   "id": "f486dff2-2362-4e91-bbed-7057491a874e",
   "metadata": {},
   "source": [
    "Im Folgenden werden die beiden Bedingungen auf die Relationen R1 und F1 bezüglich der Definitionsmenge D und der Wertemenge W angewendet:"
   ]
  },
  {
   "cell_type": "code",
   "execution_count": null,
   "id": "e122859c-d261-407d-8ed8-7bec9d739a1e",
   "metadata": {},
   "outputs": [],
   "source": [
    "R1 = {(1,2),(1,3),(2,3)}\n",
    "F1 = {(1,2),(2,3),(3,4)}\n",
    "D = {1,2,3}\n",
    "W = {1,2,3,4,5,6}\n",
    "\n",
    "total(D,W,R1)\n",
    "eindeutig(R1)\n",
    "total(D,W,F1)  \n",
    "eindeutig(F1)"
   ]
  },
  {
   "cell_type": "markdown",
   "id": "2e2c5a1a-02c8-47f7-821a-ae2c8d59c66b",
   "metadata": {},
   "source": [
    "Definieren Sie weitere Relationen mit Definitions- und Wertemenge und überprüfen Sie, ob diese die beiden Bedingungen erfüllen:"
   ]
  },
  {
   "cell_type": "code",
   "execution_count": null,
   "id": "6bf73fbc-82c0-425a-9fd7-6f7e222a0d31",
   "metadata": {},
   "outputs": [],
   "source": []
  },
  {
   "cell_type": "markdown",
   "id": "8de2131a-b023-4f1d-99c7-f1944cc05461",
   "metadata": {},
   "source": [
    "<h2>8.2.1 Funktion als Transformationsprozess</h2> \n",
    "\n",
    "f1 = {(1,4),(2,17),(3,2),(4,-23)}\n",
    "\n",
    "f2 = {(1,1),(2,4),(3,9),(4,16)}\n",
    "\n",
    "Fällt Ihnen ein Unterschied zwischen diesen beiden Funktionen auf? Können Sie eine der beiden mit einem einfachen Mengenkonstruktor aufschreiben?\n",
    "\n",
    "Wenn man eine Funktion als Relation betrachtet, dann muss es keinen ersichtlichen Zusammenhang zwischen den ersten und zweiten Komponenten geben. Oft gibt es aber einen \"Prozess\" oder \"Algorithmus\", mit dem man die zweite Komponente aus der ersten berechnen kann. Daher kann man Funktionen oft auch so definieren:\n",
    " \n",
    " <div style='background-color: lightgray'><b>Definition:</b> \n",
    " Eine <i>Funktion</i> f : D → W mit x $\\mapsto$ f(x) ist ein Prozess, der jedes Element x einer Menge D (die sogenannte Definitionsmenge) eindeutig in ein Element f(x) einer Menge W (die sogenannte Wertemenge) transformiert.</div>\n",
    " \n",
    "In der Mathematik wird nicht zwischen den beiden Definitionen von Funktionen unterschieden. Es wäre auch nicht einfach zu definieren, was genau ein \"Prozess\" ist oder wie man die Existenz eines Prozess mit Python überprüfen sollte. In der Informatik werden Funktionen als spezielle Relationen auch als <i>Relationen mit funktionaler Abhängigkeit</i> bezeichnet. "
   ]
  },
  {
   "cell_type": "markdown",
   "id": "342a3c4f-8edf-4c86-984c-e62c0865e432",
   "metadata": {},
   "source": [
    " <div style='background-color: lightgray'><b>Definition:</b> \n",
    "    Für eine Funktion f : D → W wird die Menge f(D) = {f(x) : x ∈ D}\n",
    "der Elemente der Wertemenge, auf die eine Funktion tatsächlich abbildet, als <i>Bildmenge</i> der Funktion f bezeichnet.\n",
    "    </div>\n",
    "    \n",
    "<p><center><img src=\"https://upriss.github.io/educaJS/images/imgFTypes2.png\" alt=\"Bildmenge\" width=200 /></center></p>\n",
    "  \n",
    "Welche mengentheoretische Beziehung besteht zwischen Bildmenge und Wertemenge? "
   ]
  },
  {
   "cell_type": "markdown",
   "id": "97d53d67-5eec-4e38-9576-4b797771c455",
   "metadata": {},
   "source": [
    "<h2>Funktionen in Python</h2>\n",
    "\n",
    "In Python ist der Zusammenhang zwischen Relationen mit funktionaler Abhängigkeit (zB {(1,4),(2,17),(3,2),(4,-23)}) und Funktionen als Prozessen nicht wirklich sichtbar, da es in Python unterschiedliche Konstrukte sind. Sie haben in diesem Modul schon viele Python-Funktionen als Prozesse gesehen, und zwar alles, was mit \"def\" beginnt. Zum Beispiel:"
   ]
  },
  {
   "cell_type": "code",
   "execution_count": null,
   "id": "2b83e539-1e49-4e46-b0d2-57fa7211aced",
   "metadata": {},
   "outputs": [],
   "source": [
    "def addiere1(a):\n",
    "     return a + 1\n",
    "addiere1(42)"
   ]
  },
  {
   "cell_type": "markdown",
   "id": "55e9a896-6a32-49b4-9323-ae450f10040d",
   "metadata": {},
   "source": [
    "Vervollständigen Sie die Definition von \"bildmenge\", so dass sie für eine Eingabe einer Funktion mit ihrem Definitionsbereich die Bildmenge f(D) zurückgibt."
   ]
  },
  {
   "cell_type": "code",
   "execution_count": null,
   "id": "9327092f-bdd9-4ed6-9564-a9fb6844dc65",
   "metadata": {},
   "outputs": [],
   "source": [
    "def bildmenge (f,D):\n",
    "    return {TODO}\n",
    "bildmenge(addiere1,range(1,11))"
   ]
  },
  {
   "cell_type": "markdown",
   "id": "aebff088-1cf3-49f5-b7a0-9676463880e3",
   "metadata": {},
   "source": [
    "Überlegen Sie sich, ob und wie Funktionen in Python gleich oder anders sind als Funktionen in der Mathematik. Was sind die Definitions- und Wertebereiche? Wo befindet sich der \"Prozess\"? Wie könnte man bei addiere1 überprüfen, ob es total und eindeutig ist? Ginge das mit Python oder mathematisch?\n",
    "\n",
    "Schauen Sie sich nochmal an, wie mathematische Definitionen im letzten Kapitel mit Python als Funktionen dargestellt wurden (Fragezeichen, aequivklasse, verketten). Wurde dabei etwas ausgerechnet oder definierte Eigenschaften überprüft?"
   ]
  },
  {
   "cell_type": "markdown",
   "id": "81bf01fb-877c-42e4-b2bb-d232ed1e06ef",
   "metadata": {},
   "source": [
    "<h2>8.9 Übungsaufgaben</h2>\n",
    "\n",
    "1. Schreiben Sie Funktionen \"rechtsTotal\" und \"linksEindeutig\" analog zu den Funktionen \"total\" und \"eindeutig\" aber mit vertauschtem D und W. Wenden Sie diese auf einige Beispiele von Relationen und Funktionen an. (Anstatt \"rechtsTotal\" sagt man auch \"surjektiv\", anstatt \"linksEindeutig\" auch \"injektiv\".)"
   ]
  },
  {
   "cell_type": "code",
   "execution_count": null,
   "id": "1e5f8c05-66c2-4118-a0de-7116e8a7e366",
   "metadata": {},
   "outputs": [],
   "source": []
  },
  {
   "cell_type": "markdown",
   "id": "337da150-34c9-499f-a696-78d3e05b32f8",
   "metadata": {},
   "source": [
    "2. Wenden Sie die Funktionen \"total\" und \"eindeutig\" auf die leere Menge an, und zwar, wenn D oder W leer sind oder wenn die gesamte Relation leer ist."
   ]
  },
  {
   "cell_type": "code",
   "execution_count": null,
   "id": "a606861f-7020-4ac1-a401-547ba4f833f3",
   "metadata": {},
   "outputs": [],
   "source": []
  }
 ],
 "metadata": {
  "kernelspec": {
   "display_name": "Python 3 (ipykernel)",
   "language": "python",
   "name": "python3"
  },
  "language_info": {
   "codemirror_mode": {
    "name": "ipython",
    "version": 3
   },
   "file_extension": ".py",
   "mimetype": "text/x-python",
   "name": "python",
   "nbconvert_exporter": "python",
   "pygments_lexer": "ipython3",
   "version": "3.10.8"
  }
 },
 "nbformat": 4,
 "nbformat_minor": 5
}

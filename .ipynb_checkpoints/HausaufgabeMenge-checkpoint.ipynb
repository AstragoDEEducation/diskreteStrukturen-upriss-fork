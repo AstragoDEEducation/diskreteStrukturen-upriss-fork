{
 "cells": [
  {
   "cell_type": "code",
   "execution_count": null,
   "id": "824b10e1-4561-4576-8f07-fd1421910c3f",
   "metadata": {},
   "outputs": [],
   "source": [
    "from utils.discrstruct import *"
   ]
  },
  {
   "cell_type": "markdown",
   "id": "f67c2948-f8a1-4294-837b-d244b057e897",
   "metadata": {},
   "source": [
    "<b>Aussage</b>: Für die Menge P der Primzahlen gilt: ∀(p ∈ P | p > 3 ⇒ ∃(n ∈ N | p = 6n + 1 oder p = 6n − 1))<br>\n",
    "(DIES IST EIN BEISPIEL. Ersetzen Sie dies durch Ihre Aussage)"
   ]
  },
  {
   "cell_type": "markdown",
   "id": "d4767c30-cca9-47ae-9b7a-6158dd266157",
   "metadata": {},
   "source": [
    "<b>1. Beweis der Aussage unter Benutzung von OLAF (olaf.ostfalia.de)</b>\n",
    "\n",
    "ERSETZEN SIE DIESEN TEXT DURCH IHR ERGEBNIS VON OLAF. Reines Copy/Paste von Olaf funktioniert nicht immer fehlerfrei. Sie dürfen/sollen das Output noch geringfügig editieren. Das Ziel ist ein möglichst guter Beweis.\n",
    "\n",
    "Um die gegebene Aussage zu beweisen, müssen wir zeigen, dass jede Primzahl p>3 entweder in der Form p=6n+1 oder p=6n−1  für ein geeignetes n∈N dargestellt werden kann.\n",
    "\n",
    "Betrachten wir eine Zahl p und ihren Rest bei der Division durch 6. Für jede ganze Zahl p gibt es fünf mögliche Reste: 0, 1, 2, 3, 4 oder 5, da es sechs mögliche Klassen modulo 6 gibt (von denen die Klasse 0 ignoriert wird, weil p dann durch 6 teilbar ist und p>3 keine Primzahl sein könnte).\n",
    "\n",
    "Gehen wir diese Fälle durch:\n",
    "\n",
    "1. p ≡ 0 mod 6:  \n",
    "   Wenn p ≡ 0 mod 6, dann ist p durch 6 teilbar. Da p>3 nicht 6 sein kann (weil Primzahlen größer als 3 ungerade sein müssen), wäre p keine Primzahl.\n",
    "\n",
    "2. p ≡ 2 mod 6:\n",
    "   Wenn p ≡ 2 mod 6, dann ist p  durch 2 teilbar und daher keine Primzahl (außer 2 selbst, die aber nicht > 3 ist).\n",
    "\n",
    "3. p ≡ 3 mod 6:\n",
    "   Wenn p ≡ 3 mod 6, dann ist p  durch 3 teilbar. Da p>3, kann p  nicht die Primzahl 3 sein, und somit ist es keine Primzahl.\n",
    "\n",
    "4. p ≡ 4 mod  6:\n",
    "   Wenn p ≡ 4 mod 6, ist p ≡ 2 mod 3. Wird p durch 2 teilbar (also p ≡ 4 ≡ 2⋅2 mod 6), würde es keine Primzahl sein.\n",
    "\n",
    "5. p ≡ 1 mod 6 oder p ≡ 5 mod 6:  \n",
    "   Eine Primzahl kann also nur diese beiden Reste haben, denn sie ist weder durch 2 noch durch 3 teilbar.\n",
    "\n",
    "Da die anderen Möglichkeiten ausgeschlossen wurden, bleiben die Primzahlformen:\n",
    "- p = 6n+1, wenn p≡1mod 6,\n",
    "- p = 6n−1 (was gleichbedeutend mit p = 6n+5 ist), wenn p ≡ 5 mod  6.\n",
    "\n",
    "Somit ist gezeigt, dass jede Primzahl p>3 entweder der Form 6n+1 oder 6n−1 entspricht. \n",
    "Das beweist die gegebene Aussage."
   ]
  },
  {
   "cell_type": "markdown",
   "id": "06be1150-4bf7-4528-b379-114b80e578fe",
   "metadata": {},
   "source": [
    "<b>1.1 War der Beweis von OLAF richtig?</b>\n",
    "\n",
    "Schreiben Sie hier, ob Sie Fehler im Beweis gefunden haben oder ob er richtig war."
   ]
  },
  {
   "cell_type": "markdown",
   "id": "6b8ab2ac-cbc8-46b3-b641-cb46b77f590f",
   "metadata": {},
   "source": [
    "<b>1.2 War der Beweis von OLAF gut verständlich?</b>\n",
    "\n",
    "Schreiben Sie hier, ob der Beweis gut verständlich war, zu lang oder zu kurz, ob Sie viel geändert haben oder ob Sie andere Verbesserungsvorschläge hätten."
   ]
  },
  {
   "cell_type": "markdown",
   "id": "eea65525-05d5-4cee-8819-e27e3c5a9994",
   "metadata": {},
   "source": [
    "<b>2. Implementierung der Aussage in Python für Beispiele anhand von OLAF</b>\n",
    "\n",
    "Sagen Sie OLAF, dass Sie dafür Python-Code haben möchten, aber mit Mengen-Konstruktoren und ohne Schleifen u.a., die wir nicht behandelt haben. Geben Sie das dann so in dieses Jupyter-Notebook ein, dass der Python-Code ausführbar ist. Hier ist das Ergebnis von OLAF:"
   ]
  },
  {
   "cell_type": "code",
   "execution_count": null,
   "id": "959da0c4-d927-4fbd-9bba-417c6b06d3e5",
   "metadata": {},
   "outputs": [],
   "source": [
    "import math\n",
    "\n",
    "def is_prime(n):\n",
    "    \"\"\"Return True if n is a prime number.\"\"\"\n",
    "    if n <= 1:\n",
    "        return False\n",
    "    if n <= 3:\n",
    "        return True\n",
    "    if n % 2 == 0 or n % 3 == 0:\n",
    "        return False\n",
    "    return all(n % i != 0 and n % (i + 2) != 0 for i in range(5, int(math.sqrt(n)) + 1, 6))\n",
    "\n",
    "# Define a set of numbers to check\n",
    "nums = set(range(2, 100))\n",
    "\n",
    "# Create a set of primes that satisfy our condition using set comprehension\n",
    "prime_conditions = {p for p in nums if p > 3 and is_prime(p) and (p % 6 == 1 or p % 6 == 5)}\n",
    "\n",
    "print(f\"Primes > 3 satisfying the condition: {prime_conditions}\")"
   ]
  },
  {
   "cell_type": "markdown",
   "id": "c13ff797-c921-42cd-87aa-5ae407db9024",
   "metadata": {},
   "source": [
    "<b>2.1 War der Code von OLAF richtig?</b>\n",
    "\n",
    "Schreiben Sie hier Ihre Antwort"
   ]
  },
  {
   "cell_type": "markdown",
   "id": "985140ba-c161-4139-b281-c1ac1433f491",
   "metadata": {},
   "source": [
    "<b>2.2 Beurteilen Sie den Code von OLAF</b>\n",
    "\n",
    "Schreiben Sie hier, ob der Code gut verständlich war, zu lang oder zu kurz, vollständig oder unvollständig."
   ]
  },
  {
   "cell_type": "markdown",
   "id": "abe66dcc-b9de-4666-87bb-8b331c596c35",
   "metadata": {},
   "source": [
    "<b>2.3 Verbesserungsvorschlag</b>\n",
    "\n",
    "Falls Sie einen Verbesserungsvorschlag für den Code haben, schreiben Sie ihn im nächsten Feld. Falls nicht, sind Sie fertig."
   ]
  },
  {
   "cell_type": "code",
   "execution_count": null,
   "id": "eb10d23b-5e34-4aca-97ea-ef51236e3089",
   "metadata": {},
   "outputs": [],
   "source": [
    "# folgendes fehlt:\n",
    "prime_nums = {p for p in nums if p > 3 and is_prime(p)}\n",
    "prime_nums == prime_conditions"
   ]
  },
  {
   "cell_type": "code",
   "execution_count": null,
   "id": "a260b32f-4b42-45d9-aaa9-975e6b4b201c",
   "metadata": {},
   "outputs": [],
   "source": []
  }
 ],
 "metadata": {
  "kernelspec": {
   "display_name": "Python 3 (ipykernel)",
   "language": "python",
   "name": "python3"
  },
  "language_info": {
   "codemirror_mode": {
    "name": "ipython",
    "version": 3
   },
   "file_extension": ".py",
   "mimetype": "text/x-python",
   "name": "python",
   "nbconvert_exporter": "python",
   "pygments_lexer": "ipython3",
   "version": "3.9.6"
  }
 },
 "nbformat": 4,
 "nbformat_minor": 5
}

{
 "cells": [
  {
   "cell_type": "code",
   "execution_count": 1,
   "id": "53c74c0d-012c-4237-8ae4-8c2f8f879ce6",
   "metadata": {},
   "outputs": [
    {
     "data": {
      "text/html": [
       "<script type=\"text/javascript\">\n",
       "function ueberpruefen(property) {\n",
       "var solutions = \n",
       "{'kapitel2_1_0': 'RGllIEZsYXNjaGUgaXN0IG5pY2h0IHZvbGwu', 'kapitel2_1_1': 'RGllIEhvc2UgaXN0IG5pY2h0IHNjaHdhcnou', 'kapitel2_2_0': 'RXIgbWFnIGtlaW5lbiBTY2huYXBzIG9kZXIgZXIgbWFnIFNla3Qu', 'kapitel2_2_1': 'U2llIHRhbnp0IG5pY2h0IG9kZXIgZsOkaHJ0IG5pY2h0IFJhZC4=', 'kapitel2_3_0': 'SmE=', 'kapitel2_3_1': 'SmE=', 'kapitel2_3_2': 'SmE=', 'kapitel2_3_3': 'TmVpbg==', 'kapitel2_3_4': 'SmE=', 'kapitel2_3_5': 'TmVpbg==', 'kapitel2_3_6': 'SmE=', 'kapitel2_3_7': 'TmVpbg==', 'kapitel2_4_0': 'QXVzc2FnZWZvcm0=', 'kapitel2_4_1': 'QXVzc2FnZWZvcm0=', 'kapitel2_4_2': 'QXVzc2FnZWZvcm0=', 'kapitel2_4_3': 'V2VkZXIgQXVzc2FnZSBub2NoIEF1c3NhZ2Vmb3Jt', 'kapitel2_4_4': 'QXVzc2FnZQ==', 'kapitel2_4_5': 'QXVzc2FnZQ==', 'kapitel2_4_6': 'V2VkZXIgQXVzc2FnZSBub2NoIEF1c3NhZ2Vmb3Jt', 'kapitel2_4_7': 'QXVzc2FnZQ==', 'kapitel2_5_0': 'ZW50d2VkZXItb2Rlcg==', 'kapitel2_5_1': 'ZW50d2VkZXItb2Rlcg==', 'kapitel2_5_2': 'bG9naXNjaGVzIG9kZXI=', 'kapitel2_5_3': 'ZW50d2VkZXItb2Rlcg==', 'kapitel2_6_0': 'd2Focg==', 'kapitel2_6_1': 'ZmFsc2No', 'kapitel2_6_2': 'd2Focg==', 'kapitel2_6_3': 'ZmFsc2No', 'kapitel2_7_0': 'QXVmesOkaGx1bmcgdm9uIEdlZ2Vuc3TDpG5kZW4=', 'kapitel2_7_1': 'bG9naXNjaGUgS29uanVua3Rpb24=', 'kapitel2_7_2': 'bG9naXNjaGUgS29uanVua3Rpb24=', 'kapitel2_7_3': 'QXVmesOkaGx1bmcgdm9uIEdlZ2Vuc3TDpG5kZW4=', 'kapitel3_1_0': 'RGVmaW5pdGlvbg==', 'kapitel3_1_1': 'VGhlb3JlbQ==', 'kapitel3_1_2': 'RGVmaW5pdGlvbg==', 'kapitel3_1_3': 'VGhlb3JlbQ==', 'kapitel3_1_4': 'RGVmaW5pdGlvbg==', 'kapitel3_1_5': 'VGhlb3JlbQ==', 'kapitel3_2_0': 'QSDihpIgQg==', 'kapitel3_2_1': 'QSDihpAgQg==', 'kapitel3_2_2': 'QSDih5IgQg==', 'kapitel3_2_3': 'QSDih5IgQg==', 'kapitel3_2_4': 'QSDihpAgQg==', 'kapitel3_2_5': 'QSDih5QgQg==', 'kapitel3_3_0': 'a29tbXV0YXRpdg==', 'kapitel3_3_1': 'bmljaHQga29tbXV0YXRpdg==', 'kapitel3_3_2': 'bmljaHQga29tbXV0YXRpdg==', 'kapitel3_3_3': 'bmljaHQga29tbXV0YXRpdg==', 'kapitel3_4_0': 'bmV1dHJhbGVzIEVsZW1lbnQ=', 'kapitel3_4_1': 'a2VpbiBuZXV0cmFsZXMgRWxlbWVudA==', 'kapitel3_4_2': 'a2VpbiBuZXV0cmFsZXMgRWxlbWVudA==', 'kapitel3_4_3': 'bmV1dHJhbGVzIEVsZW1lbnQ=', 'kapitel3_4_4': 'bmV1dHJhbGVzIEVsZW1lbnQ=', 'kapitel3_4_5': 'a2VpbiBuZXV0cmFsZXMgRWxlbWVudA==', 'kapitel3_4_6': 'a2VpbiBuZXV0cmFsZXMgRWxlbWVudA==', 'kapitel3_4_7': 'bmV1dHJhbGVzIEVsZW1lbnQ='}\n",
       "\n",
       "   form_elements = document.querySelector(\"#\"+property).elements;\n",
       "   for (i = 0; i < form_elements.length ;i++) {\n",
       "      var answer = \"<font size=5 color='red'>&#10007;</font>\";\n",
       "      if (typeof solutions[form_elements[i].id] !== 'undefined') {\n",
       "         if (form_elements[i].value == \n",
       "             decodeURIComponent(escape(atob(solutions[form_elements[i].id] )))) {\n",
       "             answer = \"<font size=5 color='green'>&#10003;</font>\";\n",
       "         }\n",
       "      document.querySelector(\"#\" + form_elements[i].id + \"_ans\").innerHTML=answer;\n",
       "      }\n",
       "   }\n",
       "}\n",
       "</script>"
      ],
      "text/plain": [
       "<IPython.core.display.HTML object>"
      ]
     },
     "metadata": {},
     "output_type": "display_data"
    }
   ],
   "source": [
    "from utils.discrstruct import *"
   ]
  },
  {
   "cell_type": "markdown",
   "id": "3ba94db5-2f2c-46fc-a14e-573ca8dc89eb",
   "metadata": {},
   "source": [
    "<h1>Kapitel 7: Relationen</h1>\n",
    "\n",
    "Hinweis: in Python sollten Sie in diesem Kapitel immer runde Klammern für Tupel verwenden, z.B. (1,2). Im Lehrbuch und in anderen Programmiersprachen werden\n",
    "Tupel auch mit eckigen Klammern geschrieben, z.B. [1,2]. In der Mathematik ist es egal, welche der Schreibweisen Sie verwenden, aber Sie sollten die beiden nicht mischen.\n",
    "\n",
    "<h2>7.1 Aufwärmübungen</h2>\n",
    "\n",
    "1. Vervollständigen Sie die Definition \"Fragezeichen\", so dass die True zurückgibt, falls S eine Teilmenge des kartesischen Produkts von A und B ist (also für S1) und False sonst (also für S2)."
   ]
  },
  {
   "cell_type": "code",
   "execution_count": 4,
   "id": "7df311e6-87a7-4b22-9fc0-9d31a689ffe2",
   "metadata": {},
   "outputs": [
    {
     "data": {
      "text/plain": [
       "True"
      ]
     },
     "execution_count": 4,
     "metadata": {},
     "output_type": "execute_result"
    },
    {
     "data": {
      "text/plain": [
       "False"
      ]
     },
     "execution_count": 4,
     "metadata": {},
     "output_type": "execute_result"
    }
   ],
   "source": [
    "def Fragezeichen (S,A,B):\n",
    "    return S <= CartProd(A,B)\n",
    "A = {1,2,3}\n",
    "B = {1,2,3}\n",
    "S1 = {(1, 1), (1, 2), (1, 3), (2, 1), (2, 2), (2, 3), (3, 1), (3, 2), (3, 3)}\n",
    "S2 = {(4, 1), (4, 2), (4, 3), (5, 1), (5, 2), (5, 3), (6, 1), (6, 2), (6, 3)}\n",
    "Fragezeichen(S1,A,B)\n",
    "Fragezeichen(S2,A,B)"
   ]
  },
  {
   "cell_type": "markdown",
   "id": "5ab27c05-3029-448f-944b-23e1e3782558",
   "metadata": {},
   "source": [
    "2. Welche der folgenden Mengen sind Teilmengen des kartesischen Produkts von {0..9} und {0..100}? Überlegen Sie erst und überprüfen Sie dann mit Python. Dabei ist set(range(0,101)) die Menge der Zahlen von 0 bis 100."
   ]
  },
  {
   "cell_type": "code",
   "execution_count": 6,
   "id": "72219241-efa9-48bb-a6aa-faf0de0b2df4",
   "metadata": {},
   "outputs": [
    {
     "data": {
      "text/plain": [
       "True"
      ]
     },
     "execution_count": 6,
     "metadata": {},
     "output_type": "execute_result"
    },
    {
     "data": {
      "text/plain": [
       "False"
      ]
     },
     "execution_count": 6,
     "metadata": {},
     "output_type": "execute_result"
    },
    {
     "data": {
      "text/plain": [
       "True"
      ]
     },
     "execution_count": 6,
     "metadata": {},
     "output_type": "execute_result"
    }
   ],
   "source": [
    "A1 = {(0,0),(1,1),(2,4),(3,9),(4,16),(5,25),(6,36),(7,49),(8,64),(9,81)}\n",
    "A2 = {1,(2,3)}\n",
    "A3 = {(a,b) for a in {1,2,3,4,5} for b in {1,2,3,4,5} if a % 7 == b % 7}\n",
    "Fragezeichen(A1,{0,1,2,3,4,5,6,7,8,9},set(range(0,101)))\n",
    "Fragezeichen(A2,{0,1,2,3,4,5,6,7,8,9},set(range(0,101)))\n",
    "Fragezeichen(A3,{0,1,2,3,4,5,6,7,8,9},set(range(0,101)))"
   ]
  },
  {
   "cell_type": "markdown",
   "id": "3a7e3489-4a23-4442-8e73-d822ec5095e2",
   "metadata": {},
   "source": [
    "3. Schreiben Sie Mengen-Konstruktoren für die folgenden Mengen:\n",
    "<ul>\n",
    "<li>Die Menge der Paare (x, y), für die x + y < 8 und x, y Zahlen zwischen 0 und 10 sind.\n",
    "<li> Die Menge der Paare von Zahlen kleiner 20, die nach Division durch 5 denselben Rest haben.\n",
    "</ul>\n",
    "Überprüfen Sie Ihre Lösungen, indem Sie sich die Mengen ansehen, die herauskommen."
   ]
  },
  {
   "cell_type": "code",
   "execution_count": 7,
   "id": "50a88a0d-dc2d-47e2-b130-2ce972a76ae4",
   "metadata": {},
   "outputs": [],
   "source": [
    "M1 = {(x, y) for x in range(11) for y in range(11) if x + y < 8}\n",
    "M2 = {(x,y) for x in range(21) for y in range(21) if x%5 == y%5}"
   ]
  },
  {
   "cell_type": "markdown",
   "id": "019b110a-ef2d-4565-8e8d-56333e470c2d",
   "metadata": {},
   "source": [
    "4) Welche strukturellen Gemeinsamkeiten haben die folgenden Mengen?\n",
    "Schauen Sie sich jeweils die Graphen der Relationen an. (Z.B. mithilfe  <a href=\"https://upriss.github.io/educaJS/binaryRelations/binRelJS.html\" target=\"new\">dieser Webseite</a>, in dem Sie die Mengen nacheinander mit Copy/Paste einfügen.) Bei jeder Dreiergruppe gibt es jeweils eine Gemeinsamkeit.\n",
    "\n",
    "<ul>\n",
    "<li>Gruppe 1\n",
    "    \n",
    "{[a,b],[b,a],[c,d],[d,c]}    \n",
    " \n",
    "{[1,2],[2,1],[4,3],[3,4],[2,4],[4,2]}    \n",
    "    \n",
    "{[1,2],[2,1],[2,3],[3,2],[2,4],[4,2]}    \n",
    "<li>Gruppe 2\n",
    "    \n",
    "{[a,a],[b,b],[c,c]}\n",
    "\n",
    "{[1,1],[2,2],[3,3],[1,2],[2,1],[4,3],[3,4],[4,4],[5,5]}\n",
    "\n",
    "{[1,1],[2,2],[3,3],[1,2],[2,1],[1,3],[3,1],[2,3],[3,2],[4,4],[5,5],[4,5],[5,4]}\n",
    "\n",
    "<li>Gruppe 3\n",
    "    \n",
    "{[0,1],[0,2],[1,2],[3,4]}\n",
    "\n",
    "{[nicht, oder], [nicht, und], [oder, und]}\n",
    "\n",
    "{[d,c],[d,b],[d,a],[c,b],[c,a],[b,a]}\n",
    "</ul>\n"
   ]
  },
  {
   "cell_type": "markdown",
   "id": "36c8658e-8e42-4f1f-a2b6-a07cb3a9f0bb",
   "metadata": {},
   "source": [
    "<h2>7.2 Modellieren von Beziehungsmustern</h2>\n",
    "\n",
    "<div style='background-color: lightgray'><b>Definition:</b> \n",
    "    Eine <i>Relation</i> R zwischen den Mengen A und B ist eine Teilmenge des kartesischen Produkts A × B, also R ⊆ A × B.</div>\n",
    "\n",
    "Für die Elemente kann man anstatt [a, b] ∈ R in der Mathematik auch aRb schreiben (aber nicht in Python).<br>\n",
    "Eine Relation <i>auf einer Menge $A$</i> ist Teilmenge des kartesischen Produkts von $A$ mit sich selbst, also R ⊆ A × A.\n",
    "    "
   ]
  },
  {
   "cell_type": "code",
   "execution_count": null,
   "id": "bc439316-a488-480a-82eb-96fc6494d1a2",
   "metadata": {},
   "outputs": [],
   "source": [
    "R1 = {(1,20),(2,30),(4,20)}\n",
    "R2 = {(1,1),(1,3),(9,2)}\n",
    "M1 = set(range(1,10))      # d.h. die Menge der Zahlen von 1 bis 9\n",
    "M2 = set(range(10,100))    # d.h. die Menge der Zahlen von 10 bis 99\n",
    "R1 <= CartProd(M1, M2)\n",
    "R1 <= CartProd(M1, M1)\n",
    "R2 <= CartProd(M1, M1)\n",
    "(1,20) in R1"
   ]
  },
  {
   "cell_type": "markdown",
   "id": "10aa189d-1a70-45ff-8451-3f4a627d1058",
   "metadata": {},
   "source": [
    "<h2>7.3 Eigenschaften von Relationen</h2>\n",
    "\n",
    "Sie haben in der Aufwärmübung 4 gesehen, dass manche Relationen Eigenschaften haben, die einfach graphisch zu beschreiben sind, z.B. zu jedem Hinpfeil gibt es einen Rückpfeil. Diese Eigenschaften kann man formal definieren: \n",
    "\n",
    "<div style='background-color: lightgray'><b>Definition:</b> \n",
    "    Eine Relation R auf A heißt\n",
    "<ul>\n",
    "<li> <i>reflexiv</i>, wenn [a,a] ∈ R für alle a ∈ A gilt.\n",
    "<li> <i>symmetrisch</i>, wenn [a,b] ∈ R → [b,a] ∈ R für alle a,b ∈ A gilt.\n",
    "<li> <i>transitiv</i>, wenn ([a,b] ∈ R ∧ [b,c] ∈ R) → [a,c] ∈ R für alle a,b,c ∈ A gilt.\n",
    "<li> <i>antisymmetrisch</i>, wenn ([a,b] ∈ R ∧ [b,a] ∈ R) → a = b für alle a, b ∈ A gilt.\n",
    "<li> <i>asymmetrisch</i>, wenn [a,b] ∈ R → [b,a] $\\not\\in$ R für alle a,b ∈ A gilt\n",
    "    </ul>\n",
    "    </div>\n",
    "\n",
    "<b>Beispiele:</b><br>\n",
    "reflexiv: Gruppe 2 in Aufwärmübung 4 <br>\n",
    "symmetrisch: Gruppe 1 und Gruppe 2 in Aufwärmübung 4<br>\n",
    "transitiv: Gruppe 2 und Gruppe 3 in Aufwärmübung 4<br>\n",
    "antisymmetrisch und nicht asymmetrisch: {[0,1],[0,2],[1,2],[3,4], [0,0]}<br>\n",
    "asymmetrisch: Gruppe 3 in Aufwärmübung 4<br>\n",
    "\n",
    "Was ist der Unterschied zwischen Antisymmetrie und Asymmetrie?"
   ]
  },
  {
   "cell_type": "markdown",
   "id": "fa8089d1-682d-4030-b9ad-44edf0683dd2",
   "metadata": {},
   "source": [
    "<h2>7.5 Äquivalenzrelationen</h2>\n",
    "\n",
    "<div style='background-color: lightgray'><b>Definition:</b> \n",
    "    Eine Relation R auf einer Menge A heißt <i>Äquivalenzrelation</i>, wenn R reflexiv, symmetrisch und transitiv ist. Für [a,b] ∈ R sagt man dann \"a ist äquivalent zu b\".\n",
    "    </div>\n",
    "Für welche Gruppe in Aufwärmübung 4 trifft das zu? Wie sehen die Graphen immer aus?  "
   ]
  },
  {
   "cell_type": "markdown",
   "id": "206d182c-ab63-4e35-bda9-227e800ab226",
   "metadata": {},
   "source": [
    "<div style='background-color: lightgray'><b>Definition:</b> \n",
    "Die Menge [a] aller Elemente einer Äquivalenzrelation R auf A, die äquivalent zu a ∈ A sind,<center> [a] = { x : x ∈ A | (x,a) ∈ R},</center> heißt <i>Äquivalenzklasse</i> von a.</div>\n",
    "\n",
    "Schauen Sie sich den Graphen dieser Äquivalenzrelation nochmal an: <br>\n",
    "{[1,1],[2,2],[3,3],[1,2],[2,1],[4,3],[3,4],[4,4],[5,5]}<br>\n",
    "Wie können Sie die Äquivalenzklassen im Graphen sehen? Vervollständigen Sie den Python-Code so, dass aequivklasse die Äquivalenzklassen berechnet:"
   ]
  },
  {
   "cell_type": "code",
   "execution_count": null,
   "id": "9c179f3d-a2dc-41ed-95ad-78903c1602d7",
   "metadata": {},
   "outputs": [],
   "source": [
    "A1 = {1,2,3,4,5}\n",
    "R1 = {(1,1),(2,2),(3,3),(1,2),(2,1),(4,3),(3,4),(4,4),(5,5)}\n",
    "def aequivklasse(a,A,R):\n",
    "    return {x for x in A if TODO}\n",
    "aequivklasse(1,A1,R1)\n",
    "aequivklasse(3,A1,R1)\n",
    "aequivklasse(5,A1,R1)"
   ]
  },
  {
   "cell_type": "markdown",
   "id": "b76dcbeb-be29-4add-abdf-49f19c8f97f2",
   "metadata": {},
   "source": [
    "<div style='background-color: lightgray'><b>Theorem:</b> \n",
    "    Jede Äquivalenzrelation über einer Menge A hat die folgenden Eigenschaften: \n",
    "<ul>\n",
    "    <li>Je zwei verschiedene Äquivalenzklassen sind disjunkt.\n",
    "<li> Die Vereinigung aller Äquivalenzklassen ist gleich A.\n",
    "    </ul>\n",
    "    </div>\n",
    "Können Sie das Theorem anhand dessen, was Sie über die Graphen von Äquivalenzrelationen wissen, erklären? Für einen Beweis müssten Sie allerdings die formalen Definitionen verwenden. Auch mit Python können Sie das Theorem nicht beweisen, aber Sie können sich die Aussagen zumindest an Beispielen anschauen:"
   ]
  },
  {
   "cell_type": "code",
   "execution_count": null,
   "id": "3fd53071-06cf-455e-8285-daf0da1308fa",
   "metadata": {},
   "outputs": [],
   "source": [
    "aequivklasse(1,A1,R1) & aequivklasse(3,A1,R1)\n",
    "aequivklasse(3,A1,R1) & aequivklasse(5,A1,R1)\n",
    "aequivklasse(1,A1,R1) | aequivklasse(3,A1,R1) | aequivklasse(5,A1,R1) == A1"
   ]
  },
  {
   "cell_type": "markdown",
   "id": "5cbf315b-a9b8-42e7-8f53-895640a54a18",
   "metadata": {},
   "source": [
    "<h2>7.6 Ordnungsrelationen</h2>\n",
    "\n",
    "<div style='background-color: lightgray'><b>Definition:</b> \n",
    "    Eine Relation R auf einer Menge A heißt <i>Ordnungsrelation</i>, wenn R reflexiv, antisymmetrisch und transitiv ist.\n",
    "Eine Relation R auf einer Menge A heißt <i>strikte Ordnungsrelation</i>, wenn R asymmetrisch und transitiv ist.\n",
    "    </div>\n",
    "Für welche Gruppe in Aufwärmübung 4 trifft das zu? Wie sehen die Graphen immer aus? Was ist der Unterschied zwischen Ordnungsrelationen und strikten Ordnungsrelationen?"
   ]
  },
  {
   "cell_type": "markdown",
   "id": "2212eec2-0824-428e-9d87-763cc3729ec2",
   "metadata": {},
   "source": [
    "<h2>7.7 Operationen auf Relationen</h2>\n",
    "\n",
    "<div style='background-color: lightgray'><b>Definition:</b> \n",
    "Die Relation S $\\circ$ R ⊆ A×C mit\n",
    "<center>S $\\circ$ R = {[a, c] : a ∈ A, c ∈ C | es gibt ein b ∈ A $\\cap$ C mit [a, b] ∈ R ∧ [b, c] ∈ S}</center>\n",
    "heißt <i>Verkettung</i> oder <i>Komposition</i> der Relationen R ⊆ A × B und S ⊆ B × C.\n",
    "</div>\n",
    "Vervollständigen Sie den Python-Code so, dass verketten die Verkettung berechnet:"
   ]
  },
  {
   "cell_type": "code",
   "execution_count": null,
   "id": "725a835e-8293-4d20-b62c-54601d3996cc",
   "metadata": {},
   "outputs": [],
   "source": [
    "M1 = {1,2,3,4,5,6,7,8,9,10}\n",
    "R1 = {(4, 6), (4, 8), (4, 3), (5, 9), (5, 8), (4,4)}\n",
    "R1 <= CartProd(M1,M1)\n",
    "M2 = {5,6,7,8,9,10,11,12,13,14}\n",
    "R2 = {(9, 10), (8, 12), (9, 13), (7, 11), (5, 12), (5, 13),(13,13)}\n",
    "R2 <= CartProd(M2,M2)\n",
    "def verketten (R,S,A,C):\n",
    "    return {TODO}\n",
    "verketten (R1,R2,M1,M2)"
   ]
  },
  {
   "cell_type": "markdown",
   "id": "bee3a508-74fe-49cb-91d8-a5c6d371aec6",
   "metadata": {},
   "source": [
    "<h2>7.10 Übungsaufgaben</h2>\n",
    "\n",
    "1. Definieren Sie Beispiele für Relationen in Python für die Operationen ≤, =,≠ und 'teilt' analog zu dieser Relation:"
   ]
  },
  {
   "cell_type": "code",
   "execution_count": null,
   "id": "bc303346-7a67-4cf3-888d-dbdde45c060f",
   "metadata": {},
   "outputs": [],
   "source": [
    "{(a,b) for a in {1,2,3,4,5} for b in {1,2,3,4,5} if a < b}"
   ]
  },
  {
   "cell_type": "markdown",
   "id": "6b026ae9-bd7b-43c8-bbca-eecd9f084f59",
   "metadata": {},
   "source": [
    "2. Welche dieser Mengen sind Ordnungsrelationen oder strikte Ordnungsrelationen? In welcher Beziehung stehen Ordnungsrelation und strikte Ordnungsrelation zu einander? Ist eine ein Spezialfall der anderen? Sie können sich dafür wieder die Graphen der folgenden Beispiele <a href=\"https://upriss.github.io/educaJS/binaryRelations/binRelJS.html\" target=\"new\">auf dieser Webseite</a> ansehen:\n",
    "\n",
    "{[1,1],[7,7],[13,13]}<br>\n",
    "{[1,1],[1,7],[7,7],[7,13],[13,13]}<br>\n",
    "{[1,7],[7,9],[1,9],[9,13]}<br>\n",
    "{[1,1],[1,7],[7,9],[1,9],[9,13]}<br>\n",
    "\n"
   ]
  },
  {
   "cell_type": "code",
   "execution_count": null,
   "id": "742bcb8c-0261-407e-be81-849701206d24",
   "metadata": {},
   "outputs": [],
   "source": []
  }
 ],
 "metadata": {
  "kernelspec": {
   "display_name": "Python 3 (ipykernel)",
   "language": "python",
   "name": "python3"
  },
  "language_info": {
   "codemirror_mode": {
    "name": "ipython",
    "version": 3
   },
   "file_extension": ".py",
   "mimetype": "text/x-python",
   "name": "python",
   "nbconvert_exporter": "python",
   "pygments_lexer": "ipython3",
   "version": "3.12.6"
  }
 },
 "nbformat": 4,
 "nbformat_minor": 5
}

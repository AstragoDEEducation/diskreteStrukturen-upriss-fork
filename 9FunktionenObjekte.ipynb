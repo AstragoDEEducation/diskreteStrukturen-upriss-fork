{
 "cells": [
  {
   "cell_type": "code",
   "execution_count": null,
   "id": "8a22a3fc-4bd5-4a32-9f8a-021cdedd59e2",
   "metadata": {},
   "outputs": [],
   "source": [
    "from utils.discrstruct import *"
   ]
  },
  {
   "cell_type": "markdown",
   "id": "77eb9c1f-9123-4e67-b152-956c56749eab",
   "metadata": {},
   "source": [
    "<h3>Was ist eine Urbildmenge</h3>\n",
    "Für eine Funktion<br>\n",
    "f:D → M<br>\n",
    "x $\\mapsto$ f (x)<br>\n",
    "ist die Urbildmenge für B ⊆ M folgendermaßen definiert: {x : x ∈ D | f (x) ∈ B}\n",
    "<p></p>\n",
    "Implementieren Sie diese Definition in Python und wenden Sie sie auf eine Funktion an (zB die Funktion addiere1)."
   ]
  },
  {
   "cell_type": "code",
   "execution_count": null,
   "id": "ce0fa008-2445-472c-8df8-c390f31170cd",
   "metadata": {},
   "outputs": [],
   "source": [
    "def addiere1(a):\n",
    "     return a + 1\n",
    "\n",
    "def urbildmenge (B,D,f):\n",
    "    return {\"TODO\"}\n",
    "\n",
    "urbildmenge({4,5},range(1,11),addiere1)\n"
   ]
  },
  {
   "cell_type": "markdown",
   "id": "a235b1d6-0046-42ef-b9c8-a67718e0b6df",
   "metadata": {},
   "source": [
    "Verstehen Sie jetzt, was eine Urbildmenge ist?"
   ]
  },
  {
   "cell_type": "markdown",
   "id": "73f660c5-8d18-4df3-a4fd-1e89b83387bf",
   "metadata": {},
   "source": [
    "<h2>Funktionen als Objekte: zum Beispiel Eigenschaften von Operatoren überprüfen</h2>\n",
    "    \n",
    "Die meisten Definitionen aus dem Lehrbuch lassen sich als Python-Funktionen definieren,\n",
    "zum Beispiel die Kommutativität:"
   ]
  },
  {
   "cell_type": "code",
   "execution_count": null,
   "id": "8ea0712d-270f-4dc7-8a54-123b60fa3dd8",
   "metadata": {},
   "outputs": [],
   "source": [
    "def isKommut (setOrList,op):\n",
    "    return all (op(x,y) == op(y,x) for x in setOrList for y in setOrList)"
   ]
  },
  {
   "cell_type": "markdown",
   "id": "a5bad3c4-741c-4b8d-989c-1455dd2f165a",
   "metadata": {},
   "source": [
    "Dabei wird eine Menge (oder Tupel) übergeben und eine Operation \"op\". Sie können die Funktion isKommut dann verwenden um die Kommutativität einer Operation zu überprüfen. Dafür definieren Sie die Operation als Funktion:"
   ]
  },
  {
   "cell_type": "code",
   "execution_count": null,
   "id": "994cf4b8-f2c9-4060-9fa0-c9e1e203f016",
   "metadata": {},
   "outputs": [],
   "source": [
    "def plus (a,b):\n",
    "    return a + b\n",
    "\n",
    "def und (a,b):\n",
    "    return a and b  "
   ]
  },
  {
   "cell_type": "markdown",
   "id": "58138035-0cf5-4294-81f7-8e9ab4fa811f",
   "metadata": {},
   "source": [
    "Dann können Sie die Eigenschaft für eine Menge und eine Operation überprüfen:"
   ]
  },
  {
   "cell_type": "code",
   "execution_count": null,
   "id": "7ecd788b-aa55-4550-89c2-d3f3a399a98f",
   "metadata": {},
   "outputs": [],
   "source": [
    "isKommut(range(0,101),plus)\n",
    "isKommut({True, False},und)"
   ]
  },
  {
   "cell_type": "markdown",
   "id": "9dcd5707-bb43-4091-aad5-f448a7548cea",
   "metadata": {},
   "source": [
    "Implementieren sie die Operationen \"minus\" und \"oder\" als Funktionen und überprüfen Sie die Kommutativität für geeignete Mengen: "
   ]
  },
  {
   "cell_type": "code",
   "execution_count": null,
   "id": "3eb7354c-21f3-4fd5-9f10-5b91f0433a65",
   "metadata": {},
   "outputs": [],
   "source": []
  },
  {
   "cell_type": "markdown",
   "id": "31f2b221-c68b-4bf4-b5db-8921437ab57c",
   "metadata": {},
   "source": [
    "Implementieren Sie eine Funktion, die die Assoziativität überprüft."
   ]
  },
  {
   "cell_type": "code",
   "execution_count": null,
   "id": "175d58d1-2dc1-42fd-9ea7-0f67dbfdf45d",
   "metadata": {},
   "outputs": [],
   "source": []
  }
 ],
 "metadata": {
  "kernelspec": {
   "display_name": "Python 3 (ipykernel)",
   "language": "python",
   "name": "python3"
  },
  "language_info": {
   "codemirror_mode": {
    "name": "ipython",
    "version": 3
   },
   "file_extension": ".py",
   "mimetype": "text/x-python",
   "name": "python",
   "nbconvert_exporter": "python",
   "pygments_lexer": "ipython3",
   "version": "3.10.8"
  }
 },
 "nbformat": 4,
 "nbformat_minor": 5
}

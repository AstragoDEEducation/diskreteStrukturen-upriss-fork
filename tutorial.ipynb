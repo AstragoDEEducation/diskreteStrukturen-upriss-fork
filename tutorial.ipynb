{
 "cells": [
  {
   "cell_type": "code",
   "execution_count": 1,
   "id": "133e0511-d479-4ff0-9cb8-75550097879d",
   "metadata": {},
   "outputs": [
    {
     "data": {
      "text/html": [
       "<script type=\"text/javascript\">\n",
       "function ueberpruefen(property) {\n",
       "var solutions = \n",
       "{'kapitel2_1_0': 'RGllIEZsYXNjaGUgaXN0IG5pY2h0IHZvbGwu', 'kapitel2_1_1': 'RGllIEhvc2UgaXN0IG5pY2h0IHNjaHdhcnou', 'kapitel2_2_0': 'RXIgbWFnIGtlaW5lbiBTY2huYXBzIG9kZXIgZXIgbWFnIFNla3Qu', 'kapitel2_2_1': 'U2llIHRhbnp0IG5pY2h0IG9kZXIgZsOkaHJ0IG5pY2h0IFJhZC4=', 'kapitel2_3_0': 'SmE=', 'kapitel2_3_1': 'SmE=', 'kapitel2_3_2': 'SmE=', 'kapitel2_3_3': 'TmVpbg==', 'kapitel2_3_4': 'SmE=', 'kapitel2_3_5': 'TmVpbg==', 'kapitel2_3_6': 'SmE=', 'kapitel2_3_7': 'TmVpbg==', 'kapitel2_4_0': 'QXVzc2FnZWZvcm0=', 'kapitel2_4_1': 'QXVzc2FnZWZvcm0=', 'kapitel2_4_2': 'QXVzc2FnZWZvcm0=', 'kapitel2_4_3': 'V2VkZXIgQXVzc2FnZSBub2NoIEF1c3NhZ2Vmb3Jt', 'kapitel2_4_4': 'QXVzc2FnZQ==', 'kapitel2_4_5': 'QXVzc2FnZQ==', 'kapitel2_4_6': 'V2VkZXIgQXVzc2FnZSBub2NoIEF1c3NhZ2Vmb3Jt', 'kapitel2_4_7': 'QXVzc2FnZQ==', 'kapitel2_5_0': 'ZW50d2VkZXItb2Rlcg==', 'kapitel2_5_1': 'ZW50d2VkZXItb2Rlcg==', 'kapitel2_5_2': 'bG9naXNjaGVzIG9kZXI=', 'kapitel2_5_3': 'ZW50d2VkZXItb2Rlcg==', 'kapitel2_6_0': 'd2Focg==', 'kapitel2_6_1': 'ZmFsc2No', 'kapitel2_6_2': 'd2Focg==', 'kapitel2_6_3': 'ZmFsc2No', 'kapitel2_7_0': 'QXVmesOkaGx1bmcgdm9uIEdlZ2Vuc3TDpG5kZW4=', 'kapitel2_7_1': 'bG9naXNjaGUgS29uanVua3Rpb24=', 'kapitel2_7_2': 'bG9naXNjaGUgS29uanVua3Rpb24=', 'kapitel2_7_3': 'QXVmesOkaGx1bmcgdm9uIEdlZ2Vuc3TDpG5kZW4=', 'kapitel3_1_0': 'RGVmaW5pdGlvbg==', 'kapitel3_1_1': 'VGhlb3JlbQ==', 'kapitel3_1_2': 'RGVmaW5pdGlvbg==', 'kapitel3_1_3': 'VGhlb3JlbQ==', 'kapitel3_1_4': 'RGVmaW5pdGlvbg==', 'kapitel3_1_5': 'VGhlb3JlbQ==', 'kapitel3_2_0': 'QSDihpIgQg==', 'kapitel3_2_1': 'QSDihpAgQg==', 'kapitel3_2_2': 'QSDih5IgQg==', 'kapitel3_2_3': 'QSDih5IgQg==', 'kapitel3_2_4': 'QSDihpAgQg==', 'kapitel3_2_5': 'QSDih5QgQg==', 'kapitel3_3_0': 'a29tbXV0YXRpdg==', 'kapitel3_3_1': 'bmljaHQga29tbXV0YXRpdg==', 'kapitel3_3_2': 'bmljaHQga29tbXV0YXRpdg==', 'kapitel3_3_3': 'bmljaHQga29tbXV0YXRpdg==', 'kapitel3_4_0': 'bmV1dHJhbGVzIEVsZW1lbnQ=', 'kapitel3_4_1': 'a2VpbiBuZXV0cmFsZXMgRWxlbWVudA==', 'kapitel3_4_2': 'a2VpbiBuZXV0cmFsZXMgRWxlbWVudA==', 'kapitel3_4_3': 'bmV1dHJhbGVzIEVsZW1lbnQ=', 'kapitel3_4_4': 'bmV1dHJhbGVzIEVsZW1lbnQ=', 'kapitel3_4_5': 'a2VpbiBuZXV0cmFsZXMgRWxlbWVudA==', 'kapitel3_4_6': 'a2VpbiBuZXV0cmFsZXMgRWxlbWVudA==', 'kapitel3_4_7': 'bmV1dHJhbGVzIEVsZW1lbnQ='}\n",
       "\n",
       "   form_elements = document.querySelector(\"#\"+property).elements;\n",
       "   for (i = 0; i < form_elements.length ;i++) {\n",
       "      var answer = \"<font size=5 color='red'>&#10007;</font>\";\n",
       "      if (typeof solutions[form_elements[i].id] !== 'undefined') {\n",
       "         if (form_elements[i].value == \n",
       "             decodeURIComponent(escape(atob(solutions[form_elements[i].id] )))) {\n",
       "             answer = \"<font size=5 color='green'>&#10003;</font>\";\n",
       "         }\n",
       "      document.querySelector(\"#\" + form_elements[i].id + \"_ans\").innerHTML=answer;\n",
       "      }\n",
       "   }\n",
       "}\n",
       "</script>"
      ],
      "text/plain": [
       "<IPython.core.display.HTML object>"
      ]
     },
     "metadata": {},
     "output_type": "display_data"
    }
   ],
   "source": [
    "from utils.discrstruct import *"
   ]
  },
  {
   "cell_type": "markdown",
   "id": "a2f6e503-30bf-44c4-b18e-62c9299a921f",
   "metadata": {
    "tags": []
   },
   "source": [
    "<h1>Python Tutorial (für Diskrete Strukturen)</h1>\n",
    "\n",
    "Diese Übungen sind als Jupyter-Notebook erstellt. Die Felder, bei denen links <b>[..]:</b> steht, können Sie ausführen. Klicken Sie dazu in das Feld und dann <b>SHIFT-ENTER</b> oder auf den Run-Knopf (&#9658;). Das allererste Feld jedes Notebooks lädt Definitionen und Bibliotheken, die benötigt werden. Sie müssen das jedes Mal ausführen, wenn Sie ein Notebook verwenden. Führen Sie jetzt das erste Feld oben aus.\n",
    "\n",
    "Sie können die Notebooks auch selber editieren, Notizen hinzufügen usw. Wenn Sie versehentlich ein Feld löschen, gibt es ein Undo unter Edit. Eventuell empfiehlt es sich, dass Sie ein Notebook erst duplizieren (per Rechtsklick), bevor Sie es editieren, damit Sie die ursprüngliche Version auch noch haben. Per Download können Sie einzelne Notebooks auch auf Ihrem eigenen Rechner sichern.\n",
    "\n",
    "<b>Falls Sie etwas eingeben, das einen Fehler erzeugt, so dass das Notebook anschließend nicht mehr reagiert, klicken Sie auf Kernel - Interrupt Kernel</b>"
   ]
  },
  {
   "cell_type": "markdown",
   "id": "ceba26be-fc55-4fe0-b664-c20c11958eb0",
   "metadata": {
    "tags": []
   },
   "source": [
    "Nach jedem Abschnitt finden Sie einige Beispiele zum Ausprobieren. Python wird in diesem Kurs verwendet um mathematische Inhalte mit einem Computer zu überprüfen. Sie müssen aber nichts über Python wissen."
   ]
  },
  {
   "cell_type": "markdown",
   "id": "88d2c19b-a5c6-4288-8266-89c3423e8bec",
   "metadata": {
    "tags": []
   },
   "source": [
    "<h1>Tutorial Teil 1</h1>\n",
    "\n",
    "Sie können Python größtenteils wie einen Taschenrechner verwenden:"
   ]
  },
  {
   "cell_type": "code",
   "execution_count": 2,
   "id": "fe0d078e-2011-43ba-b8d3-961e1736a589",
   "metadata": {},
   "outputs": [
    {
     "data": {
      "text/plain": [
       "12"
      ]
     },
     "execution_count": 2,
     "metadata": {},
     "output_type": "execute_result"
    },
    {
     "data": {
      "text/plain": [
       "15"
      ]
     },
     "execution_count": 2,
     "metadata": {},
     "output_type": "execute_result"
    }
   ],
   "source": [
    "5 + 7\n",
    "18 - 3"
   ]
  },
  {
   "cell_type": "markdown",
   "id": "3301f1d5-ce99-4f64-8698-427603c5e60e",
   "metadata": {},
   "source": [
    "<h2>1.1 Zuweisung und Variable</h2>\n",
    "\n",
    "Variablen dienen dazu bestimmte Werte oder Ergebnisse aus Berechnungen für die spätere Verwendung zu speichern. Zum Beispiel speichert <i>a = 5</i> den Wert 5 in der Variablen a. Variablennamen in Python beginnen immer mit einem Buchstaben oder einem Unterstrich, auf den Buchstaben, Zahlen oder Unterstriche folgen können. Das nächste Feld speichert Variablen, aber gibt nichts aus."
   ]
  },
  {
   "cell_type": "code",
   "execution_count": 3,
   "id": "d1da8742-6d76-49a0-a9ee-64ee87d2ebf7",
   "metadata": {},
   "outputs": [],
   "source": [
    "a = 25;\n",
    "b = a - 20;\n",
    "c = 5/7;\n",
    "C = b - a;\n",
    "text_1 = \"Hello World\";"
   ]
  },
  {
   "cell_type": "markdown",
   "id": "14ef8886-0a02-45fc-bc2b-3921c48c8c5d",
   "metadata": {},
   "source": [
    "Um sich den Wert einer Variablen anzuschauen, schreiben Sie die Variable einzeln in eine Zeile:"
   ]
  },
  {
   "cell_type": "code",
   "execution_count": 4,
   "id": "712dadad-d494-49ef-a4c7-a0b71bf26fa5",
   "metadata": {},
   "outputs": [
    {
     "data": {
      "text/plain": [
       "25"
      ]
     },
     "execution_count": 4,
     "metadata": {},
     "output_type": "execute_result"
    },
    {
     "data": {
      "text/plain": [
       "5"
      ]
     },
     "execution_count": 4,
     "metadata": {},
     "output_type": "execute_result"
    },
    {
     "data": {
      "text/plain": [
       "0.7142857142857143"
      ]
     },
     "execution_count": 4,
     "metadata": {},
     "output_type": "execute_result"
    },
    {
     "data": {
      "text/plain": [
       "-20"
      ]
     },
     "execution_count": 4,
     "metadata": {},
     "output_type": "execute_result"
    },
    {
     "data": {
      "text/plain": [
       "'Hello World'"
      ]
     },
     "execution_count": 4,
     "metadata": {},
     "output_type": "execute_result"
    }
   ],
   "source": [
    "a\n",
    "b\n",
    "c\n",
    "C\n",
    "text_1"
   ]
  },
  {
   "cell_type": "markdown",
   "id": "77abe95f-a7f2-4050-b8f3-5e0f90c6fc6e",
   "metadata": {},
   "source": [
    "Wie Sie sehen, gelten die Variablen nicht nur für ein Feld, sondern auch für die folgenden Felder."
   ]
  },
  {
   "cell_type": "markdown",
   "id": "cc0106f2-80bf-4b99-a5e1-a145df9c7928",
   "metadata": {},
   "source": [
    "<h2>1.2 Arithmetische Operatoren</h2>\n",
    "\n",
    "Python stellt die folgenden arithmetischen Operatoren bereit: \n",
    "\n",
    "<table cellpadding=\"5\" border=\"1\">\n",
    "    <tbody>\n",
    "        <tr>\n",
    "            <td class=\"code\">+</td>\n",
    "            <td>Addition</td>\n",
    "        </tr>\n",
    "        <tr>\n",
    "            <td class=\"code\">-</td>\n",
    "            <td>Subtraktion</td>\n",
    "        </tr>\n",
    "        <tr>\n",
    "            <td class=\"code\">*</td>\n",
    "            <td>Multiplikation</td>\n",
    "        </tr>\n",
    "        <tr>\n",
    "            <td class=\"code\">**</td>\n",
    "            <td>Potenz</td>\n",
    "        </tr>\n",
    "        <tr>\n",
    "            <td class=\"code\">/</td>\n",
    "            <td>Division</td>\n",
    "        </tr>\n",
    "        <tr>\n",
    "            <td class=\"code\">//</td>\n",
    "            <td>ganzzahlige Division</td>\n",
    "        </tr>\n",
    "        <tr>\n",
    "            <td class=\"code\">%</td>\n",
    "            <td>Modulus</td>\n",
    "        </tr>\n",
    "    </tbody>\n",
    "</table>\n",
    "\n",
    "Probieren Sie diese Operatoren aus. Hier einige Anregungen: "
   ]
  },
  {
   "cell_type": "code",
   "execution_count": 5,
   "id": "e9e794a9-5355-4733-9e32-39afbede8ae5",
   "metadata": {},
   "outputs": [
    {
     "data": {
      "text/plain": [
       "8"
      ]
     },
     "execution_count": 5,
     "metadata": {},
     "output_type": "execute_result"
    },
    {
     "data": {
      "text/plain": [
       "45"
      ]
     },
     "execution_count": 5,
     "metadata": {},
     "output_type": "execute_result"
    },
    {
     "data": {
      "text/plain": [
       "1.4333333333333333"
      ]
     },
     "execution_count": 5,
     "metadata": {},
     "output_type": "execute_result"
    },
    {
     "data": {
      "text/plain": [
       "0"
      ]
     },
     "execution_count": 5,
     "metadata": {},
     "output_type": "execute_result"
    }
   ],
   "source": [
    "3 + 5\n",
    "3*5 + 5*6\n",
    "3/5 + 5/6\n",
    "3//5 + 5//6"
   ]
  },
  {
   "cell_type": "markdown",
   "id": "4aaf20cf-c701-480f-b882-807676165f44",
   "metadata": {},
   "source": [
    "Modulo:"
   ]
  },
  {
   "cell_type": "code",
   "execution_count": 6,
   "id": "1859d650-f2b1-41a7-bf7c-6b9d2ded3ab5",
   "metadata": {},
   "outputs": [
    {
     "data": {
      "text/plain": [
       "1"
      ]
     },
     "execution_count": 6,
     "metadata": {},
     "output_type": "execute_result"
    },
    {
     "data": {
      "text/plain": [
       "8"
      ]
     },
     "execution_count": 6,
     "metadata": {},
     "output_type": "execute_result"
    }
   ],
   "source": [
    "17 % 8\n",
    "3%5 + 5%6"
   ]
  },
  {
   "cell_type": "markdown",
   "id": "ca6e8c70-9634-4d6d-9c77-261bcbef7c75",
   "metadata": {},
   "source": [
    "Potenzen:"
   ]
  },
  {
   "cell_type": "code",
   "execution_count": 7,
   "id": "ce51a93f-fcda-4513-9519-1de3cd1e7ea0",
   "metadata": {},
   "outputs": [
    {
     "data": {
      "text/plain": [
       "256"
      ]
     },
     "execution_count": 7,
     "metadata": {},
     "output_type": "execute_result"
    },
    {
     "data": {
      "text/plain": [
       "2417851639229258349412352"
      ]
     },
     "execution_count": 7,
     "metadata": {},
     "output_type": "execute_result"
    },
    {
     "data": {
      "text/plain": [
       "98"
      ]
     },
     "execution_count": 7,
     "metadata": {},
     "output_type": "execute_result"
    }
   ],
   "source": [
    "2**8\n",
    "2**3**4\n",
    "2*(3+4)**2"
   ]
  },
  {
   "cell_type": "markdown",
   "id": "1c2cc0ad-4998-4b0e-9444-56bca2b83c1b",
   "metadata": {
    "tags": []
   },
   "source": [
    "<h3>Aufgabe: Ganzzahlige Division</h3>\n",
    "45 soll ganzzahlig durch 6 geteilt werden. Welchen der Operatoren /, // oder % brauchen Sie dafür? Was ist der Unterschied zwischen den 3 Operatoren? Probieren Sie es aus:\n"
   ]
  },
  {
   "cell_type": "code",
   "execution_count": 8,
   "id": "64d7bbcb-0d4a-4a03-9c19-a7317f63199d",
   "metadata": {},
   "outputs": [
    {
     "data": {
      "text/plain": [
       "7"
      ]
     },
     "execution_count": 8,
     "metadata": {},
     "output_type": "execute_result"
    }
   ],
   "source": [
    "# Eine ganzzahlige Division wird mit dem // Operator durchgeführt\n",
    "45 // 6"
   ]
  },
  {
   "cell_type": "markdown",
   "id": "9918ac96-3450-4378-80da-9a889f25e911",
   "metadata": {},
   "source": [
    "<h2>1.3 Vergleichsoperatoren</h2>\n",
    "Werte können verglichen werden, z.B. \"$2^3$ ist kleiner als $3^2$\" oder \"47 + 11 ist gleich  29 * 2\". Um derartige Aussagen in Python formulieren zu können, stehen folgende Operatoren zur Verfügung:\n",
    "\n",
    "<table cellpadding=\"5\" border=\"1\">\n",
    "    <tbody>\n",
    "        <tr>\n",
    "            <td class=\"code\">==</td>\n",
    "            <td>Gleich<br></td>\n",
    "        </tr>\n",
    "        <tr>\n",
    "            <td class=\"code\">!=</td>\n",
    "            <td>Ungleich</td>\n",
    "        </tr>\n",
    "        <tr>\n",
    "            <td class=\"code\">&gt;</td>\n",
    "            <td>Größer</td>\n",
    "        </tr>\n",
    "        <tr>\n",
    "            <td class=\"code\">&gt;=</td>\n",
    "            <td>Größer gleich</td>\n",
    "        </tr>\n",
    "        <tr>\n",
    "            <td class=\"code\">&lt;</td>\n",
    "            <td>Kleiner</td>\n",
    "        </tr>\n",
    "        <tr>\n",
    "            <td class=\"code\">&lt;=</td>\n",
    "            <td>Kleiner gleich</td>\n",
    "        </tr>\n",
    "    </tbody>\n",
    "</table>\n",
    "\n",
    "Diese Operatoren liefern als Ergebnis immer einen Wahrheitswert, also entweder <span class=\"code\">True</span> oder <span class=\"code\">False</span>."
   ]
  },
  {
   "cell_type": "code",
   "execution_count": 9,
   "id": "178399b5-68c6-4298-8ec9-6cd1a2faeb60",
   "metadata": {},
   "outputs": [
    {
     "data": {
      "text/plain": [
       "True"
      ]
     },
     "execution_count": 9,
     "metadata": {},
     "output_type": "execute_result"
    },
    {
     "data": {
      "text/plain": [
       "True"
      ]
     },
     "execution_count": 9,
     "metadata": {},
     "output_type": "execute_result"
    },
    {
     "data": {
      "text/plain": [
       "True"
      ]
     },
     "execution_count": 9,
     "metadata": {},
     "output_type": "execute_result"
    },
    {
     "data": {
      "text/plain": [
       "False"
      ]
     },
     "execution_count": 9,
     "metadata": {},
     "output_type": "execute_result"
    }
   ],
   "source": [
    "2**3 < 3**2\n",
    "47 + 11 == 58\n",
    "47 + 11 == 29 * 2\n",
    "47 + 11 == 4711"
   ]
  },
  {
   "cell_type": "markdown",
   "id": "49fba537-cfc6-4445-8699-dfe1e69f59b7",
   "metadata": {},
   "source": [
    "<h2>1.4 Klammern sind wichtig</h2>"
   ]
  },
  {
   "cell_type": "markdown",
   "id": "7e162d63-8ca4-46a3-812b-db5f2b126c19",
   "metadata": {},
   "source": [
    "Überlegen Sie sich zunächst, was das Ergebnis sein wird, und probieren Sie es dann aus:"
   ]
  },
  {
   "cell_type": "code",
   "execution_count": 10,
   "id": "e7b8d595-652a-4ca1-a6f1-f7ffa506ffcb",
   "metadata": {},
   "outputs": [
    {
     "data": {
      "text/plain": [
       "11"
      ]
     },
     "execution_count": 10,
     "metadata": {},
     "output_type": "execute_result"
    },
    {
     "data": {
      "text/plain": [
       "11"
      ]
     },
     "execution_count": 10,
     "metadata": {},
     "output_type": "execute_result"
    },
    {
     "data": {
      "text/plain": [
       "21"
      ]
     },
     "execution_count": 10,
     "metadata": {},
     "output_type": "execute_result"
    },
    {
     "data": {
      "text/plain": [
       "9"
      ]
     },
     "execution_count": 10,
     "metadata": {},
     "output_type": "execute_result"
    },
    {
     "data": {
      "text/plain": [
       "16"
      ]
     },
     "execution_count": 10,
     "metadata": {},
     "output_type": "execute_result"
    }
   ],
   "source": [
    "1 + 2 * 3 + 4\n",
    "1 + (2 * 3) + 4\n",
    "(1 + 2) * (3 + 4)\n",
    "2**3 + 1\n",
    "2**(3 + 1)"
   ]
  },
  {
   "cell_type": "markdown",
   "id": "fd6111ec-c948-4e67-bde5-605d9413a376",
   "metadata": {},
   "source": [
    "<h2>1.5 Funktionen</h2>\n",
    "\n",
    "Auch Funktionen lassen sich in Python programmieren. (Wenn Sie nicht wissen, was Funktionen sind, können Sie sich diesen Abschnitt auch später ansehen, nachdem Funktionen behandelt wurden.) Eine Funktion, die zu jedem Element einer Menge 1 hinzuaddiert, könnte beispielsweise so aussehen: "
   ]
  },
  {
   "cell_type": "code",
   "execution_count": 11,
   "id": "3b6038ab-8965-4e86-bb27-255746a32955",
   "metadata": {},
   "outputs": [
    {
     "data": {
      "text/plain": [
       "43"
      ]
     },
     "execution_count": 11,
     "metadata": {},
     "output_type": "execute_result"
    }
   ],
   "source": [
    "def addiere1(a):\n",
    "     return a + 1\n",
    "addiere1(42)"
   ]
  },
  {
   "cell_type": "markdown",
   "id": "01b2cb46-7e9e-41ea-a455-534ed917e008",
   "metadata": {},
   "source": [
    "Schreiben Sie entsprechend eine Funktion <i> subtrahiere1</i>"
   ]
  },
  {
   "cell_type": "code",
   "execution_count": 12,
   "id": "09b15994-7744-48b0-945f-afdc88eb515a",
   "metadata": {},
   "outputs": [
    {
     "data": {
      "text/plain": [
       "41"
      ]
     },
     "execution_count": 12,
     "metadata": {},
     "output_type": "execute_result"
    }
   ],
   "source": [
    "def subtrahiere1(a):\n",
    "    return a -1\n",
    "subtrahiere1(42)"
   ]
  },
  {
   "cell_type": "markdown",
   "id": "e9b0c1f4-1a90-4589-8a34-c2990eb2dbe6",
   "metadata": {},
   "source": [
    "Hinweis: Eine Funktion muss immer mit passenden Parametern aufgerufen werden! Die Eingabe von zwei Parametern führt in diesem Beispiel zu einer Fehlermeldung."
   ]
  },
  {
   "cell_type": "code",
   "execution_count": 13,
   "id": "88df0a4f-fb0f-4c73-8417-32ea956d9b05",
   "metadata": {},
   "outputs": [
    {
     "ename": "TypeError",
     "evalue": "addiere1() takes 1 positional argument but 2 were given",
     "output_type": "error",
     "traceback": [
      "\u001b[1;31m---------------------------------------------------------------------------\u001b[0m",
      "\u001b[1;31mTypeError\u001b[0m                                 Traceback (most recent call last)",
      "Cell \u001b[1;32mIn[13], line 1\u001b[0m\n\u001b[1;32m----> 1\u001b[0m \u001b[43maddiere1\u001b[49m\u001b[43m(\u001b[49m\u001b[38;5;241;43m2\u001b[39;49m\u001b[43m,\u001b[49m\u001b[38;5;241;43m3\u001b[39;49m\u001b[43m)\u001b[49m\n",
      "\u001b[1;31mTypeError\u001b[0m: addiere1() takes 1 positional argument but 2 were given"
     ]
    }
   ],
   "source": [
    "addiere1(2,3)"
   ]
  },
  {
   "cell_type": "markdown",
   "id": "a80b4dd3-e862-4960-ab13-5c541c37e88c",
   "metadata": {},
   "source": [
    "<h2>1.6 Übungsaufgaben</h2>\n",
    "\n",
    "1) Schreiben Sie eine Formel für diese Berechnung: \n",
    "\n",
    "Addieren Sie 3 zu einer Zahl. Multiplizieren Sie mit 2. Ziehen Sie 4 ab. Ziehen Sie zweimal die ursprüngliche Zahl ab. Addieren Sie 3.\n",
    "\n",
    "Tipp: das Ergebnis muss immer 5 sein.\n",
    "\n",
    "2) Was passiert, wenn Sie den Modulus von negativen Zahlen berechnen? Können Sie sich die Werte erklären?\n",
    "\n",
    "3) Schreiben Sie (auf Papier) eine Formel, die eine Zahl als Summe einer ganzzahligen Division multipliziert mit dem Teiler + Rest darstellt. Überprüfen Sie Ihre Formel dann mit Python.\n",
    "\n",
    "4) Schreiben Sie eine Funktion, die die Formel aus 1) berechnet und überprüfen Sie damit das Ergebnis für verschiedene Werte.\n",
    "\n",
    "5) Schreiben Sie eine Funktion, die den Durchschnitt aus 5 Zahlen berechnet.\n",
    "\n",
    "6) Schreiben Sie eine Funktion, die Prozent berechnet. Z.B <i>prozent(5,80)</i> soll 5% von 80 berechnen."
   ]
  },
  {
   "cell_type": "code",
   "execution_count": null,
   "id": "afb6087f-d920-446d-8559-abb349a2089a",
   "metadata": {},
   "outputs": [],
   "source": [
    "def magische_5(a):\n",
    "    return ((((a+3)*2)-4)-2*a)+3\n",
    "\n",
    "def magische_5_test(n):\n",
    "    for i in range(n):\n",
    "        result = magische_5(i)\n",
    "        print(f\"Test: a={i} ==> {result}\")\n",
    "\n",
    "magische_5_test(8)"
   ]
  },
  {
   "cell_type": "markdown",
   "id": "bc0fe638-7a69-46bd-9424-31d1632a7283",
   "metadata": {
    "tags": []
   },
   "source": [
    "<h1>Teil 2: Logik</h1>\n",
    "\n",
    "Dieser Teil des Tutorials gehört zu Kapitel 2 des Lehrbuchs."
   ]
  },
  {
   "cell_type": "markdown",
   "id": "9f45f3e2-f5af-4948-9c1e-c819fc5832f0",
   "metadata": {},
   "source": [
    "<h2>2.1 Aussagenlogische Operatoren</h2>\n",
    "\n",
    "In Python stehen die aussagenlogischen Operatoren <b>and</b>, <b>or</b> und <b>not</b> zur Verfügung. Der Operator \"-s>>\" (für \"$\\rightarrow$\") funktioniert nur in diesem Kurs. Das mathematische \"$\\leftrightarrow$\" und das mathematische \"$=$\" werden in Python nicht unterschieden und beide durch \"==\" dargestellt.</p>\n",
    "<table cellpadding=\"5\" border=\"1\">\n",
    "    <tbody>\n",
    "        <tr>\n",
    "            <td>not</td>\n",
    "            <td>Negation, $\\lnot$ </td>\n",
    "        </tr>\n",
    "        <tr>\n",
    "            <td>and</td>\n",
    "            <td>Konjunktion, $\\land$</td>\n",
    "        </tr>\n",
    "        <tr>\n",
    "            <td>or</td>\n",
    "            <td>Disjunktion, $\\lor$ </td>\n",
    "        </tr>\n",
    "        <tr>\n",
    "            <td>-s>> (oder &lt;=)</td>\n",
    "            <td>Subjunktion, $\\rightarrow$ (\"Wenn ..., dann ...\")</td>\n",
    "        </tr>\n",
    "        <tr>\n",
    "            <td>==</td>\n",
    "            <td>Bijunktion, $\\leftrightarrow$ (\"... genau dann, wenn ...\")</td>\n",
    "        </tr>\n",
    "    </tbody>\n",
    "</table>\n",
    "\n",
    "Diese Operatoren sind für Elemente von Zahlenmengen nicht definiert, stattdessen erwarten sie Wahrheitswerte (True oder False)."
   ]
  },
  {
   "cell_type": "code",
   "execution_count": null,
   "id": "6a9b997d-42e9-4d9c-bbc3-9e0a892d1511",
   "metadata": {},
   "outputs": [],
   "source": [
    "True and False\n",
    "True or not False\n",
    "True and (True or False)\n",
    "not(True and False)"
   ]
  },
  {
   "cell_type": "code",
   "execution_count": null,
   "id": "bba0d222-a3ce-4ea7-b5b9-a936a7df37c9",
   "metadata": {},
   "outputs": [],
   "source": [
    "True -s>> False\n",
    "True == False\n",
    "# Eine falsche Aussage als bedingung erlaubt die Wahrheit aller Aussagen\n",
    "(5 < 4) -s>> (4 < 5)\n",
    "(5 < 4) == (3 == 4)"
   ]
  },
  {
   "cell_type": "markdown",
   "id": "89b9875a-d190-4c44-a30e-fbd61b97b46d",
   "metadata": {
    "tags": []
   },
   "source": [
    "<h1>Teil 3: Mengen </h1>\n",
    "\n",
    "Dieser Teil des Tutorials gehört zu Kapitel 5 des Lehrbuchs. Mengen werden in Python mit <b>{...}</b> definiert."
   ]
  },
  {
   "cell_type": "code",
   "execution_count": null,
   "id": "9124b1b1-de08-45c7-8c72-f2214aa2b478",
   "metadata": {},
   "outputs": [],
   "source": [
    "{1,2}\n",
    "{2, 3, \"a\"}\n",
    "{1,2,7}"
   ]
  },
  {
   "cell_type": "markdown",
   "id": "75eda9f1-670a-4862-8254-f7b108efe43c",
   "metadata": {},
   "source": [
    "<h2>3.1 Mengenoperatoren</h2>\n",
    "\n",
    "<table cellpadding=\"5\" border=\"1\">\n",
    "        <tr>\n",
    "            <td>in</td>\n",
    "            <td>Element in Menge</td></tr>\n",
    "        <tr>\n",
    "            <td>|</td>\n",
    "            <td>Vereinigung</td></tr>\n",
    "        <tr>\n",
    "            <td>&</td>\n",
    "            <td>Schnittmenge</td></tr>\n",
    "        <tr>\n",
    "            <td>-</td>\n",
    "            <td>Differenz</td></tr>\n",
    "        <tr>\n",
    "            <td>len(...)</td>\n",
    "            <td>Kardinalität (Anzahl der Elemente)</td></tr>\n",
    "        <tr>\n",
    "            <td>==</td>\n",
    "            <td>Gleich</td></tr>\n",
    "        <tr>\n",
    "            <td>!=</td>\n",
    "            <td>Ungleich</td></tr>\n",
    "        <tr>\n",
    "            <td>&lt;=</td>\n",
    "            <td>Teilmenge (auch &gt;= für Obermenge)</td></tr>\n",
    "        <tr>\n",
    "            <td>&lt;</td>\n",
    "            <td>echte Teilmenge (auch &gt; für echte Obermenge)</td></tr>\n",
    "         <tr>\n",
    "            <td>CartProd(...,...)</td>\n",
    "            <td>kartesisches Produkt</td></tr>\n",
    "         <tr>\n",
    "            <td>PowerSet(...)</td>\n",
    "            <td>Potenzmenge</td></tr>\n",
    "    \n",
    "</table>\n",
    "(CartProd und PowerSet funktionieren nur in diesem Kurs und nicht generell in Python.)"
   ]
  },
  {
   "cell_type": "code",
   "execution_count": null,
   "id": "288ac427-d109-4026-8e98-24d5f7262525",
   "metadata": {},
   "outputs": [],
   "source": [
    "A = {1,2}\n",
    "B = {2, 3, \"a\"}\n",
    "3 in A\n",
    "3 in B\n",
    "A | B\n",
    "A & B\n",
    "A - B"
   ]
  },
  {
   "cell_type": "code",
   "execution_count": null,
   "id": "69b32ebc-806a-46ca-a8bf-d270c133a383",
   "metadata": {},
   "outputs": [],
   "source": [
    "C = {1,2,7}\n",
    "len(C)\n",
    "A <= C\n",
    "A != B\n",
    "CartProd(A,C)"
   ]
  },
  {
   "cell_type": "markdown",
   "id": "77d006ba-4712-40fe-824e-3307835e1ea7",
   "metadata": {},
   "source": [
    "Es gibt aber ein paar Besonderheiten: In Python können Mengen nur dann verschachtelt werden, wenn die inneren Mengen als \"frozenset()\" deklariert werden. In diesem Kurs kann das auch durch \"fs()\" abgekürzt werden. \n",
    "\n",
    "Außerdem zeigt Python manchmal nur eine Formel anstatt den Elementen der Menge an. Dann kann man\n",
    "<b>set()</b> verwenden, um die Elemente angezeigt zu bekommen."
   ]
  },
  {
   "cell_type": "code",
   "execution_count": null,
   "id": "d585a816-c171-4295-a6ff-1fe75e08bbdf",
   "metadata": {},
   "outputs": [],
   "source": [
    "{3, frozenset({4})}\n",
    "{3, fs({4})}\n",
    "PowerSet(A)\n",
    "A\n",
    "set(A)"
   ]
  },
  {
   "cell_type": "markdown",
   "id": "1af9ef21-361d-41b0-b1f8-c0688efd8368",
   "metadata": {},
   "source": [
    "<h2>3.2 Listen</h2>\n",
    "\n",
    "Im Unterschied zur Mathematik werden in Programmiersprachen eher Listen anstatt Mengen verwendet, da Listen eine festgelegte Reihenfolge der Elemente haben, Mengen aber nicht. Listen werden in Python mit eckigen \n",
    "oder runden Klammern geschrieben (zB. [1,2,3] oder (3,40,5,10)). In der Mathematik werden Listen meist mit runden Klammern geschrieben, im Lehrbuch aber mit eckigen Klammern. Listen aufeinanderfolgender Zahlen können mit <b>list(range(...))</b> erzeugt werden. Mengen können mit <b>list(...)</b> in Listen umgewandelt werden. "
   ]
  },
  {
   "cell_type": "code",
   "execution_count": null,
   "id": "f60c45c6-70a1-4031-bd21-77368b57f509",
   "metadata": {},
   "outputs": [],
   "source": [
    "[0, 1, 2, 3, 4, 5, 6, 7, 8]\n",
    "(1,2,3)\n",
    "(1,{2},(3,4))       # Listen und Mengen können verschachtelt werden\n",
    "list(range(0,9))    # Eine Liste der Zahlen von 0 bis 9-1\n",
    "{3,4}\n",
    "list({3,4})"
   ]
  },
  {
   "cell_type": "markdown",
   "id": "65b9999b-df9b-4fe5-b4c1-23da996aa277",
   "metadata": {},
   "source": [
    "Listen können auch in Mengen umgewandelt werden. Dafür wird die Schreibweise <b>set()</b> verwendet."
   ]
  },
  {
   "cell_type": "code",
   "execution_count": null,
   "id": "4c1d0092-557f-4fb5-b8d2-b32e529f310b",
   "metadata": {},
   "outputs": [],
   "source": [
    "list(range(0,9))\n",
    "set(range(0,9))\n",
    "set([0, 1, 2, 3, 4, 5, 6, 7, 8])"
   ]
  },
  {
   "cell_type": "markdown",
   "id": "e1460dbd-4008-4960-a3f5-71b42bd4cdeb",
   "metadata": {},
   "source": [
    "Auch bei Listen gibt es ein paar Besonderheiten in Python. Es gibt Situationen, in denen nur runde oder nur eckige Klammern funktionieren. Zum Beispiel braucht man für Listen der Länge 1 eckige Klammern. "
   ]
  },
  {
   "cell_type": "code",
   "execution_count": null,
   "id": "9af96e5a-c167-4910-8482-f49adee82709",
   "metadata": {},
   "outputs": [],
   "source": [
    "[1]\n",
    "(1)\n",
    "(1,2) == [1,2]"
   ]
  },
  {
   "cell_type": "markdown",
   "id": "cb0ecd1e-f403-4fbb-a98e-42074f704345",
   "metadata": {},
   "source": [
    "<h2>3.3 Mengenkonstruktoren</h2>"
   ]
  },
  {
   "cell_type": "markdown",
   "id": "cf507615-a980-43d3-91b4-459820dc1d7c",
   "metadata": {},
   "source": [
    "Anstatt alle Elemente einer Liste oder Menge aufzuzählen, können diese auch durch Angabe einer Grundmenge und einem logischen Ausdruck konstruiert werden. Die Notation in Python ähnelt dabei der in der Mathematik üblichen Notation. Für Mengen wird dies auch als <i>Set Comprehension</i> oder <i>Set Builder</i> Notation bezeichnet."
   ]
  },
  {
   "cell_type": "code",
   "execution_count": null,
   "id": "e207e68d-1e1e-45df-a570-3f011eab79cc",
   "metadata": {},
   "outputs": [],
   "source": [
    "[x for x in range(-10,11)]\n",
    "[x*y for x in range(0,3) for y in range(0,3) if x+y > 2]\n",
    "[w for w in CartProd({True,False},{True,False})]"
   ]
  },
  {
   "cell_type": "code",
   "execution_count": null,
   "id": "bc70ad06-1bfd-4491-8d47-87cc6e1dcb37",
   "metadata": {},
   "outputs": [],
   "source": [
    "{x for x in range(-10,11)}\n",
    "{x for x in range(-10,11) if 2*x >= 3 and x-1 <= 6}\n",
    "{(x,y) for x in range(0,3) for y in range(0,3)}\n",
    "{x*y for x in range(0,3) for y in range(0,3) if x+y > 2}\n",
    "{w for w in CartProd({True,False},{True,False})}"
   ]
  },
  {
   "cell_type": "markdown",
   "id": "d43011bd-97b5-47a3-8c7a-c9d814757e4e",
   "metadata": {},
   "source": [
    "Dabei müssen für die inneren Listen runde Klammern verwendet werden, {[x,y] for x ...} funktioniert nicht.\n",
    "\n",
    "Man kann auf diese Art auch Mengen von Mengen bilden. Wobei die inneren Mengen frozensets sein müssen:"
   ]
  },
  {
   "cell_type": "code",
   "execution_count": null,
   "id": "a7d2c764-07e0-4d30-8fa0-e33bc3d39219",
   "metadata": {},
   "outputs": [],
   "source": [
    "{fs({x,y}) for x in range(-1,2) for y in range(-1,2) if x<y}\n",
    "{set for set in PowerSet(set({1,2,3})) if 3 in set}"
   ]
  },
  {
   "cell_type": "markdown",
   "id": "6e4e6cdc-9576-40a8-9496-f0c9e8d3bb97",
   "metadata": {},
   "source": [
    "<h2>3.3 Übungsaufgaben</h2>\n",
    "\n",
    "Übersetzen Sie die folgenden mathematisch notierten Mengenkonstruktoren nach Python:\n",
    "\n",
    "$\\{x : x \\in \\{0,1,2,3,4\\} \\mid x \\mbox{ mod } 3 = 1\\}$\n",
    "\n",
    "$\\{x + 4 : x \\in \\{0,2,4,6,8\\}\\}$"
   ]
  },
  {
   "cell_type": "code",
   "execution_count": null,
   "id": "263f09a3-160b-442e-8d3b-efdc3fdfa8e7",
   "metadata": {},
   "outputs": [],
   "source": [
    "TODO"
   ]
  },
  {
   "cell_type": "markdown",
   "id": "2085430c-a15f-495e-ad31-bd98d7cd7bee",
   "metadata": {},
   "source": [
    "<h1>Teil 4: Quantifizierte logische Aussagen </h1>\n",
    "\n",
    "Dieser Teil des Tutorials gehört zu Kapitel 6 des Lehrbuchs."
   ]
  },
  {
   "cell_type": "markdown",
   "id": "7e198b08-de1d-49e3-9012-c0ddb780c877",
   "metadata": {},
   "source": [
    "In Python ist die Reihenfolge der Ausdrücke hinter einem Quantor im Vergleich zur Mathematik vertauscht. In der Mathematik schreibt man <b>$\\forall$ (MENGE $\\mid$ PRÄDIKAT)</b>. In Python entspricht das <b>all(PRÄDIKAT for MENGE)</b>. Zum Beispiel entspricht $\\forall (x \\in \\{0, 1, ..., 5\\} \\mid x < 5 )$ in Python: <i>all(x < 5 for x in range(0,6))</i>. Sprachlich könnte das erste als \"Für alle x in $\\{0, 1, ..., 5\\}$ gilt, x kleiner 5\" und das zweite als \"x kleiner 5, gilt für alle x in $\\{0, 1, ..., 5\\}$\" dargestellt werden."
   ]
  },
  {
   "cell_type": "code",
   "execution_count": null,
   "id": "7c28a65f-cc8e-4238-bea4-eadcecf93979",
   "metadata": {},
   "outputs": [],
   "source": [
    "all(x < 5 for x in range(0,7))"
   ]
  },
  {
   "cell_type": "markdown",
   "id": "8c5c203c-8d77-45e1-a80f-63adc65c96b6",
   "metadata": {},
   "source": [
    "Auch geschachtelte Quantoren lassen sich konstruieren. Die mathematischen Aussagen\n",
    "$\\forall (y \\in \\{3,4,5\\} \\mid \\exists (x \\in \\{1,5,6\\} \\mid y > x ))$<br>\n",
    "$\\forall (y \\in \\{3,4,5\\} \\mid \\exists (x \\in \\{4,5,6\\} \\mid y > x ))$<br>\n",
    "$\\forall (y \\in \\{3,4,5\\} \\mid \\forall (x \\in \\{1,5,6\\} \\mid y > x ))$<br>\n",
    "werden in Python so dargestellt:"
   ]
  },
  {
   "cell_type": "code",
   "execution_count": null,
   "id": "bc78a753-4930-4a9e-94d6-1852664f57ed",
   "metadata": {},
   "outputs": [],
   "source": [
    "all(any(y > x for x in {1,5,6}) for y in {3,4,5})\n",
    "all(any(y > x for x in {4,5,6}) for y in {3,4,5})\n",
    "all(all(y > x for x in {1,5,6}) for y in {3,4,5})"
   ]
  },
  {
   "cell_type": "markdown",
   "id": "9a4ee415-6699-4e8e-82fa-2f4a2987b1e6",
   "metadata": {},
   "source": [
    "Gleiche Quantoren kann man auch zusammenfassen:"
   ]
  },
  {
   "cell_type": "code",
   "execution_count": null,
   "id": "0770c9fc-e794-4914-8170-d75ff441f20c",
   "metadata": {},
   "outputs": [],
   "source": [
    "all(y > x for x in {1,5,6} for y in {3,4,5})"
   ]
  },
  {
   "cell_type": "markdown",
   "id": "989cd9b6-4179-48b2-9e41-702cefba7e32",
   "metadata": {},
   "source": [
    "Wenn man sich die gleichen Konstruktoren als Listen anschaut, anstatt die Quantoren zu verwenden, kann man die \n",
    "einzelnen Werte sehen. Für \"all(any(...))\" muss in <b>jedem</b> inneren Tupel <b>ein</b> True vorkommen. Für \"all(all(...))\" müssen in <b>jedem</b> inneren Tupel <b>alle</b> Werte True sein. Und so weiter."
   ]
  },
  {
   "cell_type": "code",
   "execution_count": null,
   "id": "58abb61d-2d71-4469-bd71-6bb95d9f00a2",
   "metadata": {},
   "outputs": [],
   "source": [
    "[[y > x for x in {1,5,6}] for y in {3,4,5}]\n",
    "[[y > x for x in {4,5,6}] for y in {3,4,5}]\n",
    "[y > x for x in {1,5,6} for y in {3,4,5}]"
   ]
  },
  {
   "cell_type": "code",
   "execution_count": null,
   "id": "b9404722-dda1-449b-b1a5-261b3642e30c",
   "metadata": {},
   "outputs": [],
   "source": []
  }
 ],
 "metadata": {
  "kernelspec": {
   "display_name": "Python 3 (ipykernel)",
   "language": "python",
   "name": "python3"
  },
  "language_info": {
   "codemirror_mode": {
    "name": "ipython",
    "version": 3
   },
   "file_extension": ".py",
   "mimetype": "text/x-python",
   "name": "python",
   "nbconvert_exporter": "python",
   "pygments_lexer": "ipython3",
   "version": "3.13.0"
  }
 },
 "nbformat": 4,
 "nbformat_minor": 5
}
